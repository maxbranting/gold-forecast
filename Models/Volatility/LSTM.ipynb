{
 "cells": [
  {
   "cell_type": "code",
   "execution_count": 1,
   "metadata": {},
   "outputs": [
    {
     "name": "stderr",
     "output_type": "stream",
     "text": [
      "Using TensorFlow backend.\n",
      "e:\\anaconda\\envs\\shapenv\\lib\\site-packages\\tensorflow\\python\\framework\\dtypes.py:516: FutureWarning: Passing (type, 1) or '1type' as a synonym of type is deprecated; in a future version of numpy, it will be understood as (type, (1,)) / '(1,)type'.\n",
      "  _np_qint8 = np.dtype([(\"qint8\", np.int8, 1)])\n",
      "e:\\anaconda\\envs\\shapenv\\lib\\site-packages\\tensorflow\\python\\framework\\dtypes.py:517: FutureWarning: Passing (type, 1) or '1type' as a synonym of type is deprecated; in a future version of numpy, it will be understood as (type, (1,)) / '(1,)type'.\n",
      "  _np_quint8 = np.dtype([(\"quint8\", np.uint8, 1)])\n",
      "e:\\anaconda\\envs\\shapenv\\lib\\site-packages\\tensorflow\\python\\framework\\dtypes.py:518: FutureWarning: Passing (type, 1) or '1type' as a synonym of type is deprecated; in a future version of numpy, it will be understood as (type, (1,)) / '(1,)type'.\n",
      "  _np_qint16 = np.dtype([(\"qint16\", np.int16, 1)])\n",
      "e:\\anaconda\\envs\\shapenv\\lib\\site-packages\\tensorflow\\python\\framework\\dtypes.py:519: FutureWarning: Passing (type, 1) or '1type' as a synonym of type is deprecated; in a future version of numpy, it will be understood as (type, (1,)) / '(1,)type'.\n",
      "  _np_quint16 = np.dtype([(\"quint16\", np.uint16, 1)])\n",
      "e:\\anaconda\\envs\\shapenv\\lib\\site-packages\\tensorflow\\python\\framework\\dtypes.py:520: FutureWarning: Passing (type, 1) or '1type' as a synonym of type is deprecated; in a future version of numpy, it will be understood as (type, (1,)) / '(1,)type'.\n",
      "  _np_qint32 = np.dtype([(\"qint32\", np.int32, 1)])\n",
      "e:\\anaconda\\envs\\shapenv\\lib\\site-packages\\tensorflow\\python\\framework\\dtypes.py:525: FutureWarning: Passing (type, 1) or '1type' as a synonym of type is deprecated; in a future version of numpy, it will be understood as (type, (1,)) / '(1,)type'.\n",
      "  np_resource = np.dtype([(\"resource\", np.ubyte, 1)])\n",
      "e:\\anaconda\\envs\\shapenv\\lib\\site-packages\\tensorboard\\compat\\tensorflow_stub\\dtypes.py:541: FutureWarning: Passing (type, 1) or '1type' as a synonym of type is deprecated; in a future version of numpy, it will be understood as (type, (1,)) / '(1,)type'.\n",
      "  _np_qint8 = np.dtype([(\"qint8\", np.int8, 1)])\n",
      "e:\\anaconda\\envs\\shapenv\\lib\\site-packages\\tensorboard\\compat\\tensorflow_stub\\dtypes.py:542: FutureWarning: Passing (type, 1) or '1type' as a synonym of type is deprecated; in a future version of numpy, it will be understood as (type, (1,)) / '(1,)type'.\n",
      "  _np_quint8 = np.dtype([(\"quint8\", np.uint8, 1)])\n",
      "e:\\anaconda\\envs\\shapenv\\lib\\site-packages\\tensorboard\\compat\\tensorflow_stub\\dtypes.py:543: FutureWarning: Passing (type, 1) or '1type' as a synonym of type is deprecated; in a future version of numpy, it will be understood as (type, (1,)) / '(1,)type'.\n",
      "  _np_qint16 = np.dtype([(\"qint16\", np.int16, 1)])\n",
      "e:\\anaconda\\envs\\shapenv\\lib\\site-packages\\tensorboard\\compat\\tensorflow_stub\\dtypes.py:544: FutureWarning: Passing (type, 1) or '1type' as a synonym of type is deprecated; in a future version of numpy, it will be understood as (type, (1,)) / '(1,)type'.\n",
      "  _np_quint16 = np.dtype([(\"quint16\", np.uint16, 1)])\n",
      "e:\\anaconda\\envs\\shapenv\\lib\\site-packages\\tensorboard\\compat\\tensorflow_stub\\dtypes.py:545: FutureWarning: Passing (type, 1) or '1type' as a synonym of type is deprecated; in a future version of numpy, it will be understood as (type, (1,)) / '(1,)type'.\n",
      "  _np_qint32 = np.dtype([(\"qint32\", np.int32, 1)])\n",
      "e:\\anaconda\\envs\\shapenv\\lib\\site-packages\\tensorboard\\compat\\tensorflow_stub\\dtypes.py:550: FutureWarning: Passing (type, 1) or '1type' as a synonym of type is deprecated; in a future version of numpy, it will be understood as (type, (1,)) / '(1,)type'.\n",
      "  np_resource = np.dtype([(\"resource\", np.ubyte, 1)])\n"
     ]
    }
   ],
   "source": [
    "import os\n",
    "import numpy as np # linear algebra\n",
    "from numpy import newaxis\n",
    "import pandas as pd # data processing, CSV file I/O (e.g. pd.read_csv)\n",
    "from keras.layers.core import Dense, Activation, Dropout\n",
    "from keras.layers import LSTM\n",
    "from keras.models import Sequential\n",
    "from keras import optimizers\n",
    "from sklearn.preprocessing import MinMaxScaler\n",
    "import matplotlib.pyplot as plt\n",
    "from tensorflow.keras.optimizers import Adam # this for python 3.10\n",
    "import math, time\n",
    "from sklearn.metrics import mean_absolute_error, mean_absolute_percentage_error, mean_squared_error\n",
    "import shap"
   ]
  },
  {
   "attachments": {},
   "cell_type": "markdown",
   "metadata": {},
   "source": [
    "If running shap change version variable to 3.7, if not set to anthing else."
   ]
  },
  {
   "cell_type": "code",
   "execution_count": 2,
   "metadata": {},
   "outputs": [
    {
     "data": {
      "text/plain": [
       "True"
      ]
     },
     "execution_count": 2,
     "metadata": {},
     "output_type": "execute_result"
    }
   ],
   "source": [
    "from sys import version\n",
    "versioncheck = version[:3] == '3.7'\n",
    "versioncheck"
   ]
  },
  {
   "cell_type": "code",
   "execution_count": 3,
   "metadata": {},
   "outputs": [],
   "source": [
    "if versioncheck:\n",
    "    from keras.optimizers import Adam\n",
    "else:\n",
    "    pass"
   ]
  },
  {
   "cell_type": "code",
   "execution_count": 4,
   "metadata": {},
   "outputs": [],
   "source": [
    "os.chdir('../..')"
   ]
  },
  {
   "cell_type": "code",
   "execution_count": 5,
   "metadata": {},
   "outputs": [],
   "source": [
    "dataset = pd.read_csv('data/data_returns_clean.csv', sep=';',  index_col='date',  parse_dates=['date'])"
   ]
  },
  {
   "cell_type": "code",
   "execution_count": 6,
   "metadata": {},
   "outputs": [
    {
     "data": {
      "text/html": [
       "<div>\n",
       "<style scoped>\n",
       "    .dataframe tbody tr th:only-of-type {\n",
       "        vertical-align: middle;\n",
       "    }\n",
       "\n",
       "    .dataframe tbody tr th {\n",
       "        vertical-align: top;\n",
       "    }\n",
       "\n",
       "    .dataframe thead th {\n",
       "        text-align: right;\n",
       "    }\n",
       "</style>\n",
       "<table border=\"1\" class=\"dataframe\">\n",
       "  <thead>\n",
       "    <tr style=\"text-align: right;\">\n",
       "      <th></th>\n",
       "      <th>Gold</th>\n",
       "    </tr>\n",
       "    <tr>\n",
       "      <th>date</th>\n",
       "      <th></th>\n",
       "    </tr>\n",
       "  </thead>\n",
       "  <tbody>\n",
       "    <tr>\n",
       "      <th>1986-01-02</th>\n",
       "      <td>NaN</td>\n",
       "    </tr>\n",
       "    <tr>\n",
       "      <th>1986-01-03</th>\n",
       "      <td>0.001379</td>\n",
       "    </tr>\n",
       "    <tr>\n",
       "      <th>1986-01-06</th>\n",
       "      <td>0.003826</td>\n",
       "    </tr>\n",
       "    <tr>\n",
       "      <th>1986-01-07</th>\n",
       "      <td>0.006098</td>\n",
       "    </tr>\n",
       "    <tr>\n",
       "      <th>1986-01-08</th>\n",
       "      <td>0.007879</td>\n",
       "    </tr>\n",
       "    <tr>\n",
       "      <th>...</th>\n",
       "      <td>...</td>\n",
       "    </tr>\n",
       "    <tr>\n",
       "      <th>2022-12-30</th>\n",
       "      <td>0.000000</td>\n",
       "    </tr>\n",
       "    <tr>\n",
       "      <th>2023-01-03</th>\n",
       "      <td>0.016265</td>\n",
       "    </tr>\n",
       "    <tr>\n",
       "      <th>2023-01-04</th>\n",
       "      <td>0.007622</td>\n",
       "    </tr>\n",
       "    <tr>\n",
       "      <th>2023-01-05</th>\n",
       "      <td>-0.012545</td>\n",
       "    </tr>\n",
       "    <tr>\n",
       "      <th>2023-01-06</th>\n",
       "      <td>0.009924</td>\n",
       "    </tr>\n",
       "  </tbody>\n",
       "</table>\n",
       "<p>9149 rows × 1 columns</p>\n",
       "</div>"
      ],
      "text/plain": [
       "                Gold\n",
       "date                \n",
       "1986-01-02       NaN\n",
       "1986-01-03  0.001379\n",
       "1986-01-06  0.003826\n",
       "1986-01-07  0.006098\n",
       "1986-01-08  0.007879\n",
       "...              ...\n",
       "2022-12-30  0.000000\n",
       "2023-01-03  0.016265\n",
       "2023-01-04  0.007622\n",
       "2023-01-05 -0.012545\n",
       "2023-01-06  0.009924\n",
       "\n",
       "[9149 rows x 1 columns]"
      ]
     },
     "execution_count": 6,
     "metadata": {},
     "output_type": "execute_result"
    }
   ],
   "source": [
    "pd.DataFrame(dataset['Gold'])"
   ]
  },
  {
   "cell_type": "code",
   "execution_count": 7,
   "metadata": {},
   "outputs": [],
   "source": [
    "df = pd.DataFrame(dataset['Gold'].copy())\n",
    "\n",
    "df['Gold'] = df.Gold.rolling(20).std()\n",
    "df = df.dropna()"
   ]
  },
  {
   "attachments": {},
   "cell_type": "markdown",
   "metadata": {},
   "source": [
    "lagging gold col"
   ]
  },
  {
   "cell_type": "code",
   "execution_count": 8,
   "metadata": {},
   "outputs": [],
   "source": [
    "df['GoldLag']  = df['Gold'].shift(20)\n",
    "df = df.dropna()"
   ]
  },
  {
   "cell_type": "code",
   "execution_count": 9,
   "metadata": {},
   "outputs": [
    {
     "data": {
      "text/html": [
       "<div>\n",
       "<style scoped>\n",
       "    .dataframe tbody tr th:only-of-type {\n",
       "        vertical-align: middle;\n",
       "    }\n",
       "\n",
       "    .dataframe tbody tr th {\n",
       "        vertical-align: top;\n",
       "    }\n",
       "\n",
       "    .dataframe thead th {\n",
       "        text-align: right;\n",
       "    }\n",
       "</style>\n",
       "<table border=\"1\" class=\"dataframe\">\n",
       "  <thead>\n",
       "    <tr style=\"text-align: right;\">\n",
       "      <th></th>\n",
       "      <th>Gold</th>\n",
       "      <th>GoldLag</th>\n",
       "    </tr>\n",
       "    <tr>\n",
       "      <th>date</th>\n",
       "      <th></th>\n",
       "      <th></th>\n",
       "    </tr>\n",
       "  </thead>\n",
       "  <tbody>\n",
       "    <tr>\n",
       "      <th>1986-02-28</th>\n",
       "      <td>0.014826</td>\n",
       "      <td>0.015446</td>\n",
       "    </tr>\n",
       "    <tr>\n",
       "      <th>1986-03-03</th>\n",
       "      <td>0.014251</td>\n",
       "      <td>0.016476</td>\n",
       "    </tr>\n",
       "    <tr>\n",
       "      <th>1986-03-04</th>\n",
       "      <td>0.014225</td>\n",
       "      <td>0.016721</td>\n",
       "    </tr>\n",
       "    <tr>\n",
       "      <th>1986-03-05</th>\n",
       "      <td>0.013410</td>\n",
       "      <td>0.017831</td>\n",
       "    </tr>\n",
       "    <tr>\n",
       "      <th>1986-03-06</th>\n",
       "      <td>0.013491</td>\n",
       "      <td>0.017800</td>\n",
       "    </tr>\n",
       "    <tr>\n",
       "      <th>...</th>\n",
       "      <td>...</td>\n",
       "      <td>...</td>\n",
       "    </tr>\n",
       "    <tr>\n",
       "      <th>2022-12-30</th>\n",
       "      <td>0.010135</td>\n",
       "      <td>0.009780</td>\n",
       "    </tr>\n",
       "    <tr>\n",
       "      <th>2023-01-03</th>\n",
       "      <td>0.008733</td>\n",
       "      <td>0.011269</td>\n",
       "    </tr>\n",
       "    <tr>\n",
       "      <th>2023-01-04</th>\n",
       "      <td>0.008419</td>\n",
       "      <td>0.011088</td>\n",
       "    </tr>\n",
       "    <tr>\n",
       "      <th>2023-01-05</th>\n",
       "      <td>0.008926</td>\n",
       "      <td>0.009784</td>\n",
       "    </tr>\n",
       "    <tr>\n",
       "      <th>2023-01-06</th>\n",
       "      <td>0.009076</td>\n",
       "      <td>0.009841</td>\n",
       "    </tr>\n",
       "  </tbody>\n",
       "</table>\n",
       "<p>9109 rows × 2 columns</p>\n",
       "</div>"
      ],
      "text/plain": [
       "                Gold   GoldLag\n",
       "date                          \n",
       "1986-02-28  0.014826  0.015446\n",
       "1986-03-03  0.014251  0.016476\n",
       "1986-03-04  0.014225  0.016721\n",
       "1986-03-05  0.013410  0.017831\n",
       "1986-03-06  0.013491  0.017800\n",
       "...              ...       ...\n",
       "2022-12-30  0.010135  0.009780\n",
       "2023-01-03  0.008733  0.011269\n",
       "2023-01-04  0.008419  0.011088\n",
       "2023-01-05  0.008926  0.009784\n",
       "2023-01-06  0.009076  0.009841\n",
       "\n",
       "[9109 rows x 2 columns]"
      ]
     },
     "execution_count": 9,
     "metadata": {},
     "output_type": "execute_result"
    }
   ],
   "source": [
    "df"
   ]
  },
  {
   "attachments": {},
   "cell_type": "markdown",
   "metadata": {},
   "source": [
    "---\n",
    "# LSTM\n",
    "## Period 1"
   ]
  },
  {
   "cell_type": "code",
   "execution_count": 10,
   "metadata": {},
   "outputs": [],
   "source": [
    "X_train, y_train = df['GoldLag'].iloc[:-60].values, df['Gold'].iloc[:-60].values\n",
    "X_test, y_test = df['GoldLag'].iloc[-60:-40].values, df['Gold'].iloc[-60:-40].values"
   ]
  },
  {
   "cell_type": "code",
   "execution_count": 11,
   "metadata": {},
   "outputs": [],
   "source": [
    "scx = MinMaxScaler(feature_range=(0,1))\n",
    "scy = MinMaxScaler(feature_range=(0,1))\n",
    "X_trains = scx.fit_transform(X_train.reshape(-1,1))\n",
    "y_trains = scy.fit_transform(y_train.reshape(-1,1))"
   ]
  },
  {
   "cell_type": "code",
   "execution_count": 12,
   "metadata": {},
   "outputs": [],
   "source": [
    "adam = Adam(lr=0.001)"
   ]
  },
  {
   "cell_type": "code",
   "execution_count": 13,
   "metadata": {},
   "outputs": [],
   "source": [
    "# this is needed for python 3.7 , for keras and tf in python 3.10 comment out this cell\n",
    "if versioncheck:\n",
    "    from numpy import newaxis\n",
    "\n",
    "    X_trains =X_trains[:,:,newaxis]\n",
    "    y_trains.reshape(1,-1)\n",
    "else:\n",
    "    pass"
   ]
  },
  {
   "cell_type": "code",
   "execution_count": 14,
   "metadata": {},
   "outputs": [
    {
     "name": "stdout",
     "output_type": "stream",
     "text": [
      "model compiled\n",
      "Model: \"sequential_1\"\n",
      "_________________________________________________________________\n",
      "Layer (type)                 Output Shape              Param #   \n",
      "=================================================================\n",
      "lstm_1 (LSTM)                (None, 1, 50)             10400     \n",
      "_________________________________________________________________\n",
      "dropout_1 (Dropout)          (None, 1, 50)             0         \n",
      "_________________________________________________________________\n",
      "lstm_2 (LSTM)                (None, 1, 100)            60400     \n",
      "_________________________________________________________________\n",
      "dropout_2 (Dropout)          (None, 1, 100)            0         \n",
      "_________________________________________________________________\n",
      "lstm_3 (LSTM)                (None, 200)               240800    \n",
      "_________________________________________________________________\n",
      "dropout_3 (Dropout)          (None, 200)               0         \n",
      "_________________________________________________________________\n",
      "dense_1 (Dense)              (None, 1)                 201       \n",
      "=================================================================\n",
      "Total params: 311,801\n",
      "Trainable params: 311,801\n",
      "Non-trainable params: 0\n",
      "_________________________________________________________________\n",
      "None\n"
     ]
    }
   ],
   "source": [
    "model = Sequential()\n",
    "model.add(LSTM(50, activation='relu', return_sequences=True, input_shape=(X_trains.shape[1],1)))\n",
    "model.add(Dropout(0.2))\n",
    "model.add(LSTM(100, return_sequences=True))\n",
    "model.add(Dropout(0.2))\n",
    "model.add(LSTM(200, return_sequences=False))\n",
    "model.add(Dropout(0.2))\n",
    "model.add(Dense(1, activation = \"relu\"))\n",
    "\n",
    "model.compile(loss='mse', optimizer=adam)\n",
    "\n",
    "print ('model compiled')\n",
    "\n",
    "print (model.summary())"
   ]
  },
  {
   "cell_type": "code",
   "execution_count": 15,
   "metadata": {},
   "outputs": [
    {
     "name": "stdout",
     "output_type": "stream",
     "text": [
      "WARNING:tensorflow:From e:\\anaconda\\envs\\shapenv\\lib\\site-packages\\keras\\backend\\tensorflow_backend.py:422: The name tf.global_variables is deprecated. Please use tf.compat.v1.global_variables instead.\n",
      "\n",
      "Epoch 1/100\n",
      " - 2s - loss: 0.0192\n",
      "Epoch 2/100\n",
      " - 1s - loss: 0.0120\n",
      "Epoch 3/100\n",
      " - 1s - loss: 0.0119\n",
      "Epoch 4/100\n",
      " - 1s - loss: 0.0120\n",
      "Epoch 5/100\n",
      " - 1s - loss: 0.0119\n",
      "Epoch 6/100\n",
      " - 1s - loss: 0.0121\n",
      "Epoch 7/100\n",
      " - 1s - loss: 0.0120\n",
      "Epoch 8/100\n",
      " - 1s - loss: 0.0119\n",
      "Epoch 9/100\n",
      " - 1s - loss: 0.0120\n",
      "Epoch 10/100\n",
      " - 1s - loss: 0.0120\n",
      "Epoch 11/100\n",
      " - 1s - loss: 0.0120\n",
      "Epoch 12/100\n",
      " - 1s - loss: 0.0118\n",
      "Epoch 13/100\n",
      " - 1s - loss: 0.0119\n",
      "Epoch 14/100\n",
      " - 1s - loss: 0.0119\n",
      "Epoch 15/100\n",
      " - 1s - loss: 0.0120\n",
      "Epoch 16/100\n",
      " - 1s - loss: 0.0119\n",
      "Epoch 17/100\n",
      " - 1s - loss: 0.0120\n",
      "Epoch 18/100\n",
      " - 1s - loss: 0.0118\n",
      "Epoch 19/100\n",
      " - 1s - loss: 0.0118\n",
      "Epoch 20/100\n",
      " - 1s - loss: 0.0118\n",
      "Epoch 21/100\n",
      " - 1s - loss: 0.0119\n",
      "Epoch 22/100\n",
      " - 1s - loss: 0.0119\n",
      "Epoch 23/100\n",
      " - 1s - loss: 0.0118\n",
      "Epoch 24/100\n",
      " - 1s - loss: 0.0118\n",
      "Epoch 25/100\n",
      " - 1s - loss: 0.0119\n",
      "Epoch 26/100\n",
      " - 1s - loss: 0.0119\n",
      "Epoch 27/100\n",
      " - 1s - loss: 0.0119\n",
      "Epoch 28/100\n",
      " - 1s - loss: 0.0119\n",
      "Epoch 29/100\n",
      " - 1s - loss: 0.0119\n",
      "Epoch 30/100\n",
      " - 1s - loss: 0.0118\n",
      "Epoch 31/100\n",
      " - 1s - loss: 0.0119\n",
      "Epoch 32/100\n",
      " - 1s - loss: 0.0118\n",
      "Epoch 33/100\n",
      " - 1s - loss: 0.0118\n",
      "Epoch 34/100\n",
      " - 1s - loss: 0.0119\n",
      "Epoch 35/100\n",
      " - 1s - loss: 0.0119\n",
      "Epoch 36/100\n",
      " - 1s - loss: 0.0118\n",
      "Epoch 37/100\n",
      " - 1s - loss: 0.0118\n",
      "Epoch 38/100\n",
      " - 1s - loss: 0.0118\n",
      "Epoch 39/100\n",
      " - 1s - loss: 0.0119\n",
      "Epoch 40/100\n",
      " - 1s - loss: 0.0117\n",
      "Epoch 41/100\n",
      " - 1s - loss: 0.0118\n",
      "Epoch 42/100\n",
      " - 1s - loss: 0.0118\n",
      "Epoch 43/100\n",
      " - 1s - loss: 0.0118\n",
      "Epoch 44/100\n",
      " - 1s - loss: 0.0118\n",
      "Epoch 45/100\n",
      " - 1s - loss: 0.0118\n",
      "Epoch 46/100\n",
      " - 1s - loss: 0.0117\n",
      "Epoch 47/100\n",
      " - 1s - loss: 0.0118\n",
      "Epoch 48/100\n",
      " - 1s - loss: 0.0119\n",
      "Epoch 49/100\n",
      " - 1s - loss: 0.0119\n",
      "Epoch 50/100\n",
      " - 1s - loss: 0.0119\n",
      "Epoch 51/100\n",
      " - 1s - loss: 0.0118\n",
      "Epoch 52/100\n",
      " - 1s - loss: 0.0118\n",
      "Epoch 53/100\n",
      " - 1s - loss: 0.0119\n",
      "Epoch 54/100\n",
      " - 1s - loss: 0.0119\n",
      "Epoch 55/100\n",
      " - 1s - loss: 0.0118\n",
      "Epoch 56/100\n",
      " - 1s - loss: 0.0117\n",
      "Epoch 57/100\n",
      " - 1s - loss: 0.0118\n",
      "Epoch 58/100\n",
      " - 1s - loss: 0.0118\n",
      "Epoch 59/100\n",
      " - 1s - loss: 0.0120\n",
      "Epoch 60/100\n",
      " - 1s - loss: 0.0118\n",
      "Epoch 61/100\n",
      " - 1s - loss: 0.0117\n",
      "Epoch 62/100\n",
      " - 1s - loss: 0.0118\n",
      "Epoch 63/100\n",
      " - 1s - loss: 0.0118\n",
      "Epoch 64/100\n",
      " - 1s - loss: 0.0119\n",
      "Epoch 65/100\n",
      " - 1s - loss: 0.0118\n",
      "Epoch 66/100\n",
      " - 1s - loss: 0.0118\n",
      "Epoch 67/100\n",
      " - 1s - loss: 0.0118\n",
      "Epoch 68/100\n",
      " - 1s - loss: 0.0118\n",
      "Epoch 69/100\n",
      " - 1s - loss: 0.0119\n",
      "Epoch 70/100\n",
      " - 1s - loss: 0.0118\n",
      "Epoch 71/100\n",
      " - 1s - loss: 0.0118\n",
      "Epoch 72/100\n",
      " - 1s - loss: 0.0118\n",
      "Epoch 73/100\n",
      " - 1s - loss: 0.0118\n",
      "Epoch 74/100\n",
      " - 1s - loss: 0.0117\n",
      "Epoch 75/100\n",
      " - 1s - loss: 0.0118\n",
      "Epoch 76/100\n",
      " - 1s - loss: 0.0117\n",
      "Epoch 77/100\n",
      " - 1s - loss: 0.0118\n",
      "Epoch 78/100\n",
      " - 1s - loss: 0.0118\n",
      "Epoch 79/100\n",
      " - 1s - loss: 0.0117\n",
      "Epoch 80/100\n",
      " - 1s - loss: 0.0117\n",
      "Epoch 81/100\n",
      " - 1s - loss: 0.0117\n",
      "Epoch 82/100\n",
      " - 1s - loss: 0.0117\n",
      "Epoch 83/100\n",
      " - 1s - loss: 0.0117\n",
      "Epoch 84/100\n",
      " - 1s - loss: 0.0117\n",
      "Epoch 85/100\n",
      " - 1s - loss: 0.0117\n",
      "Epoch 86/100\n",
      " - 1s - loss: 0.0117\n",
      "Epoch 87/100\n",
      " - 1s - loss: 0.0117\n",
      "Epoch 88/100\n",
      " - 1s - loss: 0.0116\n",
      "Epoch 89/100\n",
      " - 1s - loss: 0.0116\n",
      "Epoch 90/100\n",
      " - 1s - loss: 0.0117\n",
      "Epoch 91/100\n",
      " - 1s - loss: 0.0117\n",
      "Epoch 92/100\n",
      " - 1s - loss: 0.0116\n",
      "Epoch 93/100\n",
      " - 1s - loss: 0.0116\n",
      "Epoch 94/100\n",
      " - 1s - loss: 0.0116\n",
      "Epoch 95/100\n",
      " - 1s - loss: 0.0117\n",
      "Epoch 96/100\n",
      " - 1s - loss: 0.0116\n",
      "Epoch 97/100\n",
      " - 2s - loss: 0.0117\n",
      "Epoch 98/100\n",
      " - 2s - loss: 0.0116\n",
      "Epoch 99/100\n",
      " - 1s - loss: 0.0116\n",
      "Epoch 100/100\n",
      " - 1s - loss: 0.0116\n"
     ]
    }
   ],
   "source": [
    "history = model.fit(X_trains, y_trains, batch_size=64, epochs=100, verbose=2, use_multiprocessing=True)"
   ]
  },
  {
   "cell_type": "code",
   "execution_count": 16,
   "metadata": {},
   "outputs": [
    {
     "data": {
      "image/png": "[encoded data removed]",
      "text/plain": [
       "<Figure size 800x500 with 1 Axes>"
      ]
     },
     "metadata": {},
     "output_type": "display_data"
    }
   ],
   "source": [
    "pd.DataFrame(history.history).plot(figsize=(8,5))\n",
    "plt.title('LSTM loss graph')\n",
    "plt.show()"
   ]
  },
  {
   "cell_type": "code",
   "execution_count": 17,
   "metadata": {},
   "outputs": [],
   "source": [
    "sctsx = MinMaxScaler(feature_range=(0,1))\n",
    "sctsx.fit(X_test.reshape(-1,1))\n",
    "X_tests = sctsx.transform(X_test.reshape(-1,1))"
   ]
  },
  {
   "cell_type": "code",
   "execution_count": 18,
   "metadata": {},
   "outputs": [
    {
     "data": {
      "text/plain": [
       "MinMaxScaler()"
      ]
     },
     "execution_count": 18,
     "metadata": {},
     "output_type": "execute_result"
    }
   ],
   "source": [
    "sctsy = MinMaxScaler(feature_range=(0,1))\n",
    "sctsy.fit(y_test.reshape(-1,1))"
   ]
  },
  {
   "cell_type": "code",
   "execution_count": 19,
   "metadata": {},
   "outputs": [],
   "source": [
    "# version check for reshape\n",
    "if versioncheck:\n",
    "    X_tests =X_tests[:,:,newaxis]\n",
    "else:\n",
    "    pass"
   ]
  },
  {
   "cell_type": "code",
   "execution_count": 20,
   "metadata": {},
   "outputs": [],
   "source": [
    "fhats = model.predict(X_tests)"
   ]
  },
  {
   "cell_type": "code",
   "execution_count": 21,
   "metadata": {},
   "outputs": [],
   "source": [
    "hat_inv = sctsy.inverse_transform(fhats)\n",
    "uhat_inv_p1 = hat_inv"
   ]
  },
  {
   "cell_type": "code",
   "execution_count": 22,
   "metadata": {},
   "outputs": [
    {
     "data": {
      "image/png": "[encoded data removed]",
      "text/plain": [
       "<Figure size 640x480 with 1 Axes>"
      ]
     },
     "metadata": {},
     "output_type": "display_data"
    },
    {
     "data": {
      "text/plain": [
       "<Figure size 640x480 with 0 Axes>"
      ]
     },
     "metadata": {},
     "output_type": "display_data"
    }
   ],
   "source": [
    "plt.plot(y_test, color='lightblue', label='Actual Gold Volatility')\n",
    "plt.plot(hat_inv, color='red',label='Predicted Gold Volatility')\n",
    "plt.title('LSTM forecast - period 1')\n",
    "plt.legend()\n",
    "plt.show()\n",
    "plt.clf()"
   ]
  },
  {
   "cell_type": "code",
   "execution_count": 23,
   "metadata": {},
   "outputs": [],
   "source": [
    "# metrics\n",
    "mae_uv = mean_absolute_error(y_test, hat_inv)\n",
    "mape_uv = mean_absolute_percentage_error(y_test, hat_inv)\n",
    "mse_uv = mean_squared_error(y_test, hat_inv)\n",
    "rmse_uv = np.sqrt(mse_uv)"
   ]
  },
  {
   "cell_type": "code",
   "execution_count": 24,
   "metadata": {},
   "outputs": [
    {
     "name": "stdout",
     "output_type": "stream",
     "text": [
      "MAE: 0.002049099603788293\n",
      "MAPE: 0.20941363838984253\n",
      "MSE: 4.708394783377422e-06\n",
      "RMSE: 0.002169883587517409\n"
     ]
    }
   ],
   "source": [
    "print(f'MAE: {mae_uv}\\nMAPE: {mape_uv}\\nMSE: {mse_uv}\\nRMSE: {rmse_uv}')"
   ]
  },
  {
   "cell_type": "code",
   "execution_count": 25,
   "metadata": {},
   "outputs": [],
   "source": [
    "res_dict = {'model':[], 'period':[], 'MAE':[], 'MAPE':[], 'MSE':[], 'RMSE':[]}\n",
    "\n",
    "res_dict['model'].append('LSTM')\n",
    "res_dict['period'].append(1)\n",
    "res_dict['MAE'].append(mae_uv)\n",
    "res_dict['MAPE'].append(mape_uv)\n",
    "res_dict['MSE'].append(mse_uv)\n",
    "res_dict['RMSE'].append(rmse_uv)"
   ]
  },
  {
   "attachments": {},
   "cell_type": "markdown",
   "metadata": {},
   "source": [
    "## Period 2"
   ]
  },
  {
   "cell_type": "code",
   "execution_count": 26,
   "metadata": {},
   "outputs": [],
   "source": [
    "X_train, y_train = df['GoldLag'].iloc[:-40].values, df['Gold'].iloc[:-40].values\n",
    "X_test, y_test = df['GoldLag'].iloc[-40:-20].values, df['Gold'].iloc[-40:-20].values"
   ]
  },
  {
   "cell_type": "code",
   "execution_count": 27,
   "metadata": {},
   "outputs": [],
   "source": [
    "scx = MinMaxScaler(feature_range=(0,1))\n",
    "scy = MinMaxScaler(feature_range=(0,1))\n",
    "X_trains = scx.fit_transform(X_train.reshape(-1,1))\n",
    "y_trains = scy.fit_transform(y_train.reshape(-1,1))"
   ]
  },
  {
   "cell_type": "code",
   "execution_count": 28,
   "metadata": {},
   "outputs": [],
   "source": [
    "adam = Adam(lr=0.001)"
   ]
  },
  {
   "cell_type": "code",
   "execution_count": 29,
   "metadata": {},
   "outputs": [],
   "source": [
    "# this is needed for python 3.7 , for keras and tf in python 3.10 comment out this cell\n",
    "if versioncheck:\n",
    "    from numpy import newaxis\n",
    "\n",
    "    X_trains =X_trains[:,:,newaxis]\n",
    "    y_trains.reshape(1,-1)\n",
    "else:\n",
    "    pass"
   ]
  },
  {
   "cell_type": "code",
   "execution_count": 30,
   "metadata": {},
   "outputs": [
    {
     "name": "stdout",
     "output_type": "stream",
     "text": [
      "model compiled\n",
      "Model: \"sequential_2\"\n",
      "_________________________________________________________________\n",
      "Layer (type)                 Output Shape              Param #   \n",
      "=================================================================\n",
      "lstm_4 (LSTM)                (None, 1, 50)             10400     \n",
      "_________________________________________________________________\n",
      "dropout_4 (Dropout)          (None, 1, 50)             0         \n",
      "_________________________________________________________________\n",
      "lstm_5 (LSTM)                (None, 1, 100)            60400     \n",
      "_________________________________________________________________\n",
      "dropout_5 (Dropout)          (None, 1, 100)            0         \n",
      "_________________________________________________________________\n",
      "lstm_6 (LSTM)                (None, 200)               240800    \n",
      "_________________________________________________________________\n",
      "dropout_6 (Dropout)          (None, 200)               0         \n",
      "_________________________________________________________________\n",
      "dense_2 (Dense)              (None, 1)                 201       \n",
      "=================================================================\n",
      "Total params: 311,801\n",
      "Trainable params: 311,801\n",
      "Non-trainable params: 0\n",
      "_________________________________________________________________\n",
      "None\n"
     ]
    }
   ],
   "source": [
    "model = Sequential()\n",
    "model.add(LSTM(50, activation='relu', return_sequences=True, input_shape=(X_trains.shape[1],1)))\n",
    "model.add(Dropout(0.2))\n",
    "model.add(LSTM(100, return_sequences=True))\n",
    "model.add(Dropout(0.2))\n",
    "model.add(LSTM(200, return_sequences=False))\n",
    "model.add(Dropout(0.2))\n",
    "model.add(Dense(1, activation = \"relu\"))\n",
    "\n",
    "model.compile(loss='mse', optimizer=adam)\n",
    "\n",
    "print ('model compiled')\n",
    "\n",
    "print (model.summary())"
   ]
  },
  {
   "cell_type": "code",
   "execution_count": 31,
   "metadata": {},
   "outputs": [
    {
     "name": "stdout",
     "output_type": "stream",
     "text": [
      "Epoch 1/100\n",
      " - 2s - loss: 0.0199\n",
      "Epoch 2/100\n",
      " - 1s - loss: 0.0121\n",
      "Epoch 3/100\n",
      " - 1s - loss: 0.0121\n",
      "Epoch 4/100\n",
      " - 1s - loss: 0.0120\n",
      "Epoch 5/100\n",
      " - 1s - loss: 0.0120\n",
      "Epoch 6/100\n",
      " - 1s - loss: 0.0121\n",
      "Epoch 7/100\n",
      " - 1s - loss: 0.0120\n",
      "Epoch 8/100\n",
      " - 1s - loss: 0.0120\n",
      "Epoch 9/100\n",
      " - 1s - loss: 0.0120\n",
      "Epoch 10/100\n",
      " - 1s - loss: 0.0119\n",
      "Epoch 11/100\n",
      " - 1s - loss: 0.0118\n",
      "Epoch 12/100\n",
      " - 1s - loss: 0.0119\n",
      "Epoch 13/100\n",
      " - 1s - loss: 0.0119\n",
      "Epoch 14/100\n",
      " - 1s - loss: 0.0119\n",
      "Epoch 15/100\n",
      " - 1s - loss: 0.0120\n",
      "Epoch 16/100\n",
      " - 1s - loss: 0.0119\n",
      "Epoch 17/100\n",
      " - 1s - loss: 0.0119\n",
      "Epoch 18/100\n",
      " - 1s - loss: 0.0119\n",
      "Epoch 19/100\n",
      " - 1s - loss: 0.0120\n",
      "Epoch 20/100\n",
      " - 1s - loss: 0.0119\n",
      "Epoch 21/100\n",
      " - 1s - loss: 0.0120\n",
      "Epoch 22/100\n",
      " - 1s - loss: 0.0119\n",
      "Epoch 23/100\n",
      " - 1s - loss: 0.0120\n",
      "Epoch 24/100\n",
      " - 1s - loss: 0.0120\n",
      "Epoch 25/100\n",
      " - 1s - loss: 0.0120\n",
      "Epoch 26/100\n",
      " - 1s - loss: 0.0119\n",
      "Epoch 27/100\n",
      " - 1s - loss: 0.0118\n",
      "Epoch 28/100\n",
      " - 1s - loss: 0.0119\n",
      "Epoch 29/100\n",
      " - 1s - loss: 0.0120\n",
      "Epoch 30/100\n",
      " - 1s - loss: 0.0119\n",
      "Epoch 31/100\n",
      " - 1s - loss: 0.0119\n",
      "Epoch 32/100\n",
      " - 1s - loss: 0.0120\n",
      "Epoch 33/100\n",
      " - 1s - loss: 0.0119\n",
      "Epoch 34/100\n",
      " - 1s - loss: 0.0119\n",
      "Epoch 35/100\n",
      " - 1s - loss: 0.0119\n",
      "Epoch 36/100\n",
      " - 1s - loss: 0.0118\n",
      "Epoch 37/100\n",
      " - 1s - loss: 0.0118\n",
      "Epoch 38/100\n",
      " - 1s - loss: 0.0120\n",
      "Epoch 39/100\n",
      " - 1s - loss: 0.0119\n",
      "Epoch 40/100\n",
      " - 1s - loss: 0.0119\n",
      "Epoch 41/100\n",
      " - 1s - loss: 0.0119\n",
      "Epoch 42/100\n",
      " - 1s - loss: 0.0118\n",
      "Epoch 43/100\n",
      " - 1s - loss: 0.0119\n",
      "Epoch 44/100\n",
      " - 1s - loss: 0.0119\n",
      "Epoch 45/100\n",
      " - 1s - loss: 0.0119\n",
      "Epoch 46/100\n",
      " - 1s - loss: 0.0119\n",
      "Epoch 47/100\n",
      " - 1s - loss: 0.0119\n",
      "Epoch 48/100\n",
      " - 1s - loss: 0.0119\n",
      "Epoch 49/100\n",
      " - 1s - loss: 0.0119\n",
      "Epoch 50/100\n",
      " - 1s - loss: 0.0119\n",
      "Epoch 51/100\n",
      " - 1s - loss: 0.0119\n",
      "Epoch 52/100\n",
      " - 1s - loss: 0.0118\n",
      "Epoch 53/100\n",
      " - 1s - loss: 0.0119\n",
      "Epoch 54/100\n",
      " - 1s - loss: 0.0119\n",
      "Epoch 55/100\n",
      " - 1s - loss: 0.0118\n",
      "Epoch 56/100\n",
      " - 1s - loss: 0.0118\n",
      "Epoch 57/100\n",
      " - 1s - loss: 0.0120\n",
      "Epoch 58/100\n",
      " - 1s - loss: 0.0119\n",
      "Epoch 59/100\n",
      " - 1s - loss: 0.0119\n",
      "Epoch 60/100\n",
      " - 1s - loss: 0.0119\n",
      "Epoch 61/100\n",
      " - 1s - loss: 0.0118\n",
      "Epoch 62/100\n",
      " - 1s - loss: 0.0118\n",
      "Epoch 63/100\n",
      " - 1s - loss: 0.0120\n",
      "Epoch 64/100\n",
      " - 1s - loss: 0.0119\n",
      "Epoch 65/100\n",
      " - 1s - loss: 0.0119\n",
      "Epoch 66/100\n",
      " - 1s - loss: 0.0119\n",
      "Epoch 67/100\n",
      " - 1s - loss: 0.0118\n",
      "Epoch 68/100\n",
      " - 1s - loss: 0.0118\n",
      "Epoch 69/100\n",
      " - 1s - loss: 0.0117\n",
      "Epoch 70/100\n",
      " - 1s - loss: 0.0117\n",
      "Epoch 71/100\n",
      " - 1s - loss: 0.0118\n",
      "Epoch 72/100\n",
      " - 1s - loss: 0.0119\n",
      "Epoch 73/100\n",
      " - 1s - loss: 0.0118\n",
      "Epoch 74/100\n",
      " - 1s - loss: 0.0118\n",
      "Epoch 75/100\n",
      " - 1s - loss: 0.0118\n",
      "Epoch 76/100\n",
      " - 1s - loss: 0.0118\n",
      "Epoch 77/100\n",
      " - 1s - loss: 0.0118\n",
      "Epoch 78/100\n",
      " - 1s - loss: 0.0118\n",
      "Epoch 79/100\n",
      " - 1s - loss: 0.0118\n",
      "Epoch 80/100\n",
      " - 1s - loss: 0.0117\n",
      "Epoch 81/100\n",
      " - 1s - loss: 0.0117\n",
      "Epoch 82/100\n",
      " - 1s - loss: 0.0118\n",
      "Epoch 83/100\n",
      " - 1s - loss: 0.0117\n",
      "Epoch 84/100\n",
      " - 1s - loss: 0.0117\n",
      "Epoch 85/100\n",
      " - 1s - loss: 0.0118\n",
      "Epoch 86/100\n",
      " - 1s - loss: 0.0117\n",
      "Epoch 87/100\n",
      " - 1s - loss: 0.0117\n",
      "Epoch 88/100\n",
      " - 1s - loss: 0.0116\n",
      "Epoch 89/100\n",
      " - 1s - loss: 0.0116\n",
      "Epoch 90/100\n",
      " - 1s - loss: 0.0116\n",
      "Epoch 91/100\n",
      " - 1s - loss: 0.0116\n",
      "Epoch 92/100\n",
      " - 1s - loss: 0.0118\n",
      "Epoch 93/100\n",
      " - 1s - loss: 0.0116\n",
      "Epoch 94/100\n",
      " - 1s - loss: 0.0116\n",
      "Epoch 95/100\n",
      " - 1s - loss: 0.0118\n",
      "Epoch 96/100\n",
      " - 1s - loss: 0.0117\n",
      "Epoch 97/100\n",
      " - 1s - loss: 0.0117\n",
      "Epoch 98/100\n",
      " - 1s - loss: 0.0117\n",
      "Epoch 99/100\n",
      " - 1s - loss: 0.0117\n",
      "Epoch 100/100\n",
      " - 1s - loss: 0.0116\n"
     ]
    }
   ],
   "source": [
    "history = model.fit(X_trains, y_trains, batch_size=64, epochs=100, verbose=2, use_multiprocessing=True)"
   ]
  },
  {
   "cell_type": "code",
   "execution_count": 32,
   "metadata": {},
   "outputs": [
    {
     "data": {
      "image/png": "[encoded data removed]",
      "text/plain": [
       "<Figure size 800x500 with 1 Axes>"
      ]
     },
     "metadata": {},
     "output_type": "display_data"
    }
   ],
   "source": [
    "pd.DataFrame(history.history).plot(figsize=(8,5))\n",
    "plt.title('LSTM loss graph')\n",
    "plt.show()"
   ]
  },
  {
   "cell_type": "code",
   "execution_count": 33,
   "metadata": {},
   "outputs": [],
   "source": [
    "sctsx = MinMaxScaler(feature_range=(0,1))\n",
    "sctsx.fit(X_test.reshape(-1,1))\n",
    "X_tests = sctsx.transform(X_test.reshape(-1,1))"
   ]
  },
  {
   "cell_type": "code",
   "execution_count": 34,
   "metadata": {},
   "outputs": [
    {
     "data": {
      "text/plain": [
       "MinMaxScaler()"
      ]
     },
     "execution_count": 34,
     "metadata": {},
     "output_type": "execute_result"
    }
   ],
   "source": [
    "sctsy = MinMaxScaler(feature_range=(0,1))\n",
    "sctsy.fit(y_test.reshape(-1,1))"
   ]
  },
  {
   "cell_type": "code",
   "execution_count": 35,
   "metadata": {},
   "outputs": [],
   "source": [
    "# version check for reshape\n",
    "if versioncheck:\n",
    "    X_tests =X_tests[:,:,newaxis]\n",
    "else:\n",
    "    pass"
   ]
  },
  {
   "cell_type": "code",
   "execution_count": 36,
   "metadata": {},
   "outputs": [],
   "source": [
    "fhats = model.predict(X_tests)"
   ]
  },
  {
   "cell_type": "code",
   "execution_count": 37,
   "metadata": {},
   "outputs": [],
   "source": [
    "hat_inv = sctsy.inverse_transform(fhats)\n",
    "uhat_inv_p2 = hat_inv"
   ]
  },
  {
   "cell_type": "code",
   "execution_count": 38,
   "metadata": {},
   "outputs": [
    {
     "data": {
      "image/png": "[encoded data removed]",
      "text/plain": [
       "<Figure size 640x480 with 1 Axes>"
      ]
     },
     "metadata": {},
     "output_type": "display_data"
    },
    {
     "data": {
      "text/plain": [
       "<Figure size 640x480 with 0 Axes>"
      ]
     },
     "metadata": {},
     "output_type": "display_data"
    }
   ],
   "source": [
    "plt.plot(y_test, color='lightblue', label='Actual Gold Volatility')\n",
    "plt.plot(hat_inv, color='red',label='Predicted Gold Volatility')\n",
    "plt.title('LSTM forecast - period 2')\n",
    "plt.legend()\n",
    "plt.show()\n",
    "plt.clf()"
   ]
  },
  {
   "cell_type": "code",
   "execution_count": 39,
   "metadata": {},
   "outputs": [],
   "source": [
    "# metrics\n",
    "mae_uv = mean_absolute_error(y_test, hat_inv)\n",
    "mape_uv = mean_absolute_percentage_error(y_test, hat_inv)\n",
    "mse_uv = mean_squared_error(y_test, hat_inv)\n",
    "rmse_uv = np.sqrt(mse_uv)"
   ]
  },
  {
   "cell_type": "code",
   "execution_count": 40,
   "metadata": {},
   "outputs": [
    {
     "name": "stdout",
     "output_type": "stream",
     "text": [
      "MAE: 0.0006648404647273914\n",
      "MAPE: 0.06555935105697089\n",
      "MSE: 6.920432909125139e-07\n",
      "RMSE: 0.0008318913937002317\n"
     ]
    }
   ],
   "source": [
    "print(f'MAE: {mae_uv}\\nMAPE: {mape_uv}\\nMSE: {mse_uv}\\nRMSE: {rmse_uv}')"
   ]
  },
  {
   "cell_type": "code",
   "execution_count": 41,
   "metadata": {},
   "outputs": [],
   "source": [
    "res_dict['model'].append('LSTM')\n",
    "res_dict['period'].append(2)\n",
    "res_dict['MAE'].append(mae_uv)\n",
    "res_dict['MAPE'].append(mape_uv)\n",
    "res_dict['MSE'].append(mse_uv)\n",
    "res_dict['RMSE'].append(rmse_uv)"
   ]
  },
  {
   "attachments": {},
   "cell_type": "markdown",
   "metadata": {},
   "source": [
    "## Period 3"
   ]
  },
  {
   "cell_type": "code",
   "execution_count": 42,
   "metadata": {},
   "outputs": [],
   "source": [
    "X_train, y_train = df['GoldLag'].iloc[:-20].values, df['Gold'].iloc[:-20].values\n",
    "X_test, y_test = df['GoldLag'].iloc[-20:].values, df['Gold'].iloc[-20:].values"
   ]
  },
  {
   "cell_type": "code",
   "execution_count": 43,
   "metadata": {},
   "outputs": [],
   "source": [
    "scx = MinMaxScaler(feature_range=(0,1))\n",
    "scy = MinMaxScaler(feature_range=(0,1))\n",
    "X_trains = scx.fit_transform(X_train.reshape(-1,1))\n",
    "y_trains = scy.fit_transform(y_train.reshape(-1,1))"
   ]
  },
  {
   "cell_type": "code",
   "execution_count": 44,
   "metadata": {},
   "outputs": [],
   "source": [
    "adam = Adam(lr=0.001)"
   ]
  },
  {
   "cell_type": "code",
   "execution_count": 45,
   "metadata": {},
   "outputs": [],
   "source": [
    "# this is needed for python 3.7 , for keras and tf in python 3.10 comment out this cell\n",
    "if versioncheck:\n",
    "    from numpy import newaxis\n",
    "\n",
    "    X_trains =X_trains[:,:,newaxis]\n",
    "    y_trains.reshape(1,-1)\n",
    "else:\n",
    "    pass"
   ]
  },
  {
   "cell_type": "code",
   "execution_count": 46,
   "metadata": {},
   "outputs": [
    {
     "name": "stdout",
     "output_type": "stream",
     "text": [
      "model compiled\n",
      "Model: \"sequential_3\"\n",
      "_________________________________________________________________\n",
      "Layer (type)                 Output Shape              Param #   \n",
      "=================================================================\n",
      "lstm_7 (LSTM)                (None, 1, 50)             10400     \n",
      "_________________________________________________________________\n",
      "dropout_7 (Dropout)          (None, 1, 50)             0         \n",
      "_________________________________________________________________\n",
      "lstm_8 (LSTM)                (None, 1, 100)            60400     \n",
      "_________________________________________________________________\n",
      "dropout_8 (Dropout)          (None, 1, 100)            0         \n",
      "_________________________________________________________________\n",
      "lstm_9 (LSTM)                (None, 200)               240800    \n",
      "_________________________________________________________________\n",
      "dropout_9 (Dropout)          (None, 200)               0         \n",
      "_________________________________________________________________\n",
      "dense_3 (Dense)              (None, 1)                 201       \n",
      "=================================================================\n",
      "Total params: 311,801\n",
      "Trainable params: 311,801\n",
      "Non-trainable params: 0\n",
      "_________________________________________________________________\n",
      "None\n"
     ]
    }
   ],
   "source": [
    "model = Sequential()\n",
    "model.add(LSTM(50, activation='relu', return_sequences=True, input_shape=(X_trains.shape[1],1)))\n",
    "model.add(Dropout(0.2))\n",
    "model.add(LSTM(100, return_sequences=True))\n",
    "model.add(Dropout(0.2))\n",
    "model.add(LSTM(200, return_sequences=False))\n",
    "model.add(Dropout(0.2))\n",
    "model.add(Dense(1, activation = \"relu\"))\n",
    "\n",
    "model.compile(loss='mse', optimizer=adam)\n",
    "\n",
    "print ('model compiled')\n",
    "\n",
    "print (model.summary())"
   ]
  },
  {
   "cell_type": "code",
   "execution_count": 47,
   "metadata": {},
   "outputs": [
    {
     "name": "stdout",
     "output_type": "stream",
     "text": [
      "Epoch 1/100\n",
      " - 2s - loss: 0.0193\n",
      "Epoch 2/100\n",
      " - 1s - loss: 0.0120\n",
      "Epoch 3/100\n",
      " - 1s - loss: 0.0121\n",
      "Epoch 4/100\n",
      " - 1s - loss: 0.0120\n",
      "Epoch 5/100\n",
      " - 1s - loss: 0.0122\n",
      "Epoch 6/100\n",
      " - 1s - loss: 0.0120\n",
      "Epoch 7/100\n",
      " - 1s - loss: 0.0119\n",
      "Epoch 8/100\n",
      " - 1s - loss: 0.0119\n",
      "Epoch 9/100\n",
      " - 1s - loss: 0.0119\n",
      "Epoch 10/100\n",
      " - 1s - loss: 0.0120\n",
      "Epoch 11/100\n",
      " - 1s - loss: 0.0121\n",
      "Epoch 12/100\n",
      " - 1s - loss: 0.0120\n",
      "Epoch 13/100\n",
      " - 1s - loss: 0.0120\n",
      "Epoch 14/100\n",
      " - 1s - loss: 0.0118\n",
      "Epoch 15/100\n",
      " - 1s - loss: 0.0119\n",
      "Epoch 16/100\n",
      " - 1s - loss: 0.0122\n",
      "Epoch 17/100\n",
      " - 1s - loss: 0.0120\n",
      "Epoch 18/100\n",
      " - 1s - loss: 0.0118\n",
      "Epoch 19/100\n",
      " - 1s - loss: 0.0119\n",
      "Epoch 20/100\n",
      " - 1s - loss: 0.0120\n",
      "Epoch 21/100\n",
      " - 1s - loss: 0.0119\n",
      "Epoch 22/100\n",
      " - 1s - loss: 0.0118\n",
      "Epoch 23/100\n",
      " - 1s - loss: 0.0118\n",
      "Epoch 24/100\n",
      " - 1s - loss: 0.0120\n",
      "Epoch 25/100\n",
      " - 1s - loss: 0.0120\n",
      "Epoch 26/100\n",
      " - 1s - loss: 0.0119\n",
      "Epoch 27/100\n",
      " - 1s - loss: 0.0118\n",
      "Epoch 28/100\n",
      " - 1s - loss: 0.0119\n",
      "Epoch 29/100\n",
      " - 1s - loss: 0.0118\n",
      "Epoch 30/100\n",
      " - 1s - loss: 0.0118\n",
      "Epoch 31/100\n",
      " - 1s - loss: 0.0119\n",
      "Epoch 32/100\n",
      " - 1s - loss: 0.0120\n",
      "Epoch 33/100\n",
      " - 1s - loss: 0.0118\n",
      "Epoch 34/100\n",
      " - 1s - loss: 0.0117\n",
      "Epoch 35/100\n",
      " - 1s - loss: 0.0119\n",
      "Epoch 36/100\n",
      " - 1s - loss: 0.0118\n",
      "Epoch 37/100\n",
      " - 1s - loss: 0.0117\n",
      "Epoch 38/100\n",
      " - 1s - loss: 0.0118\n",
      "Epoch 39/100\n",
      " - 1s - loss: 0.0119\n",
      "Epoch 40/100\n",
      " - 1s - loss: 0.0119\n",
      "Epoch 41/100\n",
      " - 1s - loss: 0.0118\n",
      "Epoch 42/100\n",
      " - 1s - loss: 0.0119\n",
      "Epoch 43/100\n",
      " - 1s - loss: 0.0119\n",
      "Epoch 44/100\n",
      " - 1s - loss: 0.0117\n",
      "Epoch 45/100\n",
      " - 1s - loss: 0.0119\n",
      "Epoch 46/100\n",
      " - 1s - loss: 0.0119\n",
      "Epoch 47/100\n",
      " - 2s - loss: 0.0118\n",
      "Epoch 48/100\n",
      " - 2s - loss: 0.0120\n",
      "Epoch 49/100\n",
      " - 1s - loss: 0.0118\n",
      "Epoch 50/100\n",
      " - 1s - loss: 0.0118\n",
      "Epoch 51/100\n",
      " - 1s - loss: 0.0117\n",
      "Epoch 52/100\n",
      " - 1s - loss: 0.0119\n",
      "Epoch 53/100\n",
      " - 1s - loss: 0.0119\n",
      "Epoch 54/100\n",
      " - 1s - loss: 0.0119\n",
      "Epoch 55/100\n",
      " - 1s - loss: 0.0118\n",
      "Epoch 56/100\n",
      " - 1s - loss: 0.0118\n",
      "Epoch 57/100\n",
      " - 1s - loss: 0.0119\n",
      "Epoch 58/100\n",
      " - 1s - loss: 0.0119\n",
      "Epoch 59/100\n",
      " - 1s - loss: 0.0118\n",
      "Epoch 60/100\n",
      " - 1s - loss: 0.0118\n",
      "Epoch 61/100\n",
      " - 1s - loss: 0.0121\n",
      "Epoch 62/100\n",
      " - 1s - loss: 0.0118\n",
      "Epoch 63/100\n",
      " - 1s - loss: 0.0118\n",
      "Epoch 64/100\n",
      " - 1s - loss: 0.0118\n",
      "Epoch 65/100\n",
      " - 1s - loss: 0.0118\n",
      "Epoch 66/100\n",
      " - 1s - loss: 0.0118\n",
      "Epoch 67/100\n",
      " - 1s - loss: 0.0117\n",
      "Epoch 68/100\n",
      " - 1s - loss: 0.0118\n",
      "Epoch 69/100\n",
      " - 1s - loss: 0.0118\n",
      "Epoch 70/100\n",
      " - 1s - loss: 0.0117\n",
      "Epoch 71/100\n",
      " - 1s - loss: 0.0118\n",
      "Epoch 72/100\n",
      " - 1s - loss: 0.0118\n",
      "Epoch 73/100\n",
      " - 1s - loss: 0.0118\n",
      "Epoch 74/100\n",
      " - 1s - loss: 0.0118\n",
      "Epoch 75/100\n",
      " - 1s - loss: 0.0118\n",
      "Epoch 76/100\n",
      " - 1s - loss: 0.0117\n",
      "Epoch 77/100\n",
      " - 1s - loss: 0.0117\n",
      "Epoch 78/100\n",
      " - 1s - loss: 0.0117\n",
      "Epoch 79/100\n",
      " - 1s - loss: 0.0117\n",
      "Epoch 80/100\n",
      " - 1s - loss: 0.0117\n",
      "Epoch 81/100\n",
      " - 1s - loss: 0.0117\n",
      "Epoch 82/100\n",
      " - 1s - loss: 0.0117\n",
      "Epoch 83/100\n",
      " - 1s - loss: 0.0117\n",
      "Epoch 84/100\n",
      " - 1s - loss: 0.0117\n",
      "Epoch 85/100\n",
      " - 1s - loss: 0.0118\n",
      "Epoch 86/100\n",
      " - 1s - loss: 0.0117\n",
      "Epoch 87/100\n",
      " - 1s - loss: 0.0116\n",
      "Epoch 88/100\n",
      " - 1s - loss: 0.0116\n",
      "Epoch 89/100\n",
      " - 1s - loss: 0.0116\n",
      "Epoch 90/100\n",
      " - 1s - loss: 0.0117\n",
      "Epoch 91/100\n",
      " - 1s - loss: 0.0117\n",
      "Epoch 92/100\n",
      " - 1s - loss: 0.0117\n",
      "Epoch 93/100\n",
      " - 1s - loss: 0.0116\n",
      "Epoch 94/100\n",
      " - 1s - loss: 0.0117\n",
      "Epoch 95/100\n",
      " - 1s - loss: 0.0118\n",
      "Epoch 96/100\n",
      " - 1s - loss: 0.0116\n",
      "Epoch 97/100\n",
      " - 1s - loss: 0.0117\n",
      "Epoch 98/100\n",
      " - 1s - loss: 0.0117\n",
      "Epoch 99/100\n",
      " - 1s - loss: 0.0117\n",
      "Epoch 100/100\n",
      " - 1s - loss: 0.0116\n"
     ]
    }
   ],
   "source": [
    "history = model.fit(X_trains, y_trains, batch_size=64, epochs=100, verbose=2, use_multiprocessing=True)"
   ]
  },
  {
   "cell_type": "code",
   "execution_count": 48,
   "metadata": {},
   "outputs": [
    {
     "data": {
      "image/png": "[encoded data removed]",
      "text/plain": [
       "<Figure size 800x500 with 1 Axes>"
      ]
     },
     "metadata": {},
     "output_type": "display_data"
    }
   ],
   "source": [
    "pd.DataFrame(history.history).plot(figsize=(8,5))\n",
    "plt.title('LSTM loss graph')\n",
    "plt.show()"
   ]
  },
  {
   "cell_type": "code",
   "execution_count": 49,
   "metadata": {},
   "outputs": [],
   "source": [
    "sctsx = MinMaxScaler(feature_range=(0,1))\n",
    "sctsx.fit(X_test.reshape(-1,1))\n",
    "X_tests = sctsx.transform(X_test.reshape(-1,1))"
   ]
  },
  {
   "cell_type": "code",
   "execution_count": 50,
   "metadata": {},
   "outputs": [
    {
     "data": {
      "text/plain": [
       "MinMaxScaler()"
      ]
     },
     "execution_count": 50,
     "metadata": {},
     "output_type": "execute_result"
    }
   ],
   "source": [
    "sctsy = MinMaxScaler(feature_range=(0,1))\n",
    "sctsy.fit(y_test.reshape(-1,1))"
   ]
  },
  {
   "cell_type": "code",
   "execution_count": 51,
   "metadata": {},
   "outputs": [],
   "source": [
    "# version check for reshape\n",
    "if versioncheck:\n",
    "    X_tests =X_tests[:,:,newaxis]\n",
    "else:\n",
    "    pass"
   ]
  },
  {
   "cell_type": "code",
   "execution_count": 52,
   "metadata": {},
   "outputs": [],
   "source": [
    "fhats = model.predict(X_tests)"
   ]
  },
  {
   "cell_type": "code",
   "execution_count": 53,
   "metadata": {},
   "outputs": [],
   "source": [
    "hat_inv = sctsy.inverse_transform(fhats)\n",
    "uhat_inv_p3 = hat_inv"
   ]
  },
  {
   "cell_type": "code",
   "execution_count": 54,
   "metadata": {},
   "outputs": [
    {
     "data": {
      "image/png": "[encoded data removed]",
      "text/plain": [
       "<Figure size 640x480 with 1 Axes>"
      ]
     },
     "metadata": {},
     "output_type": "display_data"
    },
    {
     "data": {
      "text/plain": [
       "<Figure size 640x480 with 0 Axes>"
      ]
     },
     "metadata": {},
     "output_type": "display_data"
    }
   ],
   "source": [
    "plt.plot(y_test, color='lightblue', label='Actual Gold Volatility')\n",
    "plt.plot(hat_inv, color='red',label='Predicted Gold Volatility')\n",
    "plt.title('LSTM forecast - period 3')\n",
    "plt.legend()\n",
    "plt.show()\n",
    "plt.clf()"
   ]
  },
  {
   "cell_type": "code",
   "execution_count": 55,
   "metadata": {},
   "outputs": [],
   "source": [
    "# metrics\n",
    "mae_uv = mean_absolute_error(y_test, hat_inv)\n",
    "mape_uv = mean_absolute_percentage_error(y_test, hat_inv)\n",
    "mse_uv = mean_squared_error(y_test, hat_inv)\n",
    "rmse_uv = np.sqrt(mse_uv)"
   ]
  },
  {
   "cell_type": "code",
   "execution_count": 56,
   "metadata": {},
   "outputs": [
    {
     "name": "stdout",
     "output_type": "stream",
     "text": [
      "MAE: 0.001076172090197998\n",
      "MAPE: 0.11263975857452542\n",
      "MSE: 1.3751571715314964e-06\n",
      "RMSE: 0.0011726709562070242\n"
     ]
    }
   ],
   "source": [
    "print(f'MAE: {mae_uv}\\nMAPE: {mape_uv}\\nMSE: {mse_uv}\\nRMSE: {rmse_uv}')"
   ]
  },
  {
   "cell_type": "code",
   "execution_count": 57,
   "metadata": {},
   "outputs": [],
   "source": [
    "res_dict['model'].append('LSTM')\n",
    "res_dict['period'].append(3)\n",
    "res_dict['MAE'].append(mae_uv)\n",
    "res_dict['MAPE'].append(mape_uv)\n",
    "res_dict['MSE'].append(mse_uv)\n",
    "res_dict['RMSE'].append(rmse_uv)"
   ]
  },
  {
   "cell_type": "code",
   "execution_count": 58,
   "metadata": {},
   "outputs": [
    {
     "data": {
      "text/html": [
       "<div>\n",
       "<style scoped>\n",
       "    .dataframe tbody tr th:only-of-type {\n",
       "        vertical-align: middle;\n",
       "    }\n",
       "\n",
       "    .dataframe tbody tr th {\n",
       "        vertical-align: top;\n",
       "    }\n",
       "\n",
       "    .dataframe thead th {\n",
       "        text-align: right;\n",
       "    }\n",
       "</style>\n",
       "<table border=\"1\" class=\"dataframe\">\n",
       "  <thead>\n",
       "    <tr style=\"text-align: right;\">\n",
       "      <th></th>\n",
       "      <th>model</th>\n",
       "      <th>period</th>\n",
       "      <th>MAE</th>\n",
       "      <th>MAPE</th>\n",
       "      <th>MSE</th>\n",
       "      <th>RMSE</th>\n",
       "    </tr>\n",
       "  </thead>\n",
       "  <tbody>\n",
       "    <tr>\n",
       "      <th>0</th>\n",
       "      <td>LSTM</td>\n",
       "      <td>1</td>\n",
       "      <td>0.002049</td>\n",
       "      <td>0.209414</td>\n",
       "      <td>4.708395e-06</td>\n",
       "      <td>0.002170</td>\n",
       "    </tr>\n",
       "    <tr>\n",
       "      <th>1</th>\n",
       "      <td>LSTM</td>\n",
       "      <td>2</td>\n",
       "      <td>0.000665</td>\n",
       "      <td>0.065559</td>\n",
       "      <td>6.920433e-07</td>\n",
       "      <td>0.000832</td>\n",
       "    </tr>\n",
       "    <tr>\n",
       "      <th>2</th>\n",
       "      <td>LSTM</td>\n",
       "      <td>3</td>\n",
       "      <td>0.001076</td>\n",
       "      <td>0.112640</td>\n",
       "      <td>1.375157e-06</td>\n",
       "      <td>0.001173</td>\n",
       "    </tr>\n",
       "  </tbody>\n",
       "</table>\n",
       "</div>"
      ],
      "text/plain": [
       "  model  period       MAE      MAPE           MSE      RMSE\n",
       "0  LSTM       1  0.002049  0.209414  4.708395e-06  0.002170\n",
       "1  LSTM       2  0.000665  0.065559  6.920433e-07  0.000832\n",
       "2  LSTM       3  0.001076  0.112640  1.375157e-06  0.001173"
      ]
     },
     "execution_count": 58,
     "metadata": {},
     "output_type": "execute_result"
    }
   ],
   "source": [
    "pd.DataFrame(res_dict)"
   ]
  },
  {
   "cell_type": "code",
   "execution_count": 59,
   "metadata": {},
   "outputs": [],
   "source": [
    "p1 = pd.DataFrame(uhat_inv_p1)\n",
    "p1.index = df.iloc[-60:-40].index\n",
    "p2 = pd.DataFrame(uhat_inv_p2)\n",
    "p2.index = df.iloc[-40:-20].index\n",
    "p3 = pd.DataFrame(uhat_inv_p3)\n",
    "p3.index = df.iloc[-20:].index"
   ]
  },
  {
   "cell_type": "code",
   "execution_count": 60,
   "metadata": {},
   "outputs": [
    {
     "data": {
      "text/plain": [
       "Text(0.5, 0, 'Date')"
      ]
     },
     "execution_count": 60,
     "metadata": {},
     "output_type": "execute_result"
    },
    {
     "data": {
      "image/png": "[encoded data removed]",
      "text/plain": [
       "<Figure size 1200x400 with 1 Axes>"
      ]
     },
     "metadata": {},
     "output_type": "display_data"
    }
   ],
   "source": [
    "fig, ax = plt.subplots(figsize=(12,4))\n",
    "plt.plot(df.iloc[-150:].index, df.iloc[-150:].Gold)\n",
    "plt.plot(p1.index, p1[0], linestyle='--')\n",
    "plt.plot(p2.index, p2[0], linestyle='--')\n",
    "plt.plot(p3.index, p3[0], linestyle='--')\n",
    "plt.title('LSTM - All forecasts', fontsize=20)\n",
    "plt.ylabel('Price')\n",
    "plt.xlabel('Date')"
   ]
  },
  {
   "attachments": {},
   "cell_type": "markdown",
   "metadata": {},
   "source": []
  }
 ],
 "metadata": {
  "kernelspec": {
   "display_name": "thesis",
   "language": "python",
   "name": "python3"
  },
  "language_info": {
   "codemirror_mode": {
    "name": "ipython",
    "version": 3
   },
   "file_extension": ".py",
   "mimetype": "text/x-python",
   "name": "python",
   "nbconvert_exporter": "python",
   "pygments_lexer": "ipython3",
   "version": "3.7.13"
  },
  "orig_nbformat": 4
 },
 "nbformat": 4,
 "nbformat_minor": 2
}
