{
 "cells": [
  {
   "cell_type": "code",
   "execution_count": 1,
   "metadata": {},
   "outputs": [
    {
     "name": "stderr",
     "output_type": "stream",
     "text": [
      "Using TensorFlow backend.\n",
      "e:\\anaconda\\envs\\shapenv\\lib\\site-packages\\tensorflow\\python\\framework\\dtypes.py:516: FutureWarning: Passing (type, 1) or '1type' as a synonym of type is deprecated; in a future version of numpy, it will be understood as (type, (1,)) / '(1,)type'.\n",
      "  _np_qint8 = np.dtype([(\"qint8\", np.int8, 1)])\n",
      "e:\\anaconda\\envs\\shapenv\\lib\\site-packages\\tensorflow\\python\\framework\\dtypes.py:517: FutureWarning: Passing (type, 1) or '1type' as a synonym of type is deprecated; in a future version of numpy, it will be understood as (type, (1,)) / '(1,)type'.\n",
      "  _np_quint8 = np.dtype([(\"quint8\", np.uint8, 1)])\n",
      "e:\\anaconda\\envs\\shapenv\\lib\\site-packages\\tensorflow\\python\\framework\\dtypes.py:518: FutureWarning: Passing (type, 1) or '1type' as a synonym of type is deprecated; in a future version of numpy, it will be understood as (type, (1,)) / '(1,)type'.\n",
      "  _np_qint16 = np.dtype([(\"qint16\", np.int16, 1)])\n",
      "e:\\anaconda\\envs\\shapenv\\lib\\site-packages\\tensorflow\\python\\framework\\dtypes.py:519: FutureWarning: Passing (type, 1) or '1type' as a synonym of type is deprecated; in a future version of numpy, it will be understood as (type, (1,)) / '(1,)type'.\n",
      "  _np_quint16 = np.dtype([(\"quint16\", np.uint16, 1)])\n",
      "e:\\anaconda\\envs\\shapenv\\lib\\site-packages\\tensorflow\\python\\framework\\dtypes.py:520: FutureWarning: Passing (type, 1) or '1type' as a synonym of type is deprecated; in a future version of numpy, it will be understood as (type, (1,)) / '(1,)type'.\n",
      "  _np_qint32 = np.dtype([(\"qint32\", np.int32, 1)])\n",
      "e:\\anaconda\\envs\\shapenv\\lib\\site-packages\\tensorflow\\python\\framework\\dtypes.py:525: FutureWarning: Passing (type, 1) or '1type' as a synonym of type is deprecated; in a future version of numpy, it will be understood as (type, (1,)) / '(1,)type'.\n",
      "  np_resource = np.dtype([(\"resource\", np.ubyte, 1)])\n",
      "e:\\anaconda\\envs\\shapenv\\lib\\site-packages\\tensorboard\\compat\\tensorflow_stub\\dtypes.py:541: FutureWarning: Passing (type, 1) or '1type' as a synonym of type is deprecated; in a future version of numpy, it will be understood as (type, (1,)) / '(1,)type'.\n",
      "  _np_qint8 = np.dtype([(\"qint8\", np.int8, 1)])\n",
      "e:\\anaconda\\envs\\shapenv\\lib\\site-packages\\tensorboard\\compat\\tensorflow_stub\\dtypes.py:542: FutureWarning: Passing (type, 1) or '1type' as a synonym of type is deprecated; in a future version of numpy, it will be understood as (type, (1,)) / '(1,)type'.\n",
      "  _np_quint8 = np.dtype([(\"quint8\", np.uint8, 1)])\n",
      "e:\\anaconda\\envs\\shapenv\\lib\\site-packages\\tensorboard\\compat\\tensorflow_stub\\dtypes.py:543: FutureWarning: Passing (type, 1) or '1type' as a synonym of type is deprecated; in a future version of numpy, it will be understood as (type, (1,)) / '(1,)type'.\n",
      "  _np_qint16 = np.dtype([(\"qint16\", np.int16, 1)])\n",
      "e:\\anaconda\\envs\\shapenv\\lib\\site-packages\\tensorboard\\compat\\tensorflow_stub\\dtypes.py:544: FutureWarning: Passing (type, 1) or '1type' as a synonym of type is deprecated; in a future version of numpy, it will be understood as (type, (1,)) / '(1,)type'.\n",
      "  _np_quint16 = np.dtype([(\"quint16\", np.uint16, 1)])\n",
      "e:\\anaconda\\envs\\shapenv\\lib\\site-packages\\tensorboard\\compat\\tensorflow_stub\\dtypes.py:545: FutureWarning: Passing (type, 1) or '1type' as a synonym of type is deprecated; in a future version of numpy, it will be understood as (type, (1,)) / '(1,)type'.\n",
      "  _np_qint32 = np.dtype([(\"qint32\", np.int32, 1)])\n",
      "e:\\anaconda\\envs\\shapenv\\lib\\site-packages\\tensorboard\\compat\\tensorflow_stub\\dtypes.py:550: FutureWarning: Passing (type, 1) or '1type' as a synonym of type is deprecated; in a future version of numpy, it will be understood as (type, (1,)) / '(1,)type'.\n",
      "  np_resource = np.dtype([(\"resource\", np.ubyte, 1)])\n"
     ]
    }
   ],
   "source": [
    "import os\n",
    "import numpy as np # linear algebra\n",
    "from numpy import newaxis\n",
    "import pandas as pd # data processing, CSV file I/O (e.g. pd.read_csv)\n",
    "from keras.layers.core import Dense, Activation, Dropout\n",
    "from keras.layers import LSTM\n",
    "from keras.models import Sequential\n",
    "from keras import optimizers\n",
    "from sklearn.preprocessing import MinMaxScaler\n",
    "import matplotlib.pyplot as plt\n",
    "from tensorflow.keras.optimizers import Adam # this for python 3.10\n",
    "import math, time\n",
    "from sklearn.metrics import mean_absolute_error, mean_absolute_percentage_error, mean_squared_error\n",
    "import shap"
   ]
  },
  {
   "attachments": {},
   "cell_type": "markdown",
   "metadata": {},
   "source": [
    "If running shap change version variable to 3.7, if not set to anthing else."
   ]
  },
  {
   "cell_type": "code",
   "execution_count": 2,
   "metadata": {},
   "outputs": [
    {
     "data": {
      "text/plain": [
       "True"
      ]
     },
     "execution_count": 2,
     "metadata": {},
     "output_type": "execute_result"
    }
   ],
   "source": [
    "from sys import version\n",
    "versioncheck = version[:3] == '3.7'\n",
    "versioncheck"
   ]
  },
  {
   "cell_type": "code",
   "execution_count": 3,
   "metadata": {},
   "outputs": [],
   "source": [
    "if versioncheck:\n",
    "    from keras.optimizers import Adam\n",
    "else:\n",
    "    pass"
   ]
  },
  {
   "cell_type": "code",
   "execution_count": 4,
   "metadata": {},
   "outputs": [],
   "source": [
    "os.chdir('../..')"
   ]
  },
  {
   "cell_type": "code",
   "execution_count": 5,
   "metadata": {},
   "outputs": [],
   "source": [
    "dataset = pd.read_csv('data/data_nominal_clean.csv', sep=';',  index_col='date',  parse_dates=['date'])"
   ]
  },
  {
   "cell_type": "code",
   "execution_count": 6,
   "metadata": {},
   "outputs": [
    {
     "data": {
      "text/html": [
       "<div>\n",
       "<style scoped>\n",
       "    .dataframe tbody tr th:only-of-type {\n",
       "        vertical-align: middle;\n",
       "    }\n",
       "\n",
       "    .dataframe tbody tr th {\n",
       "        vertical-align: top;\n",
       "    }\n",
       "\n",
       "    .dataframe thead th {\n",
       "        text-align: right;\n",
       "    }\n",
       "</style>\n",
       "<table border=\"1\" class=\"dataframe\">\n",
       "  <thead>\n",
       "    <tr style=\"text-align: right;\">\n",
       "      <th></th>\n",
       "      <th>Gold</th>\n",
       "    </tr>\n",
       "    <tr>\n",
       "      <th>date</th>\n",
       "      <th></th>\n",
       "    </tr>\n",
       "  </thead>\n",
       "  <tbody>\n",
       "    <tr>\n",
       "      <th>1986-01-02</th>\n",
       "      <td>326.30</td>\n",
       "    </tr>\n",
       "    <tr>\n",
       "      <th>1986-01-03</th>\n",
       "      <td>326.75</td>\n",
       "    </tr>\n",
       "    <tr>\n",
       "      <th>1986-01-06</th>\n",
       "      <td>328.00</td>\n",
       "    </tr>\n",
       "    <tr>\n",
       "      <th>1986-01-07</th>\n",
       "      <td>330.00</td>\n",
       "    </tr>\n",
       "    <tr>\n",
       "      <th>1986-01-08</th>\n",
       "      <td>332.60</td>\n",
       "    </tr>\n",
       "    <tr>\n",
       "      <th>...</th>\n",
       "      <td>...</td>\n",
       "    </tr>\n",
       "    <tr>\n",
       "      <th>2022-12-30</th>\n",
       "      <td>1813.75</td>\n",
       "    </tr>\n",
       "    <tr>\n",
       "      <th>2023-01-03</th>\n",
       "      <td>1843.25</td>\n",
       "    </tr>\n",
       "    <tr>\n",
       "      <th>2023-01-04</th>\n",
       "      <td>1857.30</td>\n",
       "    </tr>\n",
       "    <tr>\n",
       "      <th>2023-01-05</th>\n",
       "      <td>1834.00</td>\n",
       "    </tr>\n",
       "    <tr>\n",
       "      <th>2023-01-06</th>\n",
       "      <td>1852.20</td>\n",
       "    </tr>\n",
       "  </tbody>\n",
       "</table>\n",
       "<p>9149 rows × 1 columns</p>\n",
       "</div>"
      ],
      "text/plain": [
       "               Gold\n",
       "date               \n",
       "1986-01-02   326.30\n",
       "1986-01-03   326.75\n",
       "1986-01-06   328.00\n",
       "1986-01-07   330.00\n",
       "1986-01-08   332.60\n",
       "...             ...\n",
       "2022-12-30  1813.75\n",
       "2023-01-03  1843.25\n",
       "2023-01-04  1857.30\n",
       "2023-01-05  1834.00\n",
       "2023-01-06  1852.20\n",
       "\n",
       "[9149 rows x 1 columns]"
      ]
     },
     "execution_count": 6,
     "metadata": {},
     "output_type": "execute_result"
    }
   ],
   "source": [
    "pd.DataFrame(dataset['Gold'])"
   ]
  },
  {
   "attachments": {},
   "cell_type": "markdown",
   "metadata": {},
   "source": [
    "lagging gold col"
   ]
  },
  {
   "cell_type": "code",
   "execution_count": 7,
   "metadata": {},
   "outputs": [],
   "source": [
    "dataset['GoldLag']  = dataset['Gold'].shift(20)"
   ]
  },
  {
   "cell_type": "code",
   "execution_count": 8,
   "metadata": {},
   "outputs": [
    {
     "data": {
      "text/html": [
       "<div>\n",
       "<style scoped>\n",
       "    .dataframe tbody tr th:only-of-type {\n",
       "        vertical-align: middle;\n",
       "    }\n",
       "\n",
       "    .dataframe tbody tr th {\n",
       "        vertical-align: top;\n",
       "    }\n",
       "\n",
       "    .dataframe thead th {\n",
       "        text-align: right;\n",
       "    }\n",
       "</style>\n",
       "<table border=\"1\" class=\"dataframe\">\n",
       "  <thead>\n",
       "    <tr style=\"text-align: right;\">\n",
       "      <th></th>\n",
       "      <th>Gold</th>\n",
       "      <th>GoldLag</th>\n",
       "    </tr>\n",
       "    <tr>\n",
       "      <th>date</th>\n",
       "      <th></th>\n",
       "      <th></th>\n",
       "    </tr>\n",
       "  </thead>\n",
       "  <tbody>\n",
       "    <tr>\n",
       "      <th>1986-01-02</th>\n",
       "      <td>326.30</td>\n",
       "      <td>NaN</td>\n",
       "    </tr>\n",
       "    <tr>\n",
       "      <th>1986-01-03</th>\n",
       "      <td>326.75</td>\n",
       "      <td>NaN</td>\n",
       "    </tr>\n",
       "    <tr>\n",
       "      <th>1986-01-06</th>\n",
       "      <td>328.00</td>\n",
       "      <td>NaN</td>\n",
       "    </tr>\n",
       "    <tr>\n",
       "      <th>1986-01-07</th>\n",
       "      <td>330.00</td>\n",
       "      <td>NaN</td>\n",
       "    </tr>\n",
       "    <tr>\n",
       "      <th>1986-01-08</th>\n",
       "      <td>332.60</td>\n",
       "      <td>NaN</td>\n",
       "    </tr>\n",
       "    <tr>\n",
       "      <th>...</th>\n",
       "      <td>...</td>\n",
       "      <td>...</td>\n",
       "    </tr>\n",
       "    <tr>\n",
       "      <th>2022-12-30</th>\n",
       "      <td>1813.75</td>\n",
       "      <td>1753.50</td>\n",
       "    </tr>\n",
       "    <tr>\n",
       "      <th>2023-01-03</th>\n",
       "      <td>1843.25</td>\n",
       "      <td>1803.15</td>\n",
       "    </tr>\n",
       "    <tr>\n",
       "      <th>2023-01-04</th>\n",
       "      <td>1857.30</td>\n",
       "      <td>1784.75</td>\n",
       "    </tr>\n",
       "    <tr>\n",
       "      <th>2023-01-05</th>\n",
       "      <td>1834.00</td>\n",
       "      <td>1776.80</td>\n",
       "    </tr>\n",
       "    <tr>\n",
       "      <th>2023-01-06</th>\n",
       "      <td>1852.20</td>\n",
       "      <td>1773.80</td>\n",
       "    </tr>\n",
       "  </tbody>\n",
       "</table>\n",
       "<p>9149 rows × 2 columns</p>\n",
       "</div>"
      ],
      "text/plain": [
       "               Gold  GoldLag\n",
       "date                        \n",
       "1986-01-02   326.30      NaN\n",
       "1986-01-03   326.75      NaN\n",
       "1986-01-06   328.00      NaN\n",
       "1986-01-07   330.00      NaN\n",
       "1986-01-08   332.60      NaN\n",
       "...             ...      ...\n",
       "2022-12-30  1813.75  1753.50\n",
       "2023-01-03  1843.25  1803.15\n",
       "2023-01-04  1857.30  1784.75\n",
       "2023-01-05  1834.00  1776.80\n",
       "2023-01-06  1852.20  1773.80\n",
       "\n",
       "[9149 rows x 2 columns]"
      ]
     },
     "execution_count": 8,
     "metadata": {},
     "output_type": "execute_result"
    }
   ],
   "source": [
    "df = dataset[['Gold', 'GoldLag']]\n",
    "df"
   ]
  },
  {
   "cell_type": "code",
   "execution_count": 9,
   "metadata": {},
   "outputs": [
    {
     "name": "stderr",
     "output_type": "stream",
     "text": [
      "\n",
      "A value is trying to be set on a copy of a slice from a DataFrame\n",
      "\n",
      "See the caveats in the documentation: https://pandas.pydata.org/pandas-docs/stable/user_guide/indexing.html#returning-a-view-versus-a-copy\n"
     ]
    },
    {
     "data": {
      "text/html": [
       "<div>\n",
       "<style scoped>\n",
       "    .dataframe tbody tr th:only-of-type {\n",
       "        vertical-align: middle;\n",
       "    }\n",
       "\n",
       "    .dataframe tbody tr th {\n",
       "        vertical-align: top;\n",
       "    }\n",
       "\n",
       "    .dataframe thead th {\n",
       "        text-align: right;\n",
       "    }\n",
       "</style>\n",
       "<table border=\"1\" class=\"dataframe\">\n",
       "  <thead>\n",
       "    <tr style=\"text-align: right;\">\n",
       "      <th></th>\n",
       "      <th>Gold</th>\n",
       "      <th>GoldLag</th>\n",
       "    </tr>\n",
       "    <tr>\n",
       "      <th>date</th>\n",
       "      <th></th>\n",
       "      <th></th>\n",
       "    </tr>\n",
       "  </thead>\n",
       "  <tbody>\n",
       "    <tr>\n",
       "      <th>1986-01-30</th>\n",
       "      <td>358.00</td>\n",
       "      <td>326.30</td>\n",
       "    </tr>\n",
       "    <tr>\n",
       "      <th>1986-01-31</th>\n",
       "      <td>350.50</td>\n",
       "      <td>326.75</td>\n",
       "    </tr>\n",
       "    <tr>\n",
       "      <th>1986-02-03</th>\n",
       "      <td>347.30</td>\n",
       "      <td>328.00</td>\n",
       "    </tr>\n",
       "    <tr>\n",
       "      <th>1986-02-04</th>\n",
       "      <td>338.60</td>\n",
       "      <td>330.00</td>\n",
       "    </tr>\n",
       "    <tr>\n",
       "      <th>1986-02-05</th>\n",
       "      <td>337.30</td>\n",
       "      <td>332.60</td>\n",
       "    </tr>\n",
       "    <tr>\n",
       "      <th>...</th>\n",
       "      <td>...</td>\n",
       "      <td>...</td>\n",
       "    </tr>\n",
       "    <tr>\n",
       "      <th>2022-12-30</th>\n",
       "      <td>1813.75</td>\n",
       "      <td>1753.50</td>\n",
       "    </tr>\n",
       "    <tr>\n",
       "      <th>2023-01-03</th>\n",
       "      <td>1843.25</td>\n",
       "      <td>1803.15</td>\n",
       "    </tr>\n",
       "    <tr>\n",
       "      <th>2023-01-04</th>\n",
       "      <td>1857.30</td>\n",
       "      <td>1784.75</td>\n",
       "    </tr>\n",
       "    <tr>\n",
       "      <th>2023-01-05</th>\n",
       "      <td>1834.00</td>\n",
       "      <td>1776.80</td>\n",
       "    </tr>\n",
       "    <tr>\n",
       "      <th>2023-01-06</th>\n",
       "      <td>1852.20</td>\n",
       "      <td>1773.80</td>\n",
       "    </tr>\n",
       "  </tbody>\n",
       "</table>\n",
       "<p>9129 rows × 2 columns</p>\n",
       "</div>"
      ],
      "text/plain": [
       "               Gold  GoldLag\n",
       "date                        \n",
       "1986-01-30   358.00   326.30\n",
       "1986-01-31   350.50   326.75\n",
       "1986-02-03   347.30   328.00\n",
       "1986-02-04   338.60   330.00\n",
       "1986-02-05   337.30   332.60\n",
       "...             ...      ...\n",
       "2022-12-30  1813.75  1753.50\n",
       "2023-01-03  1843.25  1803.15\n",
       "2023-01-04  1857.30  1784.75\n",
       "2023-01-05  1834.00  1776.80\n",
       "2023-01-06  1852.20  1773.80\n",
       "\n",
       "[9129 rows x 2 columns]"
      ]
     },
     "execution_count": 9,
     "metadata": {},
     "output_type": "execute_result"
    }
   ],
   "source": [
    "df.dropna(inplace=True)\n",
    "df"
   ]
  },
  {
   "attachments": {},
   "cell_type": "markdown",
   "metadata": {},
   "source": [
    "---\n",
    "# LSTM univariate"
   ]
  },
  {
   "cell_type": "code",
   "execution_count": 10,
   "metadata": {},
   "outputs": [],
   "source": [
    "X_train, y_train = df['GoldLag'].iloc[:-60].values, df['Gold'].iloc[:-60].values\n",
    "X_test, y_test = df['GoldLag'].iloc[-60:-40].values, df['Gold'].iloc[-60:-40].values"
   ]
  },
  {
   "cell_type": "code",
   "execution_count": 11,
   "metadata": {},
   "outputs": [],
   "source": [
    "scx = MinMaxScaler(feature_range=(0,1))\n",
    "scy = MinMaxScaler(feature_range=(0,1))\n",
    "X_trains = scx.fit_transform(X_train.reshape(-1,1))\n",
    "y_trains = scy.fit_transform(y_train.reshape(-1,1))"
   ]
  },
  {
   "cell_type": "code",
   "execution_count": 12,
   "metadata": {},
   "outputs": [],
   "source": [
    "adam = Adam(lr=0.001)"
   ]
  },
  {
   "cell_type": "code",
   "execution_count": 13,
   "metadata": {},
   "outputs": [],
   "source": [
    "# this is needed for python 3.7 , for keras and tf in python 3.10 comment out this cell\n",
    "if versioncheck:\n",
    "    from numpy import newaxis\n",
    "\n",
    "    X_trains =X_trains[:,:,newaxis]\n",
    "    y_trains.reshape(1,-1)\n",
    "else:\n",
    "    pass"
   ]
  },
  {
   "cell_type": "code",
   "execution_count": 14,
   "metadata": {},
   "outputs": [
    {
     "name": "stdout",
     "output_type": "stream",
     "text": [
      "model compiled\n",
      "Model: \"sequential_1\"\n",
      "_________________________________________________________________\n",
      "Layer (type)                 Output Shape              Param #   \n",
      "=================================================================\n",
      "lstm_1 (LSTM)                (None, 1, 50)             10400     \n",
      "_________________________________________________________________\n",
      "dropout_1 (Dropout)          (None, 1, 50)             0         \n",
      "_________________________________________________________________\n",
      "lstm_2 (LSTM)                (None, 1, 100)            60400     \n",
      "_________________________________________________________________\n",
      "dropout_2 (Dropout)          (None, 1, 100)            0         \n",
      "_________________________________________________________________\n",
      "lstm_3 (LSTM)                (None, 200)               240800    \n",
      "_________________________________________________________________\n",
      "dropout_3 (Dropout)          (None, 200)               0         \n",
      "_________________________________________________________________\n",
      "dense_1 (Dense)              (None, 1)                 201       \n",
      "=================================================================\n",
      "Total params: 311,801\n",
      "Trainable params: 311,801\n",
      "Non-trainable params: 0\n",
      "_________________________________________________________________\n",
      "None\n"
     ]
    }
   ],
   "source": [
    "model = Sequential()\n",
    "model.add(LSTM(50, activation='relu', return_sequences=True, input_shape=(X_trains.shape[1],1)))\n",
    "model.add(Dropout(0.2))\n",
    "model.add(LSTM(100, return_sequences=True))\n",
    "model.add(Dropout(0.2))\n",
    "model.add(LSTM(200, return_sequences=False))\n",
    "model.add(Dropout(0.2))\n",
    "model.add(Dense(1, activation = \"relu\"))\n",
    "\n",
    "model.compile(loss='mse', optimizer=adam)\n",
    "\n",
    "print ('model compiled')\n",
    "\n",
    "print (model.summary())"
   ]
  },
  {
   "cell_type": "code",
   "execution_count": 15,
   "metadata": {},
   "outputs": [
    {
     "name": "stdout",
     "output_type": "stream",
     "text": [
      "WARNING:tensorflow:From e:\\anaconda\\envs\\shapenv\\lib\\site-packages\\keras\\backend\\tensorflow_backend.py:422: The name tf.global_variables is deprecated. Please use tf.compat.v1.global_variables instead.\n",
      "\n",
      "Epoch 1/100\n",
      " - 2s - loss: 0.0386\n",
      "Epoch 2/100\n",
      " - 1s - loss: 0.0028\n",
      "Epoch 3/100\n",
      " - 1s - loss: 0.0025\n",
      "Epoch 4/100\n",
      " - 1s - loss: 0.0022\n",
      "Epoch 5/100\n",
      " - 1s - loss: 0.0020\n",
      "Epoch 6/100\n",
      " - 1s - loss: 0.0019\n",
      "Epoch 7/100\n",
      " - 1s - loss: 0.0019\n",
      "Epoch 8/100\n",
      " - 1s - loss: 0.0019\n",
      "Epoch 9/100\n",
      " - 1s - loss: 0.0018\n",
      "Epoch 10/100\n",
      " - 1s - loss: 0.0018\n",
      "Epoch 11/100\n",
      " - 1s - loss: 0.0017\n",
      "Epoch 12/100\n",
      " - 1s - loss: 0.0016\n",
      "Epoch 13/100\n",
      " - 1s - loss: 0.0016\n",
      "Epoch 14/100\n",
      " - 1s - loss: 0.0016\n",
      "Epoch 15/100\n",
      " - 1s - loss: 0.0014\n",
      "Epoch 16/100\n",
      " - 1s - loss: 0.0015\n",
      "Epoch 17/100\n",
      " - 1s - loss: 0.0014\n",
      "Epoch 18/100\n",
      " - 1s - loss: 0.0015\n",
      "Epoch 19/100\n",
      " - 1s - loss: 0.0013\n",
      "Epoch 20/100\n",
      " - 1s - loss: 0.0014\n",
      "Epoch 21/100\n",
      " - 1s - loss: 0.0014\n",
      "Epoch 22/100\n",
      " - 1s - loss: 0.0014\n",
      "Epoch 23/100\n",
      " - 1s - loss: 0.0013\n",
      "Epoch 24/100\n",
      " - 1s - loss: 0.0013\n",
      "Epoch 25/100\n",
      " - 1s - loss: 0.0013\n",
      "Epoch 26/100\n",
      " - 1s - loss: 0.0013\n",
      "Epoch 27/100\n",
      " - 1s - loss: 0.0012\n",
      "Epoch 28/100\n",
      " - 1s - loss: 0.0012\n",
      "Epoch 29/100\n",
      " - 1s - loss: 0.0013\n",
      "Epoch 30/100\n",
      " - 1s - loss: 0.0012\n",
      "Epoch 31/100\n",
      " - 1s - loss: 0.0012\n",
      "Epoch 32/100\n",
      " - 1s - loss: 0.0012\n",
      "Epoch 33/100\n",
      " - 1s - loss: 0.0012\n",
      "Epoch 34/100\n",
      " - 1s - loss: 0.0012\n",
      "Epoch 35/100\n",
      " - 1s - loss: 0.0012\n",
      "Epoch 36/100\n",
      " - 1s - loss: 0.0012\n",
      "Epoch 37/100\n",
      " - 1s - loss: 0.0012\n",
      "Epoch 38/100\n",
      " - 1s - loss: 0.0012\n",
      "Epoch 39/100\n",
      " - 1s - loss: 0.0011\n",
      "Epoch 40/100\n",
      " - 1s - loss: 0.0012\n",
      "Epoch 41/100\n",
      " - 1s - loss: 0.0012\n",
      "Epoch 42/100\n",
      " - 1s - loss: 0.0011\n",
      "Epoch 43/100\n",
      " - 1s - loss: 0.0011\n",
      "Epoch 44/100\n",
      " - 1s - loss: 0.0011\n",
      "Epoch 45/100\n",
      " - 1s - loss: 0.0011\n",
      "Epoch 46/100\n",
      " - 1s - loss: 0.0012\n",
      "Epoch 47/100\n",
      " - 1s - loss: 0.0011\n",
      "Epoch 48/100\n",
      " - 1s - loss: 0.0011\n",
      "Epoch 49/100\n",
      " - 1s - loss: 0.0011\n",
      "Epoch 50/100\n",
      " - 1s - loss: 0.0011\n",
      "Epoch 51/100\n",
      " - 1s - loss: 0.0011\n",
      "Epoch 52/100\n",
      " - 1s - loss: 0.0011\n",
      "Epoch 53/100\n",
      " - 1s - loss: 0.0010\n",
      "Epoch 54/100\n",
      " - 1s - loss: 0.0011\n",
      "Epoch 55/100\n",
      " - 1s - loss: 0.0011\n",
      "Epoch 56/100\n",
      " - 1s - loss: 0.0010\n",
      "Epoch 57/100\n",
      " - 1s - loss: 0.0010\n",
      "Epoch 58/100\n",
      " - 1s - loss: 0.0010\n",
      "Epoch 59/100\n",
      " - 1s - loss: 0.0010\n",
      "Epoch 60/100\n",
      " - 1s - loss: 0.0010\n",
      "Epoch 61/100\n",
      " - 1s - loss: 0.0010\n",
      "Epoch 62/100\n",
      " - 1s - loss: 0.0010\n",
      "Epoch 63/100\n",
      " - 1s - loss: 0.0010\n",
      "Epoch 64/100\n",
      " - 1s - loss: 0.0010\n",
      "Epoch 65/100\n",
      " - 1s - loss: 0.0010\n",
      "Epoch 66/100\n",
      " - 1s - loss: 0.0010\n",
      "Epoch 67/100\n",
      " - 1s - loss: 0.0010\n",
      "Epoch 68/100\n",
      " - 1s - loss: 0.0010\n",
      "Epoch 69/100\n",
      " - 1s - loss: 0.0010\n",
      "Epoch 70/100\n",
      " - 1s - loss: 0.0010\n",
      "Epoch 71/100\n",
      " - 1s - loss: 9.9593e-04\n",
      "Epoch 72/100\n",
      " - 1s - loss: 9.6292e-04\n",
      "Epoch 73/100\n",
      " - 1s - loss: 0.0010\n",
      "Epoch 74/100\n",
      " - 1s - loss: 9.3999e-04\n",
      "Epoch 75/100\n",
      " - 1s - loss: 9.8437e-04\n",
      "Epoch 76/100\n",
      " - 1s - loss: 9.9843e-04\n",
      "Epoch 77/100\n",
      " - 1s - loss: 9.5240e-04\n",
      "Epoch 78/100\n",
      " - 1s - loss: 9.5596e-04\n",
      "Epoch 79/100\n",
      " - 1s - loss: 9.6303e-04\n",
      "Epoch 80/100\n",
      " - 1s - loss: 9.8462e-04\n",
      "Epoch 81/100\n",
      " - 1s - loss: 9.7224e-04\n",
      "Epoch 82/100\n",
      " - 1s - loss: 9.7719e-04\n",
      "Epoch 83/100\n",
      " - 1s - loss: 9.2701e-04\n",
      "Epoch 84/100\n",
      " - 1s - loss: 9.4433e-04\n",
      "Epoch 85/100\n",
      " - 1s - loss: 9.2804e-04\n",
      "Epoch 86/100\n",
      " - 1s - loss: 9.5080e-04\n",
      "Epoch 87/100\n",
      " - 1s - loss: 9.6116e-04\n",
      "Epoch 88/100\n",
      " - 1s - loss: 9.4901e-04\n",
      "Epoch 89/100\n",
      " - 1s - loss: 9.4096e-04\n",
      "Epoch 90/100\n",
      " - 1s - loss: 9.3030e-04\n",
      "Epoch 91/100\n",
      " - 1s - loss: 9.1585e-04\n",
      "Epoch 92/100\n",
      " - 1s - loss: 9.4879e-04\n",
      "Epoch 93/100\n",
      " - 1s - loss: 9.5558e-04\n",
      "Epoch 94/100\n",
      " - 1s - loss: 9.3443e-04\n",
      "Epoch 95/100\n",
      " - 1s - loss: 9.3417e-04\n",
      "Epoch 96/100\n",
      " - 1s - loss: 9.5932e-04\n",
      "Epoch 97/100\n",
      " - 1s - loss: 9.5708e-04\n",
      "Epoch 98/100\n",
      " - 1s - loss: 9.3795e-04\n",
      "Epoch 99/100\n",
      " - 1s - loss: 9.2309e-04\n",
      "Epoch 100/100\n",
      " - 1s - loss: 9.3257e-04\n"
     ]
    }
   ],
   "source": [
    "history = model.fit(X_trains, y_trains, batch_size=64, epochs=100, verbose=2, use_multiprocessing=True)"
   ]
  },
  {
   "cell_type": "code",
   "execution_count": 16,
   "metadata": {},
   "outputs": [
    {
     "data": {
      "image/png": "[encoded data removed]",
      "text/plain": [
       "<Figure size 800x500 with 1 Axes>"
      ]
     },
     "metadata": {},
     "output_type": "display_data"
    }
   ],
   "source": [
    "pd.DataFrame(history.history).plot(figsize=(8,5))\n",
    "plt.title('LSTM univariate loss graph')\n",
    "plt.show()"
   ]
  },
  {
   "cell_type": "code",
   "execution_count": 17,
   "metadata": {},
   "outputs": [],
   "source": [
    "sctsx = MinMaxScaler(feature_range=(0,1))\n",
    "sctsx.fit(X_test.reshape(-1,1))\n",
    "X_tests = sctsx.transform(X_test.reshape(-1,1))"
   ]
  },
  {
   "cell_type": "code",
   "execution_count": 18,
   "metadata": {},
   "outputs": [
    {
     "data": {
      "text/plain": [
       "MinMaxScaler()"
      ]
     },
     "execution_count": 18,
     "metadata": {},
     "output_type": "execute_result"
    }
   ],
   "source": [
    "sctsy = MinMaxScaler(feature_range=(0,1))\n",
    "sctsy.fit(y_test.reshape(-1,1))"
   ]
  },
  {
   "cell_type": "code",
   "execution_count": 19,
   "metadata": {},
   "outputs": [],
   "source": [
    "# version check for reshape\n",
    "if versioncheck:\n",
    "    X_tests =X_tests[:,:,newaxis]\n",
    "else:\n",
    "    pass"
   ]
  },
  {
   "cell_type": "code",
   "execution_count": 20,
   "metadata": {},
   "outputs": [],
   "source": [
    "fhats = model.predict(X_tests)"
   ]
  },
  {
   "cell_type": "code",
   "execution_count": 21,
   "metadata": {},
   "outputs": [],
   "source": [
    "hat_inv = sctsy.inverse_transform(fhats)\n",
    "uhat_inv_p1 = hat_inv"
   ]
  },
  {
   "cell_type": "code",
   "execution_count": 22,
   "metadata": {},
   "outputs": [
    {
     "data": {
      "image/png": "[encoded data removed]",
      "text/plain": [
       "<Figure size 640x480 with 1 Axes>"
      ]
     },
     "metadata": {},
     "output_type": "display_data"
    },
    {
     "data": {
      "text/plain": [
       "<Figure size 640x480 with 0 Axes>"
      ]
     },
     "metadata": {},
     "output_type": "display_data"
    }
   ],
   "source": [
    "plt.plot(y_test, color='lightblue', label='Actual Gold Price')\n",
    "plt.plot(hat_inv, color='red',label='Predicted Gold Price')\n",
    "plt.title('LSTM forecast - Univariate')\n",
    "plt.legend()\n",
    "plt.show()\n",
    "plt.clf()"
   ]
  },
  {
   "cell_type": "code",
   "execution_count": 23,
   "metadata": {},
   "outputs": [],
   "source": [
    "# metrics\n",
    "mae_uv = mean_absolute_error(y_test, hat_inv)\n",
    "mape_uv = mean_absolute_percentage_error(y_test, hat_inv)\n",
    "mse_uv = mean_squared_error(y_test, hat_inv)\n",
    "rmse_uv = np.sqrt(mse_uv)"
   ]
  },
  {
   "cell_type": "code",
   "execution_count": 24,
   "metadata": {},
   "outputs": [
    {
     "name": "stdout",
     "output_type": "stream",
     "text": [
      "MAE: 16.756301269531274\n",
      "MAPE: 0.01014588789780317\n",
      "MSE: 379.4668483669168\n",
      "RMSE: 19.479908838773266\n"
     ]
    }
   ],
   "source": [
    "print(f'MAE: {mae_uv}\\nMAPE: {mape_uv}\\nMSE: {mse_uv}\\nRMSE: {rmse_uv}')"
   ]
  },
  {
   "cell_type": "code",
   "execution_count": 25,
   "metadata": {},
   "outputs": [],
   "source": [
    "res_dict = {'model':[], 'type':[], 'period':[], 'MAE':[], 'MAPE':[], 'MSE':[], 'RMSE':[]}\n",
    "\n",
    "res_dict['model'].append('LSTM')\n",
    "res_dict['type'].append('univariate')\n",
    "res_dict['period'].append(1)\n",
    "res_dict['MAE'].append(mae_uv)\n",
    "res_dict['MAPE'].append(mape_uv)\n",
    "res_dict['MSE'].append(mse_uv)\n",
    "res_dict['RMSE'].append(rmse_uv)"
   ]
  },
  {
   "attachments": {},
   "cell_type": "markdown",
   "metadata": {},
   "source": [
    "# Univariate period 2"
   ]
  },
  {
   "cell_type": "code",
   "execution_count": 26,
   "metadata": {},
   "outputs": [],
   "source": [
    "X_train, y_train = df['GoldLag'].iloc[:-40].values, df['Gold'].iloc[:-40].values\n",
    "X_test, y_test = df['GoldLag'].iloc[-40:-20].values, df['Gold'].iloc[-40:-20].values"
   ]
  },
  {
   "cell_type": "code",
   "execution_count": 27,
   "metadata": {},
   "outputs": [],
   "source": [
    "scx = MinMaxScaler(feature_range=(0,1))\n",
    "scy = MinMaxScaler(feature_range=(0,1))\n",
    "X_trains = scx.fit_transform(X_train.reshape(-1,1))\n",
    "y_trains = scy.fit_transform(y_train.reshape(-1,1))"
   ]
  },
  {
   "cell_type": "code",
   "execution_count": 28,
   "metadata": {},
   "outputs": [],
   "source": [
    "adam = Adam(lr=0.001)"
   ]
  },
  {
   "cell_type": "code",
   "execution_count": 29,
   "metadata": {},
   "outputs": [],
   "source": [
    "# this is needed for python 3.7 , for keras and tf in python 3.10 comment out this cell\n",
    "if versioncheck:\n",
    "    from numpy import newaxis\n",
    "\n",
    "    X_trains =X_trains[:,:,newaxis]\n",
    "    y_trains.reshape(1,-1)\n",
    "else:\n",
    "    pass"
   ]
  },
  {
   "cell_type": "code",
   "execution_count": 30,
   "metadata": {},
   "outputs": [
    {
     "name": "stdout",
     "output_type": "stream",
     "text": [
      "model compiled\n",
      "Model: \"sequential_2\"\n",
      "_________________________________________________________________\n",
      "Layer (type)                 Output Shape              Param #   \n",
      "=================================================================\n",
      "lstm_4 (LSTM)                (None, 1, 50)             10400     \n",
      "_________________________________________________________________\n",
      "dropout_4 (Dropout)          (None, 1, 50)             0         \n",
      "_________________________________________________________________\n",
      "lstm_5 (LSTM)                (None, 1, 100)            60400     \n",
      "_________________________________________________________________\n",
      "dropout_5 (Dropout)          (None, 1, 100)            0         \n",
      "_________________________________________________________________\n",
      "lstm_6 (LSTM)                (None, 200)               240800    \n",
      "_________________________________________________________________\n",
      "dropout_6 (Dropout)          (None, 200)               0         \n",
      "_________________________________________________________________\n",
      "dense_2 (Dense)              (None, 1)                 201       \n",
      "=================================================================\n",
      "Total params: 311,801\n",
      "Trainable params: 311,801\n",
      "Non-trainable params: 0\n",
      "_________________________________________________________________\n",
      "None\n"
     ]
    }
   ],
   "source": [
    "model = Sequential()\n",
    "model.add(LSTM(50, activation='relu', return_sequences=True, input_shape=(X_trains.shape[1],1)))\n",
    "model.add(Dropout(0.2))\n",
    "model.add(LSTM(100, return_sequences=True))\n",
    "model.add(Dropout(0.2))\n",
    "model.add(LSTM(200, return_sequences=False))\n",
    "model.add(Dropout(0.2))\n",
    "model.add(Dense(1, activation = \"relu\"))\n",
    "\n",
    "model.compile(loss='mse', optimizer=adam)\n",
    "\n",
    "print ('model compiled')\n",
    "\n",
    "print (model.summary())"
   ]
  },
  {
   "cell_type": "code",
   "execution_count": 31,
   "metadata": {},
   "outputs": [
    {
     "name": "stdout",
     "output_type": "stream",
     "text": [
      "Epoch 1/100\n",
      " - 2s - loss: 0.0407\n",
      "Epoch 2/100\n",
      " - 1s - loss: 0.0031\n",
      "Epoch 3/100\n",
      " - 1s - loss: 0.0028\n",
      "Epoch 4/100\n",
      " - 1s - loss: 0.0024\n",
      "Epoch 5/100\n",
      " - 1s - loss: 0.0024\n",
      "Epoch 6/100\n",
      " - 1s - loss: 0.0023\n",
      "Epoch 7/100\n",
      " - 1s - loss: 0.0021\n",
      "Epoch 8/100\n",
      " - 1s - loss: 0.0020\n",
      "Epoch 9/100\n",
      " - 1s - loss: 0.0020\n",
      "Epoch 10/100\n",
      " - 1s - loss: 0.0019\n",
      "Epoch 11/100\n",
      " - 1s - loss: 0.0019\n",
      "Epoch 12/100\n",
      " - 1s - loss: 0.0018\n",
      "Epoch 13/100\n",
      " - 1s - loss: 0.0018\n",
      "Epoch 14/100\n",
      " - 1s - loss: 0.0016\n",
      "Epoch 15/100\n",
      " - 1s - loss: 0.0016\n",
      "Epoch 16/100\n",
      " - 1s - loss: 0.0016\n",
      "Epoch 17/100\n",
      " - 1s - loss: 0.0015\n",
      "Epoch 18/100\n",
      " - 1s - loss: 0.0016\n",
      "Epoch 19/100\n",
      " - 1s - loss: 0.0015\n",
      "Epoch 20/100\n",
      " - 1s - loss: 0.0015\n",
      "Epoch 21/100\n",
      " - 1s - loss: 0.0015\n",
      "Epoch 22/100\n",
      " - 1s - loss: 0.0015\n",
      "Epoch 23/100\n",
      " - 1s - loss: 0.0014\n",
      "Epoch 24/100\n",
      " - 1s - loss: 0.0015\n",
      "Epoch 25/100\n",
      " - 1s - loss: 0.0014\n",
      "Epoch 26/100\n",
      " - 1s - loss: 0.0014\n",
      "Epoch 27/100\n",
      " - 1s - loss: 0.0014\n",
      "Epoch 28/100\n",
      " - 1s - loss: 0.0014\n",
      "Epoch 29/100\n",
      " - 1s - loss: 0.0013\n",
      "Epoch 30/100\n",
      " - 1s - loss: 0.0013\n",
      "Epoch 31/100\n",
      " - 1s - loss: 0.0013\n",
      "Epoch 32/100\n",
      " - 1s - loss: 0.0013\n",
      "Epoch 33/100\n",
      " - 1s - loss: 0.0012\n",
      "Epoch 34/100\n",
      " - 1s - loss: 0.0013\n",
      "Epoch 35/100\n",
      " - 1s - loss: 0.0013\n",
      "Epoch 36/100\n",
      " - 1s - loss: 0.0012\n",
      "Epoch 37/100\n",
      " - 1s - loss: 0.0012\n",
      "Epoch 38/100\n",
      " - 1s - loss: 0.0012\n",
      "Epoch 39/100\n",
      " - 1s - loss: 0.0012\n",
      "Epoch 40/100\n",
      " - 1s - loss: 0.0012\n",
      "Epoch 41/100\n",
      " - 1s - loss: 0.0012\n",
      "Epoch 42/100\n",
      " - 1s - loss: 0.0012\n",
      "Epoch 43/100\n",
      " - 1s - loss: 0.0012\n",
      "Epoch 44/100\n",
      " - 1s - loss: 0.0012\n",
      "Epoch 45/100\n",
      " - 1s - loss: 0.0012\n",
      "Epoch 46/100\n",
      " - 1s - loss: 0.0012\n",
      "Epoch 47/100\n",
      " - 1s - loss: 0.0012\n",
      "Epoch 48/100\n",
      " - 1s - loss: 0.0012\n",
      "Epoch 49/100\n",
      " - 1s - loss: 0.0011\n",
      "Epoch 50/100\n",
      " - 1s - loss: 0.0011\n",
      "Epoch 51/100\n",
      " - 1s - loss: 0.0011\n",
      "Epoch 52/100\n",
      " - 1s - loss: 0.0011\n",
      "Epoch 53/100\n",
      " - 1s - loss: 0.0011\n",
      "Epoch 54/100\n",
      " - 1s - loss: 0.0011\n",
      "Epoch 55/100\n",
      " - 1s - loss: 0.0011\n",
      "Epoch 56/100\n",
      " - 1s - loss: 0.0011\n",
      "Epoch 57/100\n",
      " - 1s - loss: 0.0011\n",
      "Epoch 58/100\n",
      " - 1s - loss: 0.0011\n",
      "Epoch 59/100\n",
      " - 1s - loss: 0.0011\n",
      "Epoch 60/100\n",
      " - 1s - loss: 0.0011\n",
      "Epoch 61/100\n",
      " - 1s - loss: 0.0011\n",
      "Epoch 62/100\n",
      " - 1s - loss: 0.0011\n",
      "Epoch 63/100\n",
      " - 1s - loss: 0.0011\n",
      "Epoch 64/100\n",
      " - 1s - loss: 0.0011\n",
      "Epoch 65/100\n",
      " - 1s - loss: 0.0011\n",
      "Epoch 66/100\n",
      " - 1s - loss: 0.0010\n",
      "Epoch 67/100\n",
      " - 1s - loss: 0.0011\n",
      "Epoch 68/100\n",
      " - 1s - loss: 0.0010\n",
      "Epoch 69/100\n",
      " - 1s - loss: 0.0011\n",
      "Epoch 70/100\n",
      " - 1s - loss: 0.0011\n",
      "Epoch 71/100\n",
      " - 1s - loss: 0.0011\n",
      "Epoch 72/100\n",
      " - 1s - loss: 0.0010\n",
      "Epoch 73/100\n",
      " - 1s - loss: 0.0010\n",
      "Epoch 74/100\n",
      " - 1s - loss: 0.0011\n",
      "Epoch 75/100\n",
      " - 1s - loss: 0.0010\n",
      "Epoch 76/100\n",
      " - 1s - loss: 0.0010\n",
      "Epoch 77/100\n",
      " - 1s - loss: 0.0010\n",
      "Epoch 78/100\n",
      " - 1s - loss: 0.0010\n",
      "Epoch 79/100\n",
      " - 1s - loss: 0.0010\n",
      "Epoch 80/100\n",
      " - 1s - loss: 0.0010\n",
      "Epoch 81/100\n",
      " - 1s - loss: 0.0010\n",
      "Epoch 82/100\n",
      " - 1s - loss: 0.0010\n",
      "Epoch 83/100\n",
      " - 1s - loss: 9.8223e-04\n",
      "Epoch 84/100\n",
      " - 1s - loss: 0.0011\n",
      "Epoch 85/100\n",
      " - 1s - loss: 0.0010\n",
      "Epoch 86/100\n",
      " - 1s - loss: 0.0010\n",
      "Epoch 87/100\n",
      " - 1s - loss: 9.9215e-04\n",
      "Epoch 88/100\n",
      " - 1s - loss: 9.8388e-04\n",
      "Epoch 89/100\n",
      " - 1s - loss: 0.0010\n",
      "Epoch 90/100\n",
      " - 1s - loss: 9.9024e-04\n",
      "Epoch 91/100\n",
      " - 1s - loss: 9.8344e-04\n",
      "Epoch 92/100\n",
      " - 1s - loss: 0.0010\n",
      "Epoch 93/100\n",
      " - 1s - loss: 0.0010\n",
      "Epoch 94/100\n",
      " - 1s - loss: 0.0010\n",
      "Epoch 95/100\n",
      " - 1s - loss: 9.7976e-04\n",
      "Epoch 96/100\n",
      " - 1s - loss: 9.6624e-04\n",
      "Epoch 97/100\n",
      " - 1s - loss: 9.8986e-04\n",
      "Epoch 98/100\n",
      " - 1s - loss: 0.0010\n",
      "Epoch 99/100\n",
      " - 1s - loss: 0.0011\n",
      "Epoch 100/100\n",
      " - 1s - loss: 9.9171e-04\n"
     ]
    }
   ],
   "source": [
    "history = model.fit(X_trains, y_trains, batch_size=64, epochs=100, verbose=2, use_multiprocessing=True)"
   ]
  },
  {
   "cell_type": "code",
   "execution_count": 32,
   "metadata": {},
   "outputs": [
    {
     "data": {
      "image/png": "[encoded data removed]",
      "text/plain": [
       "<Figure size 800x500 with 1 Axes>"
      ]
     },
     "metadata": {},
     "output_type": "display_data"
    }
   ],
   "source": [
    "pd.DataFrame(history.history).plot(figsize=(8,5))\n",
    "plt.title('LSTM univariate loss graph')\n",
    "plt.show()"
   ]
  },
  {
   "cell_type": "code",
   "execution_count": 33,
   "metadata": {},
   "outputs": [],
   "source": [
    "sctsx = MinMaxScaler(feature_range=(0,1))\n",
    "sctsx.fit(X_test.reshape(-1,1))\n",
    "X_tests = sctsx.transform(X_test.reshape(-1,1))"
   ]
  },
  {
   "cell_type": "code",
   "execution_count": 34,
   "metadata": {},
   "outputs": [
    {
     "data": {
      "text/plain": [
       "MinMaxScaler()"
      ]
     },
     "execution_count": 34,
     "metadata": {},
     "output_type": "execute_result"
    }
   ],
   "source": [
    "sctsy = MinMaxScaler(feature_range=(0,1))\n",
    "sctsy.fit(y_test.reshape(-1,1))"
   ]
  },
  {
   "cell_type": "code",
   "execution_count": 35,
   "metadata": {},
   "outputs": [],
   "source": [
    "# version check for reshape\n",
    "if versioncheck:\n",
    "    X_tests =X_tests[:,:,newaxis]\n",
    "else:\n",
    "    pass"
   ]
  },
  {
   "cell_type": "code",
   "execution_count": 36,
   "metadata": {},
   "outputs": [],
   "source": [
    "fhats = model.predict(X_tests)"
   ]
  },
  {
   "cell_type": "code",
   "execution_count": 37,
   "metadata": {},
   "outputs": [],
   "source": [
    "hat_inv = sctsy.inverse_transform(fhats)\n",
    "uhat_inv_p2 = hat_inv"
   ]
  },
  {
   "cell_type": "code",
   "execution_count": 38,
   "metadata": {},
   "outputs": [
    {
     "data": {
      "image/png": "[encoded data removed]",
      "text/plain": [
       "<Figure size 640x480 with 1 Axes>"
      ]
     },
     "metadata": {},
     "output_type": "display_data"
    },
    {
     "data": {
      "text/plain": [
       "<Figure size 640x480 with 0 Axes>"
      ]
     },
     "metadata": {},
     "output_type": "display_data"
    }
   ],
   "source": [
    "plt.plot(y_test, color='lightblue', label='Actual Gold Price')\n",
    "plt.plot(hat_inv, color='red',label='Predicted Gold Price')\n",
    "plt.title('LSTM forecast - Univariate')\n",
    "plt.legend()\n",
    "plt.show()\n",
    "plt.clf()"
   ]
  },
  {
   "cell_type": "code",
   "execution_count": 39,
   "metadata": {},
   "outputs": [],
   "source": [
    "# metrics\n",
    "mae_uv = mean_absolute_error(y_test, hat_inv)\n",
    "mape_uv = mean_absolute_percentage_error(y_test, hat_inv)\n",
    "mse_uv = mean_squared_error(y_test, hat_inv)\n",
    "rmse_uv = np.sqrt(mse_uv)"
   ]
  },
  {
   "cell_type": "code",
   "execution_count": 40,
   "metadata": {},
   "outputs": [
    {
     "name": "stdout",
     "output_type": "stream",
     "text": [
      "MAE: 39.30983398437498\n",
      "MAPE: 0.022428960245772452\n",
      "MSE: 2494.5146352297047\n",
      "RMSE: 49.94511623001497\n"
     ]
    }
   ],
   "source": [
    "print(f'MAE: {mae_uv}\\nMAPE: {mape_uv}\\nMSE: {mse_uv}\\nRMSE: {rmse_uv}')"
   ]
  },
  {
   "cell_type": "code",
   "execution_count": 41,
   "metadata": {},
   "outputs": [],
   "source": [
    "res_dict['model'].append('LSTM')\n",
    "res_dict['type'].append('univariate')\n",
    "res_dict['period'].append(2)\n",
    "res_dict['MAE'].append(mae_uv)\n",
    "res_dict['MAPE'].append(mape_uv)\n",
    "res_dict['MSE'].append(mse_uv)\n",
    "res_dict['RMSE'].append(rmse_uv)"
   ]
  },
  {
   "attachments": {},
   "cell_type": "markdown",
   "metadata": {},
   "source": [
    "# Univariate period 3"
   ]
  },
  {
   "cell_type": "code",
   "execution_count": 42,
   "metadata": {},
   "outputs": [],
   "source": [
    "X_train, y_train = df['GoldLag'].iloc[:-20].values, df['Gold'].iloc[:-20].values\n",
    "X_test, y_test = df['GoldLag'].iloc[-20:].values, df['Gold'].iloc[-20:].values"
   ]
  },
  {
   "cell_type": "code",
   "execution_count": 43,
   "metadata": {},
   "outputs": [],
   "source": [
    "scx = MinMaxScaler(feature_range=(0,1))\n",
    "scy = MinMaxScaler(feature_range=(0,1))\n",
    "X_trains = scx.fit_transform(X_train.reshape(-1,1))\n",
    "y_trains = scy.fit_transform(y_train.reshape(-1,1))"
   ]
  },
  {
   "cell_type": "code",
   "execution_count": 44,
   "metadata": {},
   "outputs": [],
   "source": [
    "adam = Adam(lr=0.001)"
   ]
  },
  {
   "cell_type": "code",
   "execution_count": 45,
   "metadata": {},
   "outputs": [],
   "source": [
    "# this is needed for python 3.7 , for keras and tf in python 3.10 comment out this cell\n",
    "if versioncheck:\n",
    "    from numpy import newaxis\n",
    "\n",
    "    X_trains =X_trains[:,:,newaxis]\n",
    "    y_trains.reshape(1,-1)\n",
    "else:\n",
    "    pass"
   ]
  },
  {
   "cell_type": "code",
   "execution_count": 46,
   "metadata": {},
   "outputs": [
    {
     "name": "stdout",
     "output_type": "stream",
     "text": [
      "model compiled\n",
      "Model: \"sequential_3\"\n",
      "_________________________________________________________________\n",
      "Layer (type)                 Output Shape              Param #   \n",
      "=================================================================\n",
      "lstm_7 (LSTM)                (None, 1, 50)             10400     \n",
      "_________________________________________________________________\n",
      "dropout_7 (Dropout)          (None, 1, 50)             0         \n",
      "_________________________________________________________________\n",
      "lstm_8 (LSTM)                (None, 1, 100)            60400     \n",
      "_________________________________________________________________\n",
      "dropout_8 (Dropout)          (None, 1, 100)            0         \n",
      "_________________________________________________________________\n",
      "lstm_9 (LSTM)                (None, 200)               240800    \n",
      "_________________________________________________________________\n",
      "dropout_9 (Dropout)          (None, 200)               0         \n",
      "_________________________________________________________________\n",
      "dense_3 (Dense)              (None, 1)                 201       \n",
      "=================================================================\n",
      "Total params: 311,801\n",
      "Trainable params: 311,801\n",
      "Non-trainable params: 0\n",
      "_________________________________________________________________\n",
      "None\n"
     ]
    }
   ],
   "source": [
    "model = Sequential()\n",
    "model.add(LSTM(50, activation='relu', return_sequences=True, input_shape=(X_trains.shape[1],1)))\n",
    "model.add(Dropout(0.2))\n",
    "model.add(LSTM(100, return_sequences=True))\n",
    "model.add(Dropout(0.2))\n",
    "model.add(LSTM(200, return_sequences=False))\n",
    "model.add(Dropout(0.2))\n",
    "model.add(Dense(1, activation = \"relu\"))\n",
    "\n",
    "model.compile(loss='mse', optimizer=adam)\n",
    "\n",
    "print ('model compiled')\n",
    "\n",
    "print (model.summary())"
   ]
  },
  {
   "cell_type": "code",
   "execution_count": 47,
   "metadata": {},
   "outputs": [
    {
     "name": "stdout",
     "output_type": "stream",
     "text": [
      "Epoch 1/100\n",
      " - 2s - loss: 0.0354\n",
      "Epoch 2/100\n",
      " - 1s - loss: 0.0030\n",
      "Epoch 3/100\n",
      " - 1s - loss: 0.0027\n",
      "Epoch 4/100\n",
      " - 1s - loss: 0.0023\n",
      "Epoch 5/100\n",
      " - 1s - loss: 0.0022\n",
      "Epoch 6/100\n",
      " - 1s - loss: 0.0021\n",
      "Epoch 7/100\n",
      " - 1s - loss: 0.0021\n",
      "Epoch 8/100\n",
      " - 1s - loss: 0.0021\n",
      "Epoch 9/100\n",
      " - 1s - loss: 0.0018\n",
      "Epoch 10/100\n",
      " - 1s - loss: 0.0019\n",
      "Epoch 11/100\n",
      " - 1s - loss: 0.0018\n",
      "Epoch 12/100\n",
      " - 1s - loss: 0.0017\n",
      "Epoch 13/100\n",
      " - 1s - loss: 0.0017\n",
      "Epoch 14/100\n",
      " - 1s - loss: 0.0016\n",
      "Epoch 15/100\n",
      " - 1s - loss: 0.0016\n",
      "Epoch 16/100\n",
      " - 1s - loss: 0.0015\n",
      "Epoch 17/100\n",
      " - 1s - loss: 0.0016\n",
      "Epoch 18/100\n",
      " - 1s - loss: 0.0015\n",
      "Epoch 19/100\n",
      " - 1s - loss: 0.0015\n",
      "Epoch 20/100\n",
      " - 1s - loss: 0.0015\n",
      "Epoch 21/100\n",
      " - 1s - loss: 0.0014\n",
      "Epoch 22/100\n",
      " - 1s - loss: 0.0014\n",
      "Epoch 23/100\n",
      " - 1s - loss: 0.0014\n",
      "Epoch 24/100\n",
      " - 1s - loss: 0.0014\n",
      "Epoch 25/100\n",
      " - 1s - loss: 0.0013\n",
      "Epoch 26/100\n",
      " - 1s - loss: 0.0014\n",
      "Epoch 27/100\n",
      " - 1s - loss: 0.0013\n",
      "Epoch 28/100\n",
      " - 1s - loss: 0.0013\n",
      "Epoch 29/100\n",
      " - 1s - loss: 0.0013\n",
      "Epoch 30/100\n",
      " - 1s - loss: 0.0013\n",
      "Epoch 31/100\n",
      " - 1s - loss: 0.0014\n",
      "Epoch 32/100\n",
      " - 1s - loss: 0.0013\n",
      "Epoch 33/100\n",
      " - 1s - loss: 0.0013\n",
      "Epoch 34/100\n",
      " - 1s - loss: 0.0013\n",
      "Epoch 35/100\n",
      " - 1s - loss: 0.0012\n",
      "Epoch 36/100\n",
      " - 1s - loss: 0.0013\n",
      "Epoch 37/100\n",
      " - 1s - loss: 0.0013\n",
      "Epoch 38/100\n",
      " - 1s - loss: 0.0012\n",
      "Epoch 39/100\n",
      " - 1s - loss: 0.0012\n",
      "Epoch 40/100\n",
      " - 1s - loss: 0.0012\n",
      "Epoch 41/100\n",
      " - 1s - loss: 0.0012\n",
      "Epoch 42/100\n",
      " - 1s - loss: 0.0012\n",
      "Epoch 43/100\n",
      " - 1s - loss: 0.0012\n",
      "Epoch 44/100\n",
      " - 1s - loss: 0.0011\n",
      "Epoch 45/100\n",
      " - 1s - loss: 0.0011\n",
      "Epoch 46/100\n",
      " - 1s - loss: 0.0011\n",
      "Epoch 47/100\n",
      " - 1s - loss: 0.0011\n",
      "Epoch 48/100\n",
      " - 1s - loss: 0.0012\n",
      "Epoch 49/100\n",
      " - 1s - loss: 0.0011\n",
      "Epoch 50/100\n",
      " - 1s - loss: 0.0011\n",
      "Epoch 51/100\n",
      " - 1s - loss: 0.0011\n",
      "Epoch 52/100\n",
      " - 1s - loss: 0.0011\n",
      "Epoch 53/100\n",
      " - 1s - loss: 0.0011\n",
      "Epoch 54/100\n",
      " - 1s - loss: 0.0011\n",
      "Epoch 55/100\n",
      " - 1s - loss: 0.0011\n",
      "Epoch 56/100\n",
      " - 1s - loss: 0.0011\n",
      "Epoch 57/100\n",
      " - 1s - loss: 0.0011\n",
      "Epoch 58/100\n",
      " - 1s - loss: 0.0011\n",
      "Epoch 59/100\n",
      " - 1s - loss: 0.0011\n",
      "Epoch 60/100\n",
      " - 1s - loss: 0.0011\n",
      "Epoch 61/100\n",
      " - 1s - loss: 0.0011\n",
      "Epoch 62/100\n",
      " - 1s - loss: 0.0010\n",
      "Epoch 63/100\n",
      " - 1s - loss: 0.0011\n",
      "Epoch 64/100\n",
      " - 1s - loss: 0.0010\n",
      "Epoch 65/100\n",
      " - 1s - loss: 0.0010\n",
      "Epoch 66/100\n",
      " - 1s - loss: 0.0010\n",
      "Epoch 67/100\n",
      " - 1s - loss: 9.9870e-04\n",
      "Epoch 68/100\n",
      " - 1s - loss: 0.0011\n",
      "Epoch 69/100\n",
      " - 1s - loss: 9.9580e-04\n",
      "Epoch 70/100\n",
      " - 1s - loss: 0.0010\n",
      "Epoch 71/100\n",
      " - 1s - loss: 0.0010\n",
      "Epoch 72/100\n",
      " - 1s - loss: 0.0010\n",
      "Epoch 73/100\n",
      " - 1s - loss: 0.0010\n",
      "Epoch 74/100\n",
      " - 1s - loss: 0.0010\n",
      "Epoch 75/100\n",
      " - 1s - loss: 0.0010\n",
      "Epoch 76/100\n",
      " - 1s - loss: 0.0010\n",
      "Epoch 77/100\n",
      " - 1s - loss: 0.0010\n",
      "Epoch 78/100\n",
      " - 1s - loss: 0.0010\n",
      "Epoch 79/100\n",
      " - 1s - loss: 0.0010\n",
      "Epoch 80/100\n",
      " - 1s - loss: 9.7188e-04\n",
      "Epoch 81/100\n",
      " - 1s - loss: 0.0010\n",
      "Epoch 82/100\n",
      " - 1s - loss: 0.0010\n",
      "Epoch 83/100\n",
      " - 1s - loss: 9.9825e-04\n",
      "Epoch 84/100\n",
      " - 1s - loss: 0.0010\n",
      "Epoch 85/100\n",
      " - 1s - loss: 0.0010\n",
      "Epoch 86/100\n",
      " - 1s - loss: 9.9692e-04\n",
      "Epoch 87/100\n",
      " - 1s - loss: 0.0010\n",
      "Epoch 88/100\n",
      " - 1s - loss: 9.7088e-04\n",
      "Epoch 89/100\n",
      " - 1s - loss: 0.0010\n",
      "Epoch 90/100\n",
      " - 1s - loss: 0.0010\n",
      "Epoch 91/100\n",
      " - 1s - loss: 9.4591e-04\n",
      "Epoch 92/100\n",
      " - 1s - loss: 9.6261e-04\n",
      "Epoch 93/100\n",
      " - 1s - loss: 9.8359e-04\n",
      "Epoch 94/100\n",
      " - 1s - loss: 9.5976e-04\n",
      "Epoch 95/100\n",
      " - 1s - loss: 9.7759e-04\n",
      "Epoch 96/100\n",
      " - 1s - loss: 9.4293e-04\n",
      "Epoch 97/100\n",
      " - 1s - loss: 9.5976e-04\n",
      "Epoch 98/100\n",
      " - 1s - loss: 9.8158e-04\n",
      "Epoch 99/100\n",
      " - 1s - loss: 9.6356e-04\n",
      "Epoch 100/100\n",
      " - 1s - loss: 9.3113e-04\n"
     ]
    }
   ],
   "source": [
    "history = model.fit(X_trains, y_trains, batch_size=64, epochs=100, verbose=2, use_multiprocessing=True)"
   ]
  },
  {
   "cell_type": "code",
   "execution_count": 48,
   "metadata": {},
   "outputs": [
    {
     "data": {
      "image/png": "[encoded data removed]",
      "text/plain": [
       "<Figure size 800x500 with 1 Axes>"
      ]
     },
     "metadata": {},
     "output_type": "display_data"
    }
   ],
   "source": [
    "pd.DataFrame(history.history).plot(figsize=(8,5))\n",
    "plt.title('RNN univariate loss graph')\n",
    "plt.show()"
   ]
  },
  {
   "cell_type": "code",
   "execution_count": 49,
   "metadata": {},
   "outputs": [],
   "source": [
    "sctsx = MinMaxScaler(feature_range=(0,1))\n",
    "sctsx.fit(X_test.reshape(-1,1))\n",
    "X_tests = sctsx.transform(X_test.reshape(-1,1))"
   ]
  },
  {
   "cell_type": "code",
   "execution_count": 50,
   "metadata": {},
   "outputs": [
    {
     "data": {
      "text/plain": [
       "MinMaxScaler()"
      ]
     },
     "execution_count": 50,
     "metadata": {},
     "output_type": "execute_result"
    }
   ],
   "source": [
    "sctsy = MinMaxScaler(feature_range=(0,1))\n",
    "sctsy.fit(y_test.reshape(-1,1))"
   ]
  },
  {
   "cell_type": "code",
   "execution_count": 51,
   "metadata": {},
   "outputs": [],
   "source": [
    "# version check for reshape\n",
    "if versioncheck:\n",
    "    X_tests =X_tests[:,:,newaxis]\n",
    "else:\n",
    "    pass"
   ]
  },
  {
   "cell_type": "code",
   "execution_count": 52,
   "metadata": {},
   "outputs": [],
   "source": [
    "fhats = model.predict(X_tests)"
   ]
  },
  {
   "cell_type": "code",
   "execution_count": 53,
   "metadata": {},
   "outputs": [],
   "source": [
    "hat_inv = sctsy.inverse_transform(fhats)\n",
    "uhat_inv_p3 = hat_inv"
   ]
  },
  {
   "cell_type": "code",
   "execution_count": 54,
   "metadata": {},
   "outputs": [
    {
     "data": {
      "image/png": "[encoded data removed]",
      "text/plain": [
       "<Figure size 640x480 with 1 Axes>"
      ]
     },
     "metadata": {},
     "output_type": "display_data"
    },
    {
     "data": {
      "text/plain": [
       "<Figure size 640x480 with 0 Axes>"
      ]
     },
     "metadata": {},
     "output_type": "display_data"
    }
   ],
   "source": [
    "plt.plot(y_test, color='lightblue', label='Actual Gold Price')\n",
    "plt.plot(hat_inv, color='red',label='Predicted Gold Price')\n",
    "plt.title('LSTM forecast - Univariate')\n",
    "plt.legend()\n",
    "plt.show()\n",
    "plt.clf()"
   ]
  },
  {
   "cell_type": "code",
   "execution_count": 55,
   "metadata": {},
   "outputs": [],
   "source": [
    "# metrics\n",
    "mae_uv = mean_absolute_error(y_test, hat_inv)\n",
    "mape_uv = mean_absolute_percentage_error(y_test, hat_inv)\n",
    "mse_uv = mean_squared_error(y_test, hat_inv)\n",
    "rmse_uv = np.sqrt(mse_uv)"
   ]
  },
  {
   "cell_type": "code",
   "execution_count": 56,
   "metadata": {},
   "outputs": [
    {
     "name": "stdout",
     "output_type": "stream",
     "text": [
      "MAE: 19.614949951171877\n",
      "MAPE: 0.010888609447986955\n",
      "MSE: 588.0415717717714\n",
      "RMSE: 24.249568486300358\n"
     ]
    }
   ],
   "source": [
    "print(f'MAE: {mae_uv}\\nMAPE: {mape_uv}\\nMSE: {mse_uv}\\nRMSE: {rmse_uv}')"
   ]
  },
  {
   "cell_type": "code",
   "execution_count": 57,
   "metadata": {},
   "outputs": [],
   "source": [
    "res_dict['model'].append('LSTM')\n",
    "res_dict['type'].append('univariate')\n",
    "res_dict['period'].append(3)\n",
    "res_dict['MAE'].append(mae_uv)\n",
    "res_dict['MAPE'].append(mape_uv)\n",
    "res_dict['MSE'].append(mse_uv)\n",
    "res_dict['RMSE'].append(rmse_uv)"
   ]
  },
  {
   "cell_type": "code",
   "execution_count": 58,
   "metadata": {},
   "outputs": [
    {
     "data": {
      "text/html": [
       "<div>\n",
       "<style scoped>\n",
       "    .dataframe tbody tr th:only-of-type {\n",
       "        vertical-align: middle;\n",
       "    }\n",
       "\n",
       "    .dataframe tbody tr th {\n",
       "        vertical-align: top;\n",
       "    }\n",
       "\n",
       "    .dataframe thead th {\n",
       "        text-align: right;\n",
       "    }\n",
       "</style>\n",
       "<table border=\"1\" class=\"dataframe\">\n",
       "  <thead>\n",
       "    <tr style=\"text-align: right;\">\n",
       "      <th></th>\n",
       "      <th>model</th>\n",
       "      <th>type</th>\n",
       "      <th>period</th>\n",
       "      <th>MAE</th>\n",
       "      <th>MAPE</th>\n",
       "      <th>MSE</th>\n",
       "      <th>RMSE</th>\n",
       "    </tr>\n",
       "  </thead>\n",
       "  <tbody>\n",
       "    <tr>\n",
       "      <th>0</th>\n",
       "      <td>LSTM</td>\n",
       "      <td>univariate</td>\n",
       "      <td>1</td>\n",
       "      <td>16.756301</td>\n",
       "      <td>0.010146</td>\n",
       "      <td>379.466848</td>\n",
       "      <td>19.479909</td>\n",
       "    </tr>\n",
       "    <tr>\n",
       "      <th>1</th>\n",
       "      <td>LSTM</td>\n",
       "      <td>univariate</td>\n",
       "      <td>2</td>\n",
       "      <td>39.309834</td>\n",
       "      <td>0.022429</td>\n",
       "      <td>2494.514635</td>\n",
       "      <td>49.945116</td>\n",
       "    </tr>\n",
       "    <tr>\n",
       "      <th>2</th>\n",
       "      <td>LSTM</td>\n",
       "      <td>univariate</td>\n",
       "      <td>3</td>\n",
       "      <td>19.614950</td>\n",
       "      <td>0.010889</td>\n",
       "      <td>588.041572</td>\n",
       "      <td>24.249568</td>\n",
       "    </tr>\n",
       "  </tbody>\n",
       "</table>\n",
       "</div>"
      ],
      "text/plain": [
       "  model        type  period        MAE      MAPE          MSE       RMSE\n",
       "0  LSTM  univariate       1  16.756301  0.010146   379.466848  19.479909\n",
       "1  LSTM  univariate       2  39.309834  0.022429  2494.514635  49.945116\n",
       "2  LSTM  univariate       3  19.614950  0.010889   588.041572  24.249568"
      ]
     },
     "execution_count": 58,
     "metadata": {},
     "output_type": "execute_result"
    }
   ],
   "source": [
    "pd.DataFrame(res_dict)"
   ]
  },
  {
   "cell_type": "code",
   "execution_count": 59,
   "metadata": {},
   "outputs": [],
   "source": [
    "p1 = pd.DataFrame(uhat_inv_p1)\n",
    "p1.index = df.iloc[-60:-40].index\n",
    "p2 = pd.DataFrame(uhat_inv_p2)\n",
    "p2.index = df.iloc[-40:-20].index\n",
    "p3 = pd.DataFrame(uhat_inv_p3)\n",
    "p3.index = df.iloc[-20:].index"
   ]
  },
  {
   "cell_type": "code",
   "execution_count": 60,
   "metadata": {},
   "outputs": [
    {
     "data": {
      "text/plain": [
       "Text(0.5, 0, 'Date')"
      ]
     },
     "execution_count": 60,
     "metadata": {},
     "output_type": "execute_result"
    },
    {
     "data": {
      "image/png": "[encoded data removed]",
      "text/plain": [
       "<Figure size 1200x400 with 1 Axes>"
      ]
     },
     "metadata": {},
     "output_type": "display_data"
    }
   ],
   "source": [
    "fig, ax = plt.subplots(figsize=(12,4))\n",
    "plt.plot(df.iloc[-150:].index, df.iloc[-150:].Gold)\n",
    "plt.plot(p1.index, p1[0], linestyle='--')\n",
    "plt.plot(p2.index, p2[0], linestyle='--')\n",
    "plt.plot(p3.index, p3[0], linestyle='--')\n",
    "plt.title('LSTM - All forecasts - Univariate', fontsize=20)\n",
    "plt.ylabel('Price')\n",
    "plt.xlabel('Date')"
   ]
  },
  {
   "attachments": {},
   "cell_type": "markdown",
   "metadata": {},
   "source": [
    "---\n",
    "# LSTM multivariate"
   ]
  },
  {
   "cell_type": "code",
   "execution_count": 61,
   "metadata": {},
   "outputs": [
    {
     "data": {
      "text/html": [
       "<div>\n",
       "<style scoped>\n",
       "    .dataframe tbody tr th:only-of-type {\n",
       "        vertical-align: middle;\n",
       "    }\n",
       "\n",
       "    .dataframe tbody tr th {\n",
       "        vertical-align: top;\n",
       "    }\n",
       "\n",
       "    .dataframe thead th {\n",
       "        text-align: right;\n",
       "    }\n",
       "</style>\n",
       "<table border=\"1\" class=\"dataframe\">\n",
       "  <thead>\n",
       "    <tr style=\"text-align: right;\">\n",
       "      <th></th>\n",
       "      <th>Gold</th>\n",
       "      <th>CrudeOil</th>\n",
       "      <th>S&amp;P500</th>\n",
       "      <th>FTSE250</th>\n",
       "      <th>GoldLag</th>\n",
       "      <th>CrudeOilLag</th>\n",
       "      <th>S&amp;P500Lag</th>\n",
       "      <th>FTSE250Lag</th>\n",
       "    </tr>\n",
       "    <tr>\n",
       "      <th>date</th>\n",
       "      <th></th>\n",
       "      <th></th>\n",
       "      <th></th>\n",
       "      <th></th>\n",
       "      <th></th>\n",
       "      <th></th>\n",
       "      <th></th>\n",
       "      <th></th>\n",
       "    </tr>\n",
       "  </thead>\n",
       "  <tbody>\n",
       "    <tr>\n",
       "      <th>1986-01-02</th>\n",
       "      <td>326.30</td>\n",
       "      <td>25.56</td>\n",
       "      <td>209.59</td>\n",
       "      <td>1417.26</td>\n",
       "      <td>NaN</td>\n",
       "      <td>NaN</td>\n",
       "      <td>NaN</td>\n",
       "      <td>NaN</td>\n",
       "    </tr>\n",
       "    <tr>\n",
       "      <th>1986-01-03</th>\n",
       "      <td>326.75</td>\n",
       "      <td>26.00</td>\n",
       "      <td>210.88</td>\n",
       "      <td>1424.61</td>\n",
       "      <td>NaN</td>\n",
       "      <td>NaN</td>\n",
       "      <td>NaN</td>\n",
       "      <td>NaN</td>\n",
       "    </tr>\n",
       "    <tr>\n",
       "      <th>1986-01-06</th>\n",
       "      <td>328.00</td>\n",
       "      <td>26.53</td>\n",
       "      <td>210.65</td>\n",
       "      <td>1430.96</td>\n",
       "      <td>NaN</td>\n",
       "      <td>NaN</td>\n",
       "      <td>NaN</td>\n",
       "      <td>NaN</td>\n",
       "    </tr>\n",
       "    <tr>\n",
       "      <th>1986-01-07</th>\n",
       "      <td>330.00</td>\n",
       "      <td>25.85</td>\n",
       "      <td>213.80</td>\n",
       "      <td>1421.22</td>\n",
       "      <td>NaN</td>\n",
       "      <td>NaN</td>\n",
       "      <td>NaN</td>\n",
       "      <td>NaN</td>\n",
       "    </tr>\n",
       "    <tr>\n",
       "      <th>1986-01-08</th>\n",
       "      <td>332.60</td>\n",
       "      <td>25.87</td>\n",
       "      <td>207.97</td>\n",
       "      <td>1408.79</td>\n",
       "      <td>NaN</td>\n",
       "      <td>NaN</td>\n",
       "      <td>NaN</td>\n",
       "      <td>NaN</td>\n",
       "    </tr>\n",
       "    <tr>\n",
       "      <th>...</th>\n",
       "      <td>...</td>\n",
       "      <td>...</td>\n",
       "      <td>...</td>\n",
       "      <td>...</td>\n",
       "      <td>...</td>\n",
       "      <td>...</td>\n",
       "      <td>...</td>\n",
       "      <td>...</td>\n",
       "    </tr>\n",
       "    <tr>\n",
       "      <th>2022-12-30</th>\n",
       "      <td>1813.75</td>\n",
       "      <td>80.16</td>\n",
       "      <td>3839.50</td>\n",
       "      <td>18853.00</td>\n",
       "      <td>1753.50</td>\n",
       "      <td>80.48</td>\n",
       "      <td>4080.11</td>\n",
       "      <td>19163.33</td>\n",
       "    </tr>\n",
       "    <tr>\n",
       "      <th>2023-01-03</th>\n",
       "      <td>1843.25</td>\n",
       "      <td>76.87</td>\n",
       "      <td>3824.14</td>\n",
       "      <td>19134.34</td>\n",
       "      <td>1803.15</td>\n",
       "      <td>81.06</td>\n",
       "      <td>4076.57</td>\n",
       "      <td>19409.42</td>\n",
       "    </tr>\n",
       "    <tr>\n",
       "      <th>2023-01-04</th>\n",
       "      <td>1857.30</td>\n",
       "      <td>72.82</td>\n",
       "      <td>3852.97</td>\n",
       "      <td>19391.07</td>\n",
       "      <td>1784.75</td>\n",
       "      <td>79.86</td>\n",
       "      <td>4071.70</td>\n",
       "      <td>19363.28</td>\n",
       "    </tr>\n",
       "    <tr>\n",
       "      <th>2023-01-05</th>\n",
       "      <td>1834.00</td>\n",
       "      <td>73.61</td>\n",
       "      <td>3808.10</td>\n",
       "      <td>19463.43</td>\n",
       "      <td>1776.80</td>\n",
       "      <td>76.83</td>\n",
       "      <td>3998.84</td>\n",
       "      <td>19329.58</td>\n",
       "    </tr>\n",
       "    <tr>\n",
       "      <th>2023-01-06</th>\n",
       "      <td>1852.20</td>\n",
       "      <td>73.77</td>\n",
       "      <td>3895.08</td>\n",
       "      <td>19504.72</td>\n",
       "      <td>1773.80</td>\n",
       "      <td>74.21</td>\n",
       "      <td>3941.26</td>\n",
       "      <td>19100.08</td>\n",
       "    </tr>\n",
       "  </tbody>\n",
       "</table>\n",
       "<p>9149 rows × 8 columns</p>\n",
       "</div>"
      ],
      "text/plain": [
       "               Gold  CrudeOil   S&P500   FTSE250  GoldLag  CrudeOilLag  \\\n",
       "date                                                                     \n",
       "1986-01-02   326.30     25.56   209.59   1417.26      NaN          NaN   \n",
       "1986-01-03   326.75     26.00   210.88   1424.61      NaN          NaN   \n",
       "1986-01-06   328.00     26.53   210.65   1430.96      NaN          NaN   \n",
       "1986-01-07   330.00     25.85   213.80   1421.22      NaN          NaN   \n",
       "1986-01-08   332.60     25.87   207.97   1408.79      NaN          NaN   \n",
       "...             ...       ...      ...       ...      ...          ...   \n",
       "2022-12-30  1813.75     80.16  3839.50  18853.00  1753.50        80.48   \n",
       "2023-01-03  1843.25     76.87  3824.14  19134.34  1803.15        81.06   \n",
       "2023-01-04  1857.30     72.82  3852.97  19391.07  1784.75        79.86   \n",
       "2023-01-05  1834.00     73.61  3808.10  19463.43  1776.80        76.83   \n",
       "2023-01-06  1852.20     73.77  3895.08  19504.72  1773.80        74.21   \n",
       "\n",
       "            S&P500Lag  FTSE250Lag  \n",
       "date                               \n",
       "1986-01-02        NaN         NaN  \n",
       "1986-01-03        NaN         NaN  \n",
       "1986-01-06        NaN         NaN  \n",
       "1986-01-07        NaN         NaN  \n",
       "1986-01-08        NaN         NaN  \n",
       "...               ...         ...  \n",
       "2022-12-30    4080.11    19163.33  \n",
       "2023-01-03    4076.57    19409.42  \n",
       "2023-01-04    4071.70    19363.28  \n",
       "2023-01-05    3998.84    19329.58  \n",
       "2023-01-06    3941.26    19100.08  \n",
       "\n",
       "[9149 rows x 8 columns]"
      ]
     },
     "execution_count": 61,
     "metadata": {},
     "output_type": "execute_result"
    }
   ],
   "source": [
    "dataset[['CrudeOilLag', 'S&P500Lag', 'FTSE250Lag']]  = dataset[['CrudeOil', 'S&P500', 'FTSE250']].shift(20)\n",
    "dataset"
   ]
  },
  {
   "cell_type": "code",
   "execution_count": 62,
   "metadata": {},
   "outputs": [],
   "source": [
    "df = dataset[['Gold', 'CrudeOilLag', 'S&P500Lag', 'FTSE250Lag']].copy()"
   ]
  },
  {
   "cell_type": "code",
   "execution_count": 63,
   "metadata": {},
   "outputs": [
    {
     "data": {
      "text/html": [
       "<div>\n",
       "<style scoped>\n",
       "    .dataframe tbody tr th:only-of-type {\n",
       "        vertical-align: middle;\n",
       "    }\n",
       "\n",
       "    .dataframe tbody tr th {\n",
       "        vertical-align: top;\n",
       "    }\n",
       "\n",
       "    .dataframe thead th {\n",
       "        text-align: right;\n",
       "    }\n",
       "</style>\n",
       "<table border=\"1\" class=\"dataframe\">\n",
       "  <thead>\n",
       "    <tr style=\"text-align: right;\">\n",
       "      <th></th>\n",
       "      <th>Gold</th>\n",
       "      <th>CrudeOilLag</th>\n",
       "      <th>S&amp;P500Lag</th>\n",
       "      <th>FTSE250Lag</th>\n",
       "    </tr>\n",
       "    <tr>\n",
       "      <th>date</th>\n",
       "      <th></th>\n",
       "      <th></th>\n",
       "      <th></th>\n",
       "      <th></th>\n",
       "    </tr>\n",
       "  </thead>\n",
       "  <tbody>\n",
       "    <tr>\n",
       "      <th>1986-01-30</th>\n",
       "      <td>358.00</td>\n",
       "      <td>25.56</td>\n",
       "      <td>209.59</td>\n",
       "      <td>1417.26</td>\n",
       "    </tr>\n",
       "    <tr>\n",
       "      <th>1986-01-31</th>\n",
       "      <td>350.50</td>\n",
       "      <td>26.00</td>\n",
       "      <td>210.88</td>\n",
       "      <td>1424.61</td>\n",
       "    </tr>\n",
       "    <tr>\n",
       "      <th>1986-02-03</th>\n",
       "      <td>347.30</td>\n",
       "      <td>26.53</td>\n",
       "      <td>210.65</td>\n",
       "      <td>1430.96</td>\n",
       "    </tr>\n",
       "    <tr>\n",
       "      <th>1986-02-04</th>\n",
       "      <td>338.60</td>\n",
       "      <td>25.85</td>\n",
       "      <td>213.80</td>\n",
       "      <td>1421.22</td>\n",
       "    </tr>\n",
       "    <tr>\n",
       "      <th>1986-02-05</th>\n",
       "      <td>337.30</td>\n",
       "      <td>25.87</td>\n",
       "      <td>207.97</td>\n",
       "      <td>1408.79</td>\n",
       "    </tr>\n",
       "    <tr>\n",
       "      <th>...</th>\n",
       "      <td>...</td>\n",
       "      <td>...</td>\n",
       "      <td>...</td>\n",
       "      <td>...</td>\n",
       "    </tr>\n",
       "    <tr>\n",
       "      <th>2022-12-30</th>\n",
       "      <td>1813.75</td>\n",
       "      <td>80.48</td>\n",
       "      <td>4080.11</td>\n",
       "      <td>19163.33</td>\n",
       "    </tr>\n",
       "    <tr>\n",
       "      <th>2023-01-03</th>\n",
       "      <td>1843.25</td>\n",
       "      <td>81.06</td>\n",
       "      <td>4076.57</td>\n",
       "      <td>19409.42</td>\n",
       "    </tr>\n",
       "    <tr>\n",
       "      <th>2023-01-04</th>\n",
       "      <td>1857.30</td>\n",
       "      <td>79.86</td>\n",
       "      <td>4071.70</td>\n",
       "      <td>19363.28</td>\n",
       "    </tr>\n",
       "    <tr>\n",
       "      <th>2023-01-05</th>\n",
       "      <td>1834.00</td>\n",
       "      <td>76.83</td>\n",
       "      <td>3998.84</td>\n",
       "      <td>19329.58</td>\n",
       "    </tr>\n",
       "    <tr>\n",
       "      <th>2023-01-06</th>\n",
       "      <td>1852.20</td>\n",
       "      <td>74.21</td>\n",
       "      <td>3941.26</td>\n",
       "      <td>19100.08</td>\n",
       "    </tr>\n",
       "  </tbody>\n",
       "</table>\n",
       "<p>9129 rows × 4 columns</p>\n",
       "</div>"
      ],
      "text/plain": [
       "               Gold  CrudeOilLag  S&P500Lag  FTSE250Lag\n",
       "date                                                   \n",
       "1986-01-30   358.00        25.56     209.59     1417.26\n",
       "1986-01-31   350.50        26.00     210.88     1424.61\n",
       "1986-02-03   347.30        26.53     210.65     1430.96\n",
       "1986-02-04   338.60        25.85     213.80     1421.22\n",
       "1986-02-05   337.30        25.87     207.97     1408.79\n",
       "...             ...          ...        ...         ...\n",
       "2022-12-30  1813.75        80.48    4080.11    19163.33\n",
       "2023-01-03  1843.25        81.06    4076.57    19409.42\n",
       "2023-01-04  1857.30        79.86    4071.70    19363.28\n",
       "2023-01-05  1834.00        76.83    3998.84    19329.58\n",
       "2023-01-06  1852.20        74.21    3941.26    19100.08\n",
       "\n",
       "[9129 rows x 4 columns]"
      ]
     },
     "execution_count": 63,
     "metadata": {},
     "output_type": "execute_result"
    }
   ],
   "source": [
    "df.dropna(inplace=True)\n",
    "df"
   ]
  },
  {
   "attachments": {},
   "cell_type": "markdown",
   "metadata": {},
   "source": [
    "## Period 1"
   ]
  },
  {
   "cell_type": "code",
   "execution_count": 64,
   "metadata": {},
   "outputs": [],
   "source": [
    "X_train, y_train = df[['CrudeOilLag', 'S&P500Lag', 'FTSE250Lag']].iloc[:-60].values, df['Gold'].iloc[:-60].values\n",
    "X_test, y_test = df[['CrudeOilLag', 'S&P500Lag', 'FTSE250Lag']].iloc[-60:-40].values, df['Gold'].iloc[-60:-40].values"
   ]
  },
  {
   "cell_type": "code",
   "execution_count": 65,
   "metadata": {},
   "outputs": [],
   "source": [
    "scx = MinMaxScaler(feature_range=(0,1))\n",
    "scy = MinMaxScaler(feature_range=(0,1))\n",
    "X_trains = scx.fit_transform(X_train)\n",
    "y_trains = scy.fit_transform(y_train.reshape(-1,1))"
   ]
  },
  {
   "cell_type": "code",
   "execution_count": 66,
   "metadata": {},
   "outputs": [
    {
     "data": {
      "text/plain": [
       "array([[   25.56,   209.59,  1417.26],\n",
       "       [   26.  ,   210.88,  1424.61],\n",
       "       [   26.53,   210.65,  1430.96],\n",
       "       ...,\n",
       "       [   82.5 ,  3979.87, 18811.48],\n",
       "       [   84.04,  4006.18, 18878.29],\n",
       "       [   87.27,  4067.36, 19188.03]])"
      ]
     },
     "execution_count": 66,
     "metadata": {},
     "output_type": "execute_result"
    }
   ],
   "source": [
    "X_train"
   ]
  },
  {
   "cell_type": "code",
   "execution_count": 67,
   "metadata": {},
   "outputs": [],
   "source": [
    "adam = Adam(lr=0.001)"
   ]
  },
  {
   "cell_type": "code",
   "execution_count": 68,
   "metadata": {},
   "outputs": [],
   "source": [
    "if versioncheck:\n",
    "    X_trains =X_trains[:,:,newaxis]\n",
    "    #y_trains =y_trains[:,:,newaxis]\n",
    "else:\n",
    "    pass"
   ]
  },
  {
   "cell_type": "code",
   "execution_count": 69,
   "metadata": {},
   "outputs": [
    {
     "name": "stdout",
     "output_type": "stream",
     "text": [
      "model compiled\n",
      "Model: \"sequential_4\"\n",
      "_________________________________________________________________\n",
      "Layer (type)                 Output Shape              Param #   \n",
      "=================================================================\n",
      "lstm_10 (LSTM)               (None, 3, 50)             10400     \n",
      "_________________________________________________________________\n",
      "dropout_10 (Dropout)         (None, 3, 50)             0         \n",
      "_________________________________________________________________\n",
      "lstm_11 (LSTM)               (None, 3, 100)            60400     \n",
      "_________________________________________________________________\n",
      "dropout_11 (Dropout)         (None, 3, 100)            0         \n",
      "_________________________________________________________________\n",
      "lstm_12 (LSTM)               (None, 200)               240800    \n",
      "_________________________________________________________________\n",
      "dropout_12 (Dropout)         (None, 200)               0         \n",
      "_________________________________________________________________\n",
      "dense_4 (Dense)              (None, 1)                 201       \n",
      "=================================================================\n",
      "Total params: 311,801\n",
      "Trainable params: 311,801\n",
      "Non-trainable params: 0\n",
      "_________________________________________________________________\n",
      "None\n"
     ]
    }
   ],
   "source": [
    "model = Sequential()\n",
    "model.add(LSTM(50, activation='relu', return_sequences=True, input_shape=(X_trains.shape[1],1)))\n",
    "model.add(Dropout(0.2))\n",
    "model.add(LSTM(100, return_sequences=True))\n",
    "model.add(Dropout(0.2))\n",
    "model.add(LSTM(200, return_sequences=False))\n",
    "model.add(Dropout(0.2))\n",
    "model.add(Dense(1, activation = \"relu\"))\n",
    "\n",
    "model.compile(loss='mse', optimizer=adam, metrics=['mse'])\n",
    "\n",
    "print ('model compiled')\n",
    "\n",
    "print (model.summary())"
   ]
  },
  {
   "cell_type": "code",
   "execution_count": 70,
   "metadata": {},
   "outputs": [
    {
     "name": "stdout",
     "output_type": "stream",
     "text": [
      "Epoch 1/100\n",
      " - 2s - loss: 0.1065 - mse: 0.1065\n",
      "Epoch 2/100\n",
      " - 1s - loss: 0.0507 - mse: 0.0507\n",
      "Epoch 3/100\n",
      " - 2s - loss: 0.0226 - mse: 0.0226\n",
      "Epoch 4/100\n",
      " - 1s - loss: 0.0206 - mse: 0.0206\n",
      "Epoch 5/100\n",
      " - 1s - loss: 0.0195 - mse: 0.0195\n",
      "Epoch 6/100\n",
      " - 1s - loss: 0.0182 - mse: 0.0182\n",
      "Epoch 7/100\n",
      " - 1s - loss: 0.0178 - mse: 0.0178\n",
      "Epoch 8/100\n",
      " - 1s - loss: 0.0173 - mse: 0.0173\n",
      "Epoch 9/100\n",
      " - 1s - loss: 0.0167 - mse: 0.0167\n",
      "Epoch 10/100\n",
      " - 1s - loss: 0.0161 - mse: 0.0161\n",
      "Epoch 11/100\n",
      " - 1s - loss: 0.0157 - mse: 0.0157\n",
      "Epoch 12/100\n",
      " - 1s - loss: 0.0152 - mse: 0.0152\n",
      "Epoch 13/100\n",
      " - 1s - loss: 0.0146 - mse: 0.0146\n",
      "Epoch 14/100\n",
      " - 1s - loss: 0.0142 - mse: 0.0142\n",
      "Epoch 15/100\n",
      " - 1s - loss: 0.0137 - mse: 0.0137\n",
      "Epoch 16/100\n",
      " - 1s - loss: 0.0133 - mse: 0.0133\n",
      "Epoch 17/100\n",
      " - 1s - loss: 0.0128 - mse: 0.0128\n",
      "Epoch 18/100\n",
      " - 1s - loss: 0.0126 - mse: 0.0126\n",
      "Epoch 19/100\n",
      " - 1s - loss: 0.0124 - mse: 0.0124\n",
      "Epoch 20/100\n",
      " - 1s - loss: 0.0121 - mse: 0.0121\n",
      "Epoch 21/100\n",
      " - 1s - loss: 0.0118 - mse: 0.0118\n",
      "Epoch 22/100\n",
      " - 1s - loss: 0.0115 - mse: 0.0115\n",
      "Epoch 23/100\n",
      " - 1s - loss: 0.0115 - mse: 0.0115\n",
      "Epoch 24/100\n",
      " - 1s - loss: 0.0113 - mse: 0.0113\n",
      "Epoch 25/100\n",
      " - 1s - loss: 0.0113 - mse: 0.0113\n",
      "Epoch 26/100\n",
      " - 1s - loss: 0.0110 - mse: 0.0110\n",
      "Epoch 27/100\n",
      " - 1s - loss: 0.0108 - mse: 0.0108\n",
      "Epoch 28/100\n",
      " - 1s - loss: 0.0107 - mse: 0.0107\n",
      "Epoch 29/100\n",
      " - 1s - loss: 0.0103 - mse: 0.0103\n",
      "Epoch 30/100\n",
      " - 1s - loss: 0.0103 - mse: 0.0103\n",
      "Epoch 31/100\n",
      " - 1s - loss: 0.0100 - mse: 0.0100\n",
      "Epoch 32/100\n",
      " - 1s - loss: 0.0097 - mse: 0.0097\n",
      "Epoch 33/100\n",
      " - 1s - loss: 0.0096 - mse: 0.0096\n",
      "Epoch 34/100\n",
      " - 1s - loss: 0.0096 - mse: 0.0096\n",
      "Epoch 35/100\n",
      " - 1s - loss: 0.0093 - mse: 0.0093\n",
      "Epoch 36/100\n",
      " - 1s - loss: 0.0090 - mse: 0.0090\n",
      "Epoch 37/100\n",
      " - 1s - loss: 0.0087 - mse: 0.0087\n",
      "Epoch 38/100\n",
      " - 1s - loss: 0.0086 - mse: 0.0086\n",
      "Epoch 39/100\n",
      " - 1s - loss: 0.0084 - mse: 0.0084\n",
      "Epoch 40/100\n",
      " - 1s - loss: 0.0083 - mse: 0.0083\n",
      "Epoch 41/100\n",
      " - 1s - loss: 0.0081 - mse: 0.0081\n",
      "Epoch 42/100\n",
      " - 1s - loss: 0.0079 - mse: 0.0079\n",
      "Epoch 43/100\n",
      " - 1s - loss: 0.0078 - mse: 0.0078\n",
      "Epoch 44/100\n",
      " - 1s - loss: 0.0077 - mse: 0.0077\n",
      "Epoch 45/100\n",
      " - 1s - loss: 0.0074 - mse: 0.0074\n",
      "Epoch 46/100\n",
      " - 2s - loss: 0.0076 - mse: 0.0076\n",
      "Epoch 47/100\n",
      " - 1s - loss: 0.0074 - mse: 0.0074\n",
      "Epoch 48/100\n",
      " - 2s - loss: 0.0074 - mse: 0.0074\n",
      "Epoch 49/100\n",
      " - 1s - loss: 0.0073 - mse: 0.0073\n",
      "Epoch 50/100\n",
      " - 1s - loss: 0.0073 - mse: 0.0073\n",
      "Epoch 51/100\n",
      " - 1s - loss: 0.0071 - mse: 0.0071\n",
      "Epoch 52/100\n",
      " - 1s - loss: 0.0070 - mse: 0.0070\n",
      "Epoch 53/100\n",
      " - 1s - loss: 0.0070 - mse: 0.0070\n",
      "Epoch 54/100\n",
      " - 1s - loss: 0.0070 - mse: 0.0070\n",
      "Epoch 55/100\n",
      " - 1s - loss: 0.0069 - mse: 0.0069\n",
      "Epoch 56/100\n",
      " - 1s - loss: 0.0069 - mse: 0.0069\n",
      "Epoch 57/100\n",
      " - 1s - loss: 0.0067 - mse: 0.0067\n",
      "Epoch 58/100\n",
      " - 1s - loss: 0.0067 - mse: 0.0067\n",
      "Epoch 59/100\n",
      " - 1s - loss: 0.0067 - mse: 0.0067\n",
      "Epoch 60/100\n",
      " - 1s - loss: 0.0066 - mse: 0.0066\n",
      "Epoch 61/100\n",
      " - 1s - loss: 0.0065 - mse: 0.0065\n",
      "Epoch 62/100\n",
      " - 1s - loss: 0.0064 - mse: 0.0064\n",
      "Epoch 63/100\n",
      " - 1s - loss: 0.0065 - mse: 0.0065\n",
      "Epoch 64/100\n",
      " - 1s - loss: 0.0063 - mse: 0.0063\n",
      "Epoch 65/100\n",
      " - 1s - loss: 0.0063 - mse: 0.0063\n",
      "Epoch 66/100\n",
      " - 1s - loss: 0.0062 - mse: 0.0062\n",
      "Epoch 67/100\n",
      " - 1s - loss: 0.0063 - mse: 0.0063\n",
      "Epoch 68/100\n",
      " - 1s - loss: 0.0061 - mse: 0.0061\n",
      "Epoch 69/100\n",
      " - 1s - loss: 0.0062 - mse: 0.0062\n",
      "Epoch 70/100\n",
      " - 1s - loss: 0.0061 - mse: 0.0061\n",
      "Epoch 71/100\n",
      " - 1s - loss: 0.0061 - mse: 0.0061\n",
      "Epoch 72/100\n",
      " - 1s - loss: 0.0061 - mse: 0.0061\n",
      "Epoch 73/100\n",
      " - 2s - loss: 0.0061 - mse: 0.0061\n",
      "Epoch 74/100\n",
      " - 1s - loss: 0.0058 - mse: 0.0058\n",
      "Epoch 75/100\n",
      " - 1s - loss: 0.0059 - mse: 0.0059\n",
      "Epoch 76/100\n",
      " - 1s - loss: 0.0057 - mse: 0.0057\n",
      "Epoch 77/100\n",
      " - 1s - loss: 0.0060 - mse: 0.0060\n",
      "Epoch 78/100\n",
      " - 1s - loss: 0.0057 - mse: 0.0057\n",
      "Epoch 79/100\n",
      " - 1s - loss: 0.0057 - mse: 0.0057\n",
      "Epoch 80/100\n",
      " - 1s - loss: 0.0057 - mse: 0.0057\n",
      "Epoch 81/100\n",
      " - 1s - loss: 0.0056 - mse: 0.0056\n",
      "Epoch 82/100\n",
      " - 1s - loss: 0.0056 - mse: 0.0056\n",
      "Epoch 83/100\n",
      " - 2s - loss: 0.0056 - mse: 0.0056\n",
      "Epoch 84/100\n",
      " - 2s - loss: 0.0056 - mse: 0.0056\n",
      "Epoch 85/100\n",
      " - 2s - loss: 0.0055 - mse: 0.0055\n",
      "Epoch 86/100\n",
      " - 1s - loss: 0.0055 - mse: 0.0055\n",
      "Epoch 87/100\n",
      " - 1s - loss: 0.0054 - mse: 0.0054\n",
      "Epoch 88/100\n",
      " - 2s - loss: 0.0054 - mse: 0.0054\n",
      "Epoch 89/100\n",
      " - 1s - loss: 0.0054 - mse: 0.0054\n",
      "Epoch 90/100\n",
      " - 1s - loss: 0.0053 - mse: 0.0053\n",
      "Epoch 91/100\n",
      " - 2s - loss: 0.0053 - mse: 0.0053\n",
      "Epoch 92/100\n",
      " - 1s - loss: 0.0052 - mse: 0.0052\n",
      "Epoch 93/100\n",
      " - 1s - loss: 0.0052 - mse: 0.0052\n",
      "Epoch 94/100\n",
      " - 1s - loss: 0.0052 - mse: 0.0052\n",
      "Epoch 95/100\n",
      " - 1s - loss: 0.0053 - mse: 0.0053\n",
      "Epoch 96/100\n",
      " - 1s - loss: 0.0051 - mse: 0.0051\n",
      "Epoch 97/100\n",
      " - 1s - loss: 0.0051 - mse: 0.0051\n",
      "Epoch 98/100\n",
      " - 1s - loss: 0.0053 - mse: 0.0053\n",
      "Epoch 99/100\n",
      " - 1s - loss: 0.0050 - mse: 0.0050\n",
      "Epoch 100/100\n",
      " - 1s - loss: 0.0050 - mse: 0.0050\n"
     ]
    }
   ],
   "source": [
    "history = model.fit(X_trains, y_trains, batch_size=512, epochs=100, verbose=2, use_multiprocessing=True)"
   ]
  },
  {
   "cell_type": "code",
   "execution_count": 71,
   "metadata": {},
   "outputs": [],
   "source": [
    "sctsx = MinMaxScaler(feature_range=(0,1))\n",
    "sctsx.fit(X_test)\n",
    "X_tests = sctsx.transform(X_test)"
   ]
  },
  {
   "cell_type": "code",
   "execution_count": 72,
   "metadata": {},
   "outputs": [
    {
     "data": {
      "text/plain": [
       "MinMaxScaler()"
      ]
     },
     "execution_count": 72,
     "metadata": {},
     "output_type": "execute_result"
    }
   ],
   "source": [
    "sctsy = MinMaxScaler(feature_range=(0,1))\n",
    "sctsy.fit(y_test.reshape(-1,1))\n",
    "#ytt = sctsy.transform(y_test.reshape(-1,1))"
   ]
  },
  {
   "cell_type": "code",
   "execution_count": 73,
   "metadata": {},
   "outputs": [],
   "source": [
    "if versioncheck:\n",
    "    X_tests =X_tests[:,:,newaxis]\n",
    "    #y_trains =y_trains[:,:,newaxis]\n",
    "else:\n",
    "    pass"
   ]
  },
  {
   "cell_type": "code",
   "execution_count": 74,
   "metadata": {},
   "outputs": [],
   "source": [
    "fhats = model.predict(X_tests)"
   ]
  },
  {
   "cell_type": "code",
   "execution_count": 75,
   "metadata": {},
   "outputs": [],
   "source": [
    "hat_inv = sctsy.inverse_transform(fhats)\n",
    "mvhat_inv_p1 = hat_inv"
   ]
  },
  {
   "cell_type": "code",
   "execution_count": 76,
   "metadata": {},
   "outputs": [
    {
     "data": {
      "image/png": "[encoded data removed]",
      "text/plain": [
       "<Figure size 640x480 with 1 Axes>"
      ]
     },
     "metadata": {},
     "output_type": "display_data"
    },
    {
     "data": {
      "text/plain": [
       "<Figure size 640x480 with 0 Axes>"
      ]
     },
     "metadata": {},
     "output_type": "display_data"
    }
   ],
   "source": [
    "plt.plot(y_test, color='lightblue', label='Actual Gold Price')\n",
    "plt.plot(hat_inv, color='red',label='Predicted Gold Price')\n",
    "plt.title('LSTM forecast - Multivariate')\n",
    "plt.legend()\n",
    "plt.show()\n",
    "plt.clf()"
   ]
  },
  {
   "cell_type": "code",
   "execution_count": 77,
   "metadata": {},
   "outputs": [],
   "source": [
    "# metrics\n",
    "mae_mv = mean_absolute_error(y_test, hat_inv)\n",
    "mape_mv = mean_absolute_percentage_error(y_test, hat_inv)\n",
    "mse_mv = mean_squared_error(y_test, hat_inv)\n",
    "rmse_mv = np.sqrt(mse_mv)"
   ]
  },
  {
   "cell_type": "code",
   "execution_count": 78,
   "metadata": {},
   "outputs": [
    {
     "name": "stdout",
     "output_type": "stream",
     "text": [
      "MAE: 14.572421875000021\n",
      "MAPE: 0.008797128206676828\n",
      "MSE: 331.8333392772682\n",
      "RMSE: 18.21629323647564\n"
     ]
    }
   ],
   "source": [
    "print(f'MAE: {mae_mv}\\nMAPE: {mape_mv}\\nMSE: {mse_mv}\\nRMSE: {rmse_mv}')"
   ]
  },
  {
   "cell_type": "code",
   "execution_count": 79,
   "metadata": {},
   "outputs": [],
   "source": [
    "res_dict['model'].append('LSTM')\n",
    "res_dict['type'].append('multivariate')\n",
    "res_dict['period'].append(1)\n",
    "res_dict['MAE'].append(mae_mv)\n",
    "res_dict['MAPE'].append(mape_mv)\n",
    "res_dict['MSE'].append(mse_mv)\n",
    "res_dict['RMSE'].append(rmse_mv)"
   ]
  },
  {
   "attachments": {},
   "cell_type": "markdown",
   "metadata": {},
   "source": [
    "## Period 2"
   ]
  },
  {
   "cell_type": "code",
   "execution_count": 80,
   "metadata": {},
   "outputs": [],
   "source": [
    "X_train, y_train = df[['CrudeOilLag', 'S&P500Lag', 'FTSE250Lag']].iloc[:-40].values, df['Gold'].iloc[:-40].values\n",
    "X_test, y_test = df[['CrudeOilLag', 'S&P500Lag', 'FTSE250Lag']].iloc[-40:-20].values, df['Gold'].iloc[-40:-20].values"
   ]
  },
  {
   "cell_type": "code",
   "execution_count": 81,
   "metadata": {},
   "outputs": [],
   "source": [
    "scx = MinMaxScaler(feature_range=(0,1))\n",
    "scy = MinMaxScaler(feature_range=(0,1))\n",
    "X_trains = scx.fit_transform(X_train)\n",
    "y_trains = scy.fit_transform(y_train.reshape(-1,1))"
   ]
  },
  {
   "cell_type": "code",
   "execution_count": 82,
   "metadata": {},
   "outputs": [
    {
     "data": {
      "text/plain": [
       "array([[   25.56,   209.59,  1417.26],\n",
       "       [   26.  ,   210.88,  1424.61],\n",
       "       [   26.53,   210.65,  1430.96],\n",
       "       ...,\n",
       "       [   88.9 ,  3744.52, 17632.64],\n",
       "       [   93.07,  3639.66, 17353.28],\n",
       "       [   91.6 ,  3612.39, 17125.29]])"
      ]
     },
     "execution_count": 82,
     "metadata": {},
     "output_type": "execute_result"
    }
   ],
   "source": [
    "X_train"
   ]
  },
  {
   "cell_type": "code",
   "execution_count": 83,
   "metadata": {},
   "outputs": [],
   "source": [
    "adam = Adam(lr=0.001)"
   ]
  },
  {
   "cell_type": "code",
   "execution_count": 84,
   "metadata": {},
   "outputs": [],
   "source": [
    "if versioncheck:\n",
    "    X_trains =X_trains[:,:,newaxis]\n",
    "    #y_trains =y_trains[:,:,newaxis]\n",
    "else:\n",
    "    pass"
   ]
  },
  {
   "cell_type": "code",
   "execution_count": 85,
   "metadata": {},
   "outputs": [
    {
     "name": "stdout",
     "output_type": "stream",
     "text": [
      "model compiled\n",
      "Model: \"sequential_5\"\n",
      "_________________________________________________________________\n",
      "Layer (type)                 Output Shape              Param #   \n",
      "=================================================================\n",
      "lstm_13 (LSTM)               (None, 3, 50)             10400     \n",
      "_________________________________________________________________\n",
      "dropout_13 (Dropout)         (None, 3, 50)             0         \n",
      "_________________________________________________________________\n",
      "lstm_14 (LSTM)               (None, 3, 100)            60400     \n",
      "_________________________________________________________________\n",
      "dropout_14 (Dropout)         (None, 3, 100)            0         \n",
      "_________________________________________________________________\n",
      "lstm_15 (LSTM)               (None, 200)               240800    \n",
      "_________________________________________________________________\n",
      "dropout_15 (Dropout)         (None, 200)               0         \n",
      "_________________________________________________________________\n",
      "dense_5 (Dense)              (None, 1)                 201       \n",
      "=================================================================\n",
      "Total params: 311,801\n",
      "Trainable params: 311,801\n",
      "Non-trainable params: 0\n",
      "_________________________________________________________________\n",
      "None\n"
     ]
    }
   ],
   "source": [
    "model = Sequential()\n",
    "model.add(LSTM(50, activation='relu', return_sequences=True, input_shape=(X_trains.shape[1],1)))\n",
    "model.add(Dropout(0.2))\n",
    "model.add(LSTM(100, return_sequences=True))\n",
    "model.add(Dropout(0.2))\n",
    "model.add(LSTM(200, return_sequences=False))\n",
    "model.add(Dropout(0.2))\n",
    "model.add(Dense(1, activation = \"relu\"))\n",
    "\n",
    "model.compile(loss='mse', optimizer=adam, metrics=['mse'])\n",
    "\n",
    "print ('model compiled')\n",
    "\n",
    "print (model.summary())"
   ]
  },
  {
   "cell_type": "code",
   "execution_count": 86,
   "metadata": {},
   "outputs": [
    {
     "name": "stdout",
     "output_type": "stream",
     "text": [
      "Epoch 1/100\n",
      " - 3s - loss: 0.1050 - mse: 0.1050\n",
      "Epoch 2/100\n",
      " - 2s - loss: 0.0497 - mse: 0.0497\n",
      "Epoch 3/100\n",
      " - 1s - loss: 0.0227 - mse: 0.0227\n",
      "Epoch 4/100\n",
      " - 2s - loss: 0.0203 - mse: 0.0203\n",
      "Epoch 5/100\n",
      " - 1s - loss: 0.0191 - mse: 0.0191\n",
      "Epoch 6/100\n",
      " - 1s - loss: 0.0186 - mse: 0.0186\n",
      "Epoch 7/100\n",
      " - 2s - loss: 0.0179 - mse: 0.0179\n",
      "Epoch 8/100\n",
      " - 2s - loss: 0.0172 - mse: 0.0172\n",
      "Epoch 9/100\n",
      " - 1s - loss: 0.0166 - mse: 0.0166\n",
      "Epoch 10/100\n",
      " - 1s - loss: 0.0160 - mse: 0.0160\n",
      "Epoch 11/100\n",
      " - 1s - loss: 0.0155 - mse: 0.0155\n",
      "Epoch 12/100\n",
      " - 1s - loss: 0.0150 - mse: 0.0150\n",
      "Epoch 13/100\n",
      " - 1s - loss: 0.0143 - mse: 0.0143\n",
      "Epoch 14/100\n",
      " - 1s - loss: 0.0141 - mse: 0.0141\n",
      "Epoch 15/100\n",
      " - 1s - loss: 0.0133 - mse: 0.0133\n",
      "Epoch 16/100\n",
      " - 1s - loss: 0.0131 - mse: 0.0131\n",
      "Epoch 17/100\n",
      " - 1s - loss: 0.0126 - mse: 0.0126\n",
      "Epoch 18/100\n",
      " - 1s - loss: 0.0124 - mse: 0.0124\n",
      "Epoch 19/100\n",
      " - 2s - loss: 0.0122 - mse: 0.0122\n",
      "Epoch 20/100\n",
      " - 1s - loss: 0.0119 - mse: 0.0119\n",
      "Epoch 21/100\n",
      " - 1s - loss: 0.0117 - mse: 0.0117\n",
      "Epoch 22/100\n",
      " - 1s - loss: 0.0116 - mse: 0.0116\n",
      "Epoch 23/100\n",
      " - 1s - loss: 0.0113 - mse: 0.0113\n",
      "Epoch 24/100\n",
      " - 1s - loss: 0.0109 - mse: 0.0109\n",
      "Epoch 25/100\n",
      " - 1s - loss: 0.0109 - mse: 0.0109\n",
      "Epoch 26/100\n",
      " - 1s - loss: 0.0108 - mse: 0.0108\n",
      "Epoch 27/100\n",
      " - 1s - loss: 0.0105 - mse: 0.0105\n",
      "Epoch 28/100\n",
      " - 1s - loss: 0.0102 - mse: 0.0102\n",
      "Epoch 29/100\n",
      " - 1s - loss: 0.0102 - mse: 0.0102\n",
      "Epoch 30/100\n",
      " - 1s - loss: 0.0098 - mse: 0.0098\n",
      "Epoch 31/100\n",
      " - 1s - loss: 0.0098 - mse: 0.0098\n",
      "Epoch 32/100\n",
      " - 1s - loss: 0.0094 - mse: 0.0094\n",
      "Epoch 33/100\n",
      " - 1s - loss: 0.0093 - mse: 0.0093\n",
      "Epoch 34/100\n",
      " - 1s - loss: 0.0092 - mse: 0.0092\n",
      "Epoch 35/100\n",
      " - 1s - loss: 0.0088 - mse: 0.0088\n",
      "Epoch 36/100\n",
      " - 1s - loss: 0.0084 - mse: 0.0084\n",
      "Epoch 37/100\n",
      " - 1s - loss: 0.0083 - mse: 0.0083\n",
      "Epoch 38/100\n",
      " - 1s - loss: 0.0082 - mse: 0.0082\n",
      "Epoch 39/100\n",
      " - 1s - loss: 0.0081 - mse: 0.0081\n",
      "Epoch 40/100\n",
      " - 1s - loss: 0.0079 - mse: 0.0079\n",
      "Epoch 41/100\n",
      " - 1s - loss: 0.0078 - mse: 0.0078\n",
      "Epoch 42/100\n",
      " - 1s - loss: 0.0077 - mse: 0.0077\n",
      "Epoch 43/100\n",
      " - 1s - loss: 0.0075 - mse: 0.0075\n",
      "Epoch 44/100\n",
      " - 1s - loss: 0.0076 - mse: 0.0076\n",
      "Epoch 45/100\n",
      " - 1s - loss: 0.0074 - mse: 0.0074\n",
      "Epoch 46/100\n",
      " - 1s - loss: 0.0072 - mse: 0.0072\n",
      "Epoch 47/100\n",
      " - 1s - loss: 0.0071 - mse: 0.0071\n",
      "Epoch 48/100\n",
      " - 1s - loss: 0.0072 - mse: 0.0072\n",
      "Epoch 49/100\n",
      " - 1s - loss: 0.0070 - mse: 0.0070\n",
      "Epoch 50/100\n",
      " - 1s - loss: 0.0069 - mse: 0.0069\n",
      "Epoch 51/100\n",
      " - 1s - loss: 0.0069 - mse: 0.0069\n",
      "Epoch 52/100\n",
      " - 1s - loss: 0.0069 - mse: 0.0069\n",
      "Epoch 53/100\n",
      " - 1s - loss: 0.0067 - mse: 0.0067\n",
      "Epoch 54/100\n",
      " - 1s - loss: 0.0065 - mse: 0.0065\n",
      "Epoch 55/100\n",
      " - 1s - loss: 0.0065 - mse: 0.0065\n",
      "Epoch 56/100\n",
      " - 1s - loss: 0.0066 - mse: 0.0066\n",
      "Epoch 57/100\n",
      " - 1s - loss: 0.0066 - mse: 0.0066\n",
      "Epoch 58/100\n",
      " - 1s - loss: 0.0064 - mse: 0.0064\n",
      "Epoch 59/100\n",
      " - 1s - loss: 0.0064 - mse: 0.0064\n",
      "Epoch 60/100\n",
      " - 2s - loss: 0.0063 - mse: 0.0063\n",
      "Epoch 61/100\n",
      " - 2s - loss: 0.0064 - mse: 0.0064\n",
      "Epoch 62/100\n",
      " - 2s - loss: 0.0064 - mse: 0.0064\n",
      "Epoch 63/100\n",
      " - 1s - loss: 0.0061 - mse: 0.0061\n",
      "Epoch 64/100\n",
      " - 1s - loss: 0.0061 - mse: 0.0061\n",
      "Epoch 65/100\n",
      " - 1s - loss: 0.0061 - mse: 0.0061\n",
      "Epoch 66/100\n",
      " - 1s - loss: 0.0061 - mse: 0.0061\n",
      "Epoch 67/100\n",
      " - 1s - loss: 0.0061 - mse: 0.0061\n",
      "Epoch 68/100\n",
      " - 1s - loss: 0.0060 - mse: 0.0060\n",
      "Epoch 69/100\n",
      " - 1s - loss: 0.0060 - mse: 0.0060\n",
      "Epoch 70/100\n",
      " - 1s - loss: 0.0060 - mse: 0.0060\n",
      "Epoch 71/100\n",
      " - 1s - loss: 0.0059 - mse: 0.0059\n",
      "Epoch 72/100\n",
      " - 1s - loss: 0.0058 - mse: 0.0058\n",
      "Epoch 73/100\n",
      " - 1s - loss: 0.0059 - mse: 0.0059\n",
      "Epoch 74/100\n",
      " - 1s - loss: 0.0058 - mse: 0.0058\n",
      "Epoch 75/100\n",
      " - 1s - loss: 0.0057 - mse: 0.0057\n",
      "Epoch 76/100\n",
      " - 1s - loss: 0.0057 - mse: 0.0057\n",
      "Epoch 77/100\n",
      " - 1s - loss: 0.0056 - mse: 0.0056\n",
      "Epoch 78/100\n",
      " - 1s - loss: 0.0056 - mse: 0.0056\n",
      "Epoch 79/100\n",
      " - 1s - loss: 0.0056 - mse: 0.0056\n",
      "Epoch 80/100\n",
      " - 1s - loss: 0.0054 - mse: 0.0054\n",
      "Epoch 81/100\n",
      " - 1s - loss: 0.0056 - mse: 0.0056\n",
      "Epoch 82/100\n",
      " - 1s - loss: 0.0055 - mse: 0.0055\n",
      "Epoch 83/100\n",
      " - 1s - loss: 0.0056 - mse: 0.0056\n",
      "Epoch 84/100\n",
      " - 1s - loss: 0.0054 - mse: 0.0054\n",
      "Epoch 85/100\n",
      " - 1s - loss: 0.0053 - mse: 0.0053\n",
      "Epoch 86/100\n",
      " - 1s - loss: 0.0054 - mse: 0.0054\n",
      "Epoch 87/100\n",
      " - 1s - loss: 0.0054 - mse: 0.0054\n",
      "Epoch 88/100\n",
      " - 1s - loss: 0.0053 - mse: 0.0053\n",
      "Epoch 89/100\n",
      " - 1s - loss: 0.0051 - mse: 0.0051\n",
      "Epoch 90/100\n",
      " - 1s - loss: 0.0052 - mse: 0.0052\n",
      "Epoch 91/100\n",
      " - 1s - loss: 0.0053 - mse: 0.0053\n",
      "Epoch 92/100\n",
      " - 1s - loss: 0.0054 - mse: 0.0054\n",
      "Epoch 93/100\n",
      " - 1s - loss: 0.0053 - mse: 0.0053\n",
      "Epoch 94/100\n",
      " - 1s - loss: 0.0053 - mse: 0.0053\n",
      "Epoch 95/100\n",
      " - 1s - loss: 0.0051 - mse: 0.0051\n",
      "Epoch 96/100\n",
      " - 1s - loss: 0.0051 - mse: 0.0051\n",
      "Epoch 97/100\n",
      " - 1s - loss: 0.0051 - mse: 0.0051\n",
      "Epoch 98/100\n",
      " - 1s - loss: 0.0051 - mse: 0.0051\n",
      "Epoch 99/100\n",
      " - 1s - loss: 0.0051 - mse: 0.0051\n",
      "Epoch 100/100\n",
      " - 1s - loss: 0.0051 - mse: 0.0051\n"
     ]
    }
   ],
   "source": [
    "history = model.fit(X_trains, y_trains, batch_size=512, epochs=100, verbose=2, use_multiprocessing=True)"
   ]
  },
  {
   "cell_type": "code",
   "execution_count": 87,
   "metadata": {},
   "outputs": [],
   "source": [
    "sctsx = MinMaxScaler(feature_range=(0,1))\n",
    "sctsx.fit(X_test)\n",
    "X_tests = sctsx.transform(X_test)"
   ]
  },
  {
   "cell_type": "code",
   "execution_count": 88,
   "metadata": {},
   "outputs": [
    {
     "data": {
      "text/plain": [
       "MinMaxScaler()"
      ]
     },
     "execution_count": 88,
     "metadata": {},
     "output_type": "execute_result"
    }
   ],
   "source": [
    "sctsy = MinMaxScaler(feature_range=(0,1))\n",
    "sctsy.fit(y_test.reshape(-1,1))\n",
    "#ytt = sctsy.transform(y_test.reshape(-1,1))"
   ]
  },
  {
   "cell_type": "code",
   "execution_count": 89,
   "metadata": {},
   "outputs": [],
   "source": [
    "if versioncheck:\n",
    "    X_tests =X_tests[:,:,newaxis]\n",
    "    #y_trains =y_trains[:,:,newaxis]\n",
    "else:\n",
    "    pass"
   ]
  },
  {
   "cell_type": "code",
   "execution_count": 90,
   "metadata": {},
   "outputs": [],
   "source": [
    "fhats = model.predict(X_tests)"
   ]
  },
  {
   "cell_type": "code",
   "execution_count": 91,
   "metadata": {},
   "outputs": [],
   "source": [
    "hat_inv = sctsy.inverse_transform(fhats)\n",
    "mvhat_inv_p2 = hat_inv"
   ]
  },
  {
   "cell_type": "code",
   "execution_count": 92,
   "metadata": {},
   "outputs": [
    {
     "data": {
      "image/png": "[encoded data removed]",
      "text/plain": [
       "<Figure size 640x480 with 1 Axes>"
      ]
     },
     "metadata": {},
     "output_type": "display_data"
    },
    {
     "data": {
      "text/plain": [
       "<Figure size 640x480 with 0 Axes>"
      ]
     },
     "metadata": {},
     "output_type": "display_data"
    }
   ],
   "source": [
    "plt.plot(y_test, color='lightblue', label='Actual Gold Price')\n",
    "plt.plot(hat_inv, color='red',label='Predicted Gold Price')\n",
    "plt.title('LSTM forecast - Multivariate')\n",
    "plt.legend()\n",
    "plt.show()\n",
    "plt.clf()"
   ]
  },
  {
   "cell_type": "code",
   "execution_count": 93,
   "metadata": {},
   "outputs": [],
   "source": [
    "# metrics\n",
    "mae_mv = mean_absolute_error(y_test, hat_inv)\n",
    "mape_mv = mean_absolute_percentage_error(y_test, hat_inv)\n",
    "mse_mv = mean_squared_error(y_test, hat_inv)\n",
    "rmse_mv = np.sqrt(mse_mv)"
   ]
  },
  {
   "cell_type": "code",
   "execution_count": 94,
   "metadata": {},
   "outputs": [
    {
     "name": "stdout",
     "output_type": "stream",
     "text": [
      "MAE: 31.96784667968749\n",
      "MAPE: 0.018298941403958213\n",
      "MSE: 1512.0379264783846\n",
      "RMSE: 38.88493186927791\n"
     ]
    }
   ],
   "source": [
    "print(f'MAE: {mae_mv}\\nMAPE: {mape_mv}\\nMSE: {mse_mv}\\nRMSE: {rmse_mv}')"
   ]
  },
  {
   "cell_type": "code",
   "execution_count": 95,
   "metadata": {},
   "outputs": [],
   "source": [
    "res_dict['model'].append('LSTM')\n",
    "res_dict['type'].append('multivariate')\n",
    "res_dict['period'].append(2)\n",
    "res_dict['MAE'].append(mae_mv)\n",
    "res_dict['MAPE'].append(mape_mv)\n",
    "res_dict['MSE'].append(mse_mv)\n",
    "res_dict['RMSE'].append(rmse_mv)"
   ]
  },
  {
   "attachments": {},
   "cell_type": "markdown",
   "metadata": {},
   "source": [
    "## Period 3"
   ]
  },
  {
   "cell_type": "code",
   "execution_count": 96,
   "metadata": {},
   "outputs": [],
   "source": [
    "X_train, y_train = df[['CrudeOilLag', 'S&P500Lag', 'FTSE250Lag']].iloc[:-20].values, df['Gold'].iloc[:-20].values\n",
    "X_test, y_test = df[['CrudeOilLag', 'S&P500Lag', 'FTSE250Lag']].iloc[-20:].values, df['Gold'].iloc[-20:].values"
   ]
  },
  {
   "cell_type": "code",
   "execution_count": 97,
   "metadata": {},
   "outputs": [],
   "source": [
    "scx = MinMaxScaler(feature_range=(0,1))\n",
    "scy = MinMaxScaler(feature_range=(0,1))\n",
    "X_trains = scx.fit_transform(X_train)\n",
    "y_trains = scy.fit_transform(y_train.reshape(-1,1))"
   ]
  },
  {
   "cell_type": "code",
   "execution_count": 98,
   "metadata": {},
   "outputs": [
    {
     "data": {
      "text/plain": [
       "array([[   25.56,   209.59,  1417.26],\n",
       "       [   26.  ,   210.88,  1424.61],\n",
       "       [   26.53,   210.65,  1430.96],\n",
       "       ...,\n",
       "       [   88.14,  3719.89, 18109.61],\n",
       "       [   92.58,  3770.55, 18341.57],\n",
       "       [   91.8 ,  3806.8 , 18559.57]])"
      ]
     },
     "execution_count": 98,
     "metadata": {},
     "output_type": "execute_result"
    }
   ],
   "source": [
    "X_train"
   ]
  },
  {
   "cell_type": "code",
   "execution_count": 99,
   "metadata": {},
   "outputs": [],
   "source": [
    "adam = Adam(lr=0.001)"
   ]
  },
  {
   "cell_type": "code",
   "execution_count": 100,
   "metadata": {},
   "outputs": [],
   "source": [
    "if versioncheck:\n",
    "    X_trains =X_trains[:,:,newaxis]\n",
    "    #y_trains =y_trains[:,:,newaxis]\n",
    "else:\n",
    "    pass"
   ]
  },
  {
   "cell_type": "code",
   "execution_count": 101,
   "metadata": {},
   "outputs": [
    {
     "name": "stdout",
     "output_type": "stream",
     "text": [
      "model compiled\n",
      "Model: \"sequential_6\"\n",
      "_________________________________________________________________\n",
      "Layer (type)                 Output Shape              Param #   \n",
      "=================================================================\n",
      "lstm_16 (LSTM)               (None, 3, 50)             10400     \n",
      "_________________________________________________________________\n",
      "dropout_16 (Dropout)         (None, 3, 50)             0         \n",
      "_________________________________________________________________\n",
      "lstm_17 (LSTM)               (None, 3, 100)            60400     \n",
      "_________________________________________________________________\n",
      "dropout_17 (Dropout)         (None, 3, 100)            0         \n",
      "_________________________________________________________________\n",
      "lstm_18 (LSTM)               (None, 200)               240800    \n",
      "_________________________________________________________________\n",
      "dropout_18 (Dropout)         (None, 200)               0         \n",
      "_________________________________________________________________\n",
      "dense_6 (Dense)              (None, 1)                 201       \n",
      "=================================================================\n",
      "Total params: 311,801\n",
      "Trainable params: 311,801\n",
      "Non-trainable params: 0\n",
      "_________________________________________________________________\n",
      "None\n"
     ]
    }
   ],
   "source": [
    "model = Sequential()\n",
    "model.add(LSTM(50, activation='relu', return_sequences=True, input_shape=(X_trains.shape[1],1)))\n",
    "model.add(Dropout(0.2))\n",
    "model.add(LSTM(100, return_sequences=True))\n",
    "model.add(Dropout(0.2))\n",
    "model.add(LSTM(200, return_sequences=False))\n",
    "model.add(Dropout(0.2))\n",
    "model.add(Dense(1, activation = \"relu\"))\n",
    "\n",
    "model.compile(loss='mse', optimizer=adam, metrics=['mse'])\n",
    "\n",
    "print ('model compiled')\n",
    "\n",
    "print (model.summary())"
   ]
  },
  {
   "cell_type": "code",
   "execution_count": 102,
   "metadata": {},
   "outputs": [
    {
     "name": "stdout",
     "output_type": "stream",
     "text": [
      "Epoch 1/100\n",
      " - 3s - loss: 0.1102 - mse: 0.1102\n",
      "Epoch 2/100\n",
      " - 1s - loss: 0.0540 - mse: 0.0540\n",
      "Epoch 3/100\n",
      " - 1s - loss: 0.0239 - mse: 0.0239\n",
      "Epoch 4/100\n",
      " - 1s - loss: 0.0213 - mse: 0.0213\n",
      "Epoch 5/100\n",
      " - 1s - loss: 0.0199 - mse: 0.0199\n",
      "Epoch 6/100\n",
      " - 1s - loss: 0.0190 - mse: 0.0190\n",
      "Epoch 7/100\n",
      " - 1s - loss: 0.0180 - mse: 0.0180\n",
      "Epoch 8/100\n",
      " - 1s - loss: 0.0172 - mse: 0.0172\n",
      "Epoch 9/100\n",
      " - 1s - loss: 0.0162 - mse: 0.0162\n",
      "Epoch 10/100\n",
      " - 1s - loss: 0.0156 - mse: 0.0156\n",
      "Epoch 11/100\n",
      " - 1s - loss: 0.0154 - mse: 0.0154\n",
      "Epoch 12/100\n",
      " - 1s - loss: 0.0146 - mse: 0.0146\n",
      "Epoch 13/100\n",
      " - 1s - loss: 0.0140 - mse: 0.0140\n",
      "Epoch 14/100\n",
      " - 1s - loss: 0.0139 - mse: 0.0139\n",
      "Epoch 15/100\n",
      " - 1s - loss: 0.0134 - mse: 0.0134\n",
      "Epoch 16/100\n",
      " - 1s - loss: 0.0130 - mse: 0.0130\n",
      "Epoch 17/100\n",
      " - 1s - loss: 0.0129 - mse: 0.0129\n",
      "Epoch 18/100\n",
      " - 1s - loss: 0.0127 - mse: 0.0127\n",
      "Epoch 19/100\n",
      " - 1s - loss: 0.0124 - mse: 0.0124\n",
      "Epoch 20/100\n",
      " - 1s - loss: 0.0121 - mse: 0.0121\n",
      "Epoch 21/100\n",
      " - 1s - loss: 0.0120 - mse: 0.0120\n",
      "Epoch 22/100\n",
      " - 1s - loss: 0.0117 - mse: 0.0117\n",
      "Epoch 23/100\n",
      " - 1s - loss: 0.0115 - mse: 0.0115\n",
      "Epoch 24/100\n",
      " - 1s - loss: 0.0114 - mse: 0.0114\n",
      "Epoch 25/100\n",
      " - 1s - loss: 0.0112 - mse: 0.0112\n",
      "Epoch 26/100\n",
      " - 1s - loss: 0.0111 - mse: 0.0111\n",
      "Epoch 27/100\n",
      " - 1s - loss: 0.0109 - mse: 0.0109\n",
      "Epoch 28/100\n",
      " - 2s - loss: 0.0106 - mse: 0.0106\n",
      "Epoch 29/100\n",
      " - 1s - loss: 0.0105 - mse: 0.0105\n",
      "Epoch 30/100\n",
      " - 2s - loss: 0.0103 - mse: 0.0103\n",
      "Epoch 31/100\n",
      " - 2s - loss: 0.0102 - mse: 0.0102\n",
      "Epoch 32/100\n",
      " - 2s - loss: 0.0099 - mse: 0.0099\n",
      "Epoch 33/100\n",
      " - 2s - loss: 0.0098 - mse: 0.0098\n",
      "Epoch 34/100\n",
      " - 1s - loss: 0.0096 - mse: 0.0096\n",
      "Epoch 35/100\n",
      " - 2s - loss: 0.0095 - mse: 0.0095\n",
      "Epoch 36/100\n",
      " - 2s - loss: 0.0093 - mse: 0.0093\n",
      "Epoch 37/100\n",
      " - 2s - loss: 0.0090 - mse: 0.0090\n",
      "Epoch 38/100\n",
      " - 1s - loss: 0.0089 - mse: 0.0089\n",
      "Epoch 39/100\n",
      " - 1s - loss: 0.0089 - mse: 0.0089\n",
      "Epoch 40/100\n",
      " - 1s - loss: 0.0087 - mse: 0.0087\n",
      "Epoch 41/100\n",
      " - 2s - loss: 0.0086 - mse: 0.0086\n",
      "Epoch 42/100\n",
      " - 1s - loss: 0.0083 - mse: 0.0083\n",
      "Epoch 43/100\n",
      " - 1s - loss: 0.0083 - mse: 0.0083\n",
      "Epoch 44/100\n",
      " - 1s - loss: 0.0081 - mse: 0.0081\n",
      "Epoch 45/100\n",
      " - 1s - loss: 0.0079 - mse: 0.0079\n",
      "Epoch 46/100\n",
      " - 1s - loss: 0.0078 - mse: 0.0078\n",
      "Epoch 47/100\n",
      " - 1s - loss: 0.0076 - mse: 0.0076\n",
      "Epoch 48/100\n",
      " - 1s - loss: 0.0077 - mse: 0.0077\n",
      "Epoch 49/100\n",
      " - 1s - loss: 0.0076 - mse: 0.0076\n",
      "Epoch 50/100\n",
      " - 1s - loss: 0.0072 - mse: 0.0072\n",
      "Epoch 51/100\n",
      " - 1s - loss: 0.0073 - mse: 0.0073\n",
      "Epoch 52/100\n",
      " - 2s - loss: 0.0072 - mse: 0.0072\n",
      "Epoch 53/100\n",
      " - 1s - loss: 0.0073 - mse: 0.0073\n",
      "Epoch 54/100\n",
      " - 2s - loss: 0.0070 - mse: 0.0070\n",
      "Epoch 55/100\n",
      " - 1s - loss: 0.0070 - mse: 0.0070\n",
      "Epoch 56/100\n",
      " - 1s - loss: 0.0067 - mse: 0.0067\n",
      "Epoch 57/100\n",
      " - 1s - loss: 0.0069 - mse: 0.0069\n",
      "Epoch 58/100\n",
      " - 1s - loss: 0.0068 - mse: 0.0068\n",
      "Epoch 59/100\n",
      " - 1s - loss: 0.0068 - mse: 0.0068\n",
      "Epoch 60/100\n",
      " - 1s - loss: 0.0066 - mse: 0.0066\n",
      "Epoch 61/100\n",
      " - 1s - loss: 0.0066 - mse: 0.0066\n",
      "Epoch 62/100\n",
      " - 1s - loss: 0.0065 - mse: 0.0065\n",
      "Epoch 63/100\n",
      " - 1s - loss: 0.0065 - mse: 0.0065\n",
      "Epoch 64/100\n",
      " - 1s - loss: 0.0064 - mse: 0.0064\n",
      "Epoch 65/100\n",
      " - 1s - loss: 0.0064 - mse: 0.0064\n",
      "Epoch 66/100\n",
      " - 1s - loss: 0.0063 - mse: 0.0063\n",
      "Epoch 67/100\n",
      " - 1s - loss: 0.0062 - mse: 0.0062\n",
      "Epoch 68/100\n",
      " - 1s - loss: 0.0063 - mse: 0.0063\n",
      "Epoch 69/100\n",
      " - 1s - loss: 0.0062 - mse: 0.0062\n",
      "Epoch 70/100\n",
      " - 1s - loss: 0.0062 - mse: 0.0062\n",
      "Epoch 71/100\n",
      " - 1s - loss: 0.0061 - mse: 0.0061\n",
      "Epoch 72/100\n",
      " - 1s - loss: 0.0061 - mse: 0.0061\n",
      "Epoch 73/100\n",
      " - 1s - loss: 0.0059 - mse: 0.0059\n",
      "Epoch 74/100\n",
      " - 1s - loss: 0.0059 - mse: 0.0059\n",
      "Epoch 75/100\n",
      " - 1s - loss: 0.0058 - mse: 0.0058\n",
      "Epoch 76/100\n",
      " - 1s - loss: 0.0060 - mse: 0.0060\n",
      "Epoch 77/100\n",
      " - 1s - loss: 0.0058 - mse: 0.0058\n",
      "Epoch 78/100\n",
      " - 1s - loss: 0.0059 - mse: 0.0059\n",
      "Epoch 79/100\n",
      " - 1s - loss: 0.0059 - mse: 0.0059\n",
      "Epoch 80/100\n",
      " - 1s - loss: 0.0057 - mse: 0.0057\n",
      "Epoch 81/100\n",
      " - 1s - loss: 0.0058 - mse: 0.0058\n",
      "Epoch 82/100\n",
      " - 1s - loss: 0.0057 - mse: 0.0057\n",
      "Epoch 83/100\n",
      " - 1s - loss: 0.0057 - mse: 0.0057\n",
      "Epoch 84/100\n",
      " - 1s - loss: 0.0057 - mse: 0.0057\n",
      "Epoch 85/100\n",
      " - 1s - loss: 0.0058 - mse: 0.0058\n",
      "Epoch 86/100\n",
      " - 1s - loss: 0.0058 - mse: 0.0058\n",
      "Epoch 87/100\n",
      " - 1s - loss: 0.0056 - mse: 0.0056\n",
      "Epoch 88/100\n",
      " - 1s - loss: 0.0057 - mse: 0.0057\n",
      "Epoch 89/100\n",
      " - 1s - loss: 0.0055 - mse: 0.0055\n",
      "Epoch 90/100\n",
      " - 1s - loss: 0.0055 - mse: 0.0055\n",
      "Epoch 91/100\n",
      " - 1s - loss: 0.0054 - mse: 0.0054\n",
      "Epoch 92/100\n",
      " - 1s - loss: 0.0055 - mse: 0.0055\n",
      "Epoch 93/100\n",
      " - 1s - loss: 0.0053 - mse: 0.0053\n",
      "Epoch 94/100\n",
      " - 1s - loss: 0.0054 - mse: 0.0054\n",
      "Epoch 95/100\n",
      " - 1s - loss: 0.0054 - mse: 0.0054\n",
      "Epoch 96/100\n",
      " - 1s - loss: 0.0054 - mse: 0.0054\n",
      "Epoch 97/100\n",
      " - 1s - loss: 0.0054 - mse: 0.0054\n",
      "Epoch 98/100\n",
      " - 1s - loss: 0.0053 - mse: 0.0053\n",
      "Epoch 99/100\n",
      " - 1s - loss: 0.0052 - mse: 0.0052\n",
      "Epoch 100/100\n",
      " - 1s - loss: 0.0053 - mse: 0.0053\n"
     ]
    }
   ],
   "source": [
    "history = model.fit(X_trains, y_trains, batch_size=512, epochs=100, verbose=2, use_multiprocessing=True)"
   ]
  },
  {
   "cell_type": "code",
   "execution_count": 103,
   "metadata": {},
   "outputs": [],
   "source": [
    "sctsx = MinMaxScaler(feature_range=(0,1))\n",
    "sctsx.fit(X_test)\n",
    "X_tests = sctsx.transform(X_test)"
   ]
  },
  {
   "cell_type": "code",
   "execution_count": 104,
   "metadata": {},
   "outputs": [
    {
     "data": {
      "text/plain": [
       "MinMaxScaler()"
      ]
     },
     "execution_count": 104,
     "metadata": {},
     "output_type": "execute_result"
    }
   ],
   "source": [
    "sctsy = MinMaxScaler(feature_range=(0,1))\n",
    "sctsy.fit(y_test.reshape(-1,1))\n",
    "#ytt = sctsy.transform(y_test.reshape(-1,1))"
   ]
  },
  {
   "cell_type": "code",
   "execution_count": 105,
   "metadata": {},
   "outputs": [],
   "source": [
    "if versioncheck:\n",
    "    X_tests =X_tests[:,:,newaxis]\n",
    "    #y_trains =y_trains[:,:,newaxis]\n",
    "else:\n",
    "    pass"
   ]
  },
  {
   "cell_type": "code",
   "execution_count": 106,
   "metadata": {},
   "outputs": [],
   "source": [
    "fhats = model.predict(X_tests)"
   ]
  },
  {
   "cell_type": "code",
   "execution_count": 107,
   "metadata": {},
   "outputs": [],
   "source": [
    "hat_inv = sctsy.inverse_transform(fhats)\n",
    "mvhat_inv_p3 = hat_inv"
   ]
  },
  {
   "cell_type": "code",
   "execution_count": 108,
   "metadata": {},
   "outputs": [
    {
     "data": {
      "image/png": "[encoded data removed]",
      "text/plain": [
       "<Figure size 640x480 with 1 Axes>"
      ]
     },
     "metadata": {},
     "output_type": "display_data"
    },
    {
     "data": {
      "text/plain": [
       "<Figure size 640x480 with 0 Axes>"
      ]
     },
     "metadata": {},
     "output_type": "display_data"
    }
   ],
   "source": [
    "plt.plot(y_test, color='lightblue', label='Actual Gold Price')\n",
    "plt.plot(hat_inv, color='red',label='Predicted Gold Price')\n",
    "plt.title('LSTM forecast - Multivariate')\n",
    "plt.legend()\n",
    "plt.show()\n",
    "plt.clf()"
   ]
  },
  {
   "cell_type": "code",
   "execution_count": 109,
   "metadata": {},
   "outputs": [],
   "source": [
    "# metrics\n",
    "mae_mv = mean_absolute_error(y_test, hat_inv)\n",
    "mape_mv = mean_absolute_percentage_error(y_test, hat_inv)\n",
    "mse_mv = mean_squared_error(y_test, hat_inv)\n",
    "rmse_mv = np.sqrt(mse_mv)"
   ]
  },
  {
   "cell_type": "code",
   "execution_count": 110,
   "metadata": {},
   "outputs": [
    {
     "name": "stdout",
     "output_type": "stream",
     "text": [
      "MAE: 29.222316894531254\n",
      "MAPE: 0.01622291888128108\n",
      "MSE: 1105.6058137778643\n",
      "RMSE: 33.2506513286261\n"
     ]
    }
   ],
   "source": [
    "print(f'MAE: {mae_mv}\\nMAPE: {mape_mv}\\nMSE: {mse_mv}\\nRMSE: {rmse_mv}')"
   ]
  },
  {
   "cell_type": "code",
   "execution_count": 111,
   "metadata": {},
   "outputs": [],
   "source": [
    "res_dict['model'].append('LSTM')\n",
    "res_dict['type'].append('multivariate')\n",
    "res_dict['period'].append(3)\n",
    "res_dict['MAE'].append(mae_mv)\n",
    "res_dict['MAPE'].append(mape_mv)\n",
    "res_dict['MSE'].append(mse_mv)\n",
    "res_dict['RMSE'].append(rmse_mv)"
   ]
  },
  {
   "cell_type": "code",
   "execution_count": 112,
   "metadata": {},
   "outputs": [
    {
     "data": {
      "text/html": [
       "<div>\n",
       "<style scoped>\n",
       "    .dataframe tbody tr th:only-of-type {\n",
       "        vertical-align: middle;\n",
       "    }\n",
       "\n",
       "    .dataframe tbody tr th {\n",
       "        vertical-align: top;\n",
       "    }\n",
       "\n",
       "    .dataframe thead th {\n",
       "        text-align: right;\n",
       "    }\n",
       "</style>\n",
       "<table border=\"1\" class=\"dataframe\">\n",
       "  <thead>\n",
       "    <tr style=\"text-align: right;\">\n",
       "      <th></th>\n",
       "      <th>model</th>\n",
       "      <th>type</th>\n",
       "      <th>period</th>\n",
       "      <th>MAE</th>\n",
       "      <th>MAPE</th>\n",
       "      <th>MSE</th>\n",
       "      <th>RMSE</th>\n",
       "    </tr>\n",
       "  </thead>\n",
       "  <tbody>\n",
       "    <tr>\n",
       "      <th>0</th>\n",
       "      <td>LSTM</td>\n",
       "      <td>univariate</td>\n",
       "      <td>1</td>\n",
       "      <td>16.756301</td>\n",
       "      <td>0.010146</td>\n",
       "      <td>379.466848</td>\n",
       "      <td>19.479909</td>\n",
       "    </tr>\n",
       "    <tr>\n",
       "      <th>1</th>\n",
       "      <td>LSTM</td>\n",
       "      <td>univariate</td>\n",
       "      <td>2</td>\n",
       "      <td>39.309834</td>\n",
       "      <td>0.022429</td>\n",
       "      <td>2494.514635</td>\n",
       "      <td>49.945116</td>\n",
       "    </tr>\n",
       "    <tr>\n",
       "      <th>2</th>\n",
       "      <td>LSTM</td>\n",
       "      <td>univariate</td>\n",
       "      <td>3</td>\n",
       "      <td>19.614950</td>\n",
       "      <td>0.010889</td>\n",
       "      <td>588.041572</td>\n",
       "      <td>24.249568</td>\n",
       "    </tr>\n",
       "    <tr>\n",
       "      <th>3</th>\n",
       "      <td>LSTM</td>\n",
       "      <td>multivariate</td>\n",
       "      <td>1</td>\n",
       "      <td>14.572422</td>\n",
       "      <td>0.008797</td>\n",
       "      <td>331.833339</td>\n",
       "      <td>18.216293</td>\n",
       "    </tr>\n",
       "    <tr>\n",
       "      <th>4</th>\n",
       "      <td>LSTM</td>\n",
       "      <td>multivariate</td>\n",
       "      <td>2</td>\n",
       "      <td>31.967847</td>\n",
       "      <td>0.018299</td>\n",
       "      <td>1512.037926</td>\n",
       "      <td>38.884932</td>\n",
       "    </tr>\n",
       "    <tr>\n",
       "      <th>5</th>\n",
       "      <td>LSTM</td>\n",
       "      <td>multivariate</td>\n",
       "      <td>3</td>\n",
       "      <td>29.222317</td>\n",
       "      <td>0.016223</td>\n",
       "      <td>1105.605814</td>\n",
       "      <td>33.250651</td>\n",
       "    </tr>\n",
       "  </tbody>\n",
       "</table>\n",
       "</div>"
      ],
      "text/plain": [
       "  model          type  period        MAE      MAPE          MSE       RMSE\n",
       "0  LSTM    univariate       1  16.756301  0.010146   379.466848  19.479909\n",
       "1  LSTM    univariate       2  39.309834  0.022429  2494.514635  49.945116\n",
       "2  LSTM    univariate       3  19.614950  0.010889   588.041572  24.249568\n",
       "3  LSTM  multivariate       1  14.572422  0.008797   331.833339  18.216293\n",
       "4  LSTM  multivariate       2  31.967847  0.018299  1512.037926  38.884932\n",
       "5  LSTM  multivariate       3  29.222317  0.016223  1105.605814  33.250651"
      ]
     },
     "execution_count": 112,
     "metadata": {},
     "output_type": "execute_result"
    }
   ],
   "source": [
    "pd.DataFrame(res_dict)"
   ]
  },
  {
   "cell_type": "code",
   "execution_count": 113,
   "metadata": {},
   "outputs": [
    {
     "data": {
      "text/plain": [
       "Text(0.5, 0, 'Date')"
      ]
     },
     "execution_count": 113,
     "metadata": {},
     "output_type": "execute_result"
    },
    {
     "data": {
      "image/png": "[encoded data removed]",
      "text/plain": [
       "<Figure size 1200x400 with 1 Axes>"
      ]
     },
     "metadata": {},
     "output_type": "display_data"
    }
   ],
   "source": [
    "p1 = pd.DataFrame(mvhat_inv_p1)\n",
    "p1.index = df.iloc[-60:-40].index\n",
    "p2 = pd.DataFrame(mvhat_inv_p2)\n",
    "p2.index = df.iloc[-40:-20].index\n",
    "p3 = pd.DataFrame(mvhat_inv_p3)\n",
    "p3.index = df.iloc[-20:].index\n",
    "\n",
    "fig, ax = plt.subplots(figsize=(12,4))\n",
    "plt.plot(df.iloc[-150:].index, df.iloc[-150:].Gold)\n",
    "plt.plot(p1.index, p1[0], linestyle='--')\n",
    "plt.plot(p2.index, p2[0], linestyle='--')\n",
    "plt.plot(p3.index, p3[0], linestyle='--')\n",
    "plt.title('LSTM - All forecasts - Multivariate', fontsize=20)\n",
    "plt.ylabel('Price')\n",
    "plt.xlabel('Date')"
   ]
  },
  {
   "attachments": {},
   "cell_type": "markdown",
   "metadata": {},
   "source": [
    "---\n",
    "# Diebold-Mariano\n"
   ]
  },
  {
   "cell_type": "code",
   "execution_count": 114,
   "metadata": {},
   "outputs": [],
   "source": [
    "from dieboldmariano import dm_test"
   ]
  },
  {
   "cell_type": "code",
   "execution_count": 115,
   "metadata": {},
   "outputs": [
    {
     "data": {
      "text/plain": [
       "(0.5055315956380041, 0.6189998502815864)"
      ]
     },
     "execution_count": 115,
     "metadata": {},
     "output_type": "execute_result"
    }
   ],
   "source": [
    "# period 1\n",
    "\n",
    "dm_test(list(df.iloc[-60:-40].Gold), list(uhat_inv_p1.reshape(1,-1)[0]), list(mvhat_inv_p1.reshape(1,-1)[0]))"
   ]
  },
  {
   "cell_type": "code",
   "execution_count": 116,
   "metadata": {},
   "outputs": [
    {
     "data": {
      "text/plain": [
       "(1.68201591762803, 0.10892871632889921)"
      ]
     },
     "execution_count": 116,
     "metadata": {},
     "output_type": "execute_result"
    }
   ],
   "source": [
    "# period 2\n",
    "dm_test(list(df.iloc[-40:-20].Gold), list(uhat_inv_p2.reshape(1,-1)[0]), list(mvhat_inv_p2.reshape(1,-1)[0]))"
   ]
  },
  {
   "cell_type": "code",
   "execution_count": 117,
   "metadata": {},
   "outputs": [
    {
     "data": {
      "text/plain": [
       "(-2.9669296745524694, 0.00792029820324772)"
      ]
     },
     "execution_count": 117,
     "metadata": {},
     "output_type": "execute_result"
    }
   ],
   "source": [
    "dm_test(list(df.iloc[-20:].Gold), list(uhat_inv_p3.reshape(1,-1)[0]), list(mvhat_inv_p3.reshape(1,-1)[0]))"
   ]
  },
  {
   "cell_type": "code",
   "execution_count": null,
   "metadata": {},
   "outputs": [],
   "source": []
  }
 ],
 "metadata": {
  "kernelspec": {
   "display_name": "thesis",
   "language": "python",
   "name": "python3"
  },
  "language_info": {
   "codemirror_mode": {
    "name": "ipython",
    "version": 3
   },
   "file_extension": ".py",
   "mimetype": "text/x-python",
   "name": "python",
   "nbconvert_exporter": "python",
   "pygments_lexer": "ipython3",
   "version": "3.7.13"
  },
  "orig_nbformat": 4
 },
 "nbformat": 4,
 "nbformat_minor": 2
}
