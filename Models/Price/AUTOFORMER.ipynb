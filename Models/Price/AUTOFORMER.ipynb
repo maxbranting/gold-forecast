{
 "cells": [
  {
   "cell_type": "code",
   "execution_count": 1,
   "metadata": {},
   "outputs": [
    {
     "name": "stderr",
     "output_type": "stream",
     "text": [
      "c:\\Users\\maxim\\Documents\\GitHub\\gold-forecast\\venv\\lib\\site-packages\\pytorch_forecasting\\models\\base_model.py:30: TqdmWarning: IProgress not found. Please update jupyter and ipywidgets. See https://ipywidgets.readthedocs.io/en/stable/user_install.html\n",
      "  from tqdm.autonotebook import tqdm\n"
     ]
    }
   ],
   "source": [
    "import pandas as pd\n",
    "import numpy as np\n",
    "import matplotlib.pyplot as plt\n",
    "import seaborn as sns\n",
    "\n",
    "from pytorch_forecasting import Baseline, TemporalFusionTransformer, TimeSeriesDataSet\n",
    "from pytorch_forecasting.data import GroupNormalizer, NaNLabelEncoder\n",
    "from pytorch_forecasting.metrics import SMAPE, PoissonLoss, QuantileLoss\n",
    "from pytorch_forecasting.models.temporal_fusion_transformer.tuning import optimize_hyperparameters\n",
    "\n",
    "import tensorflow as tf\n",
    "import tensorboard as tb"
   ]
  },
  {
   "cell_type": "code",
   "execution_count": 2,
   "metadata": {},
   "outputs": [],
   "source": [
    "df = pd.read_csv(r'C:\\Users\\maxim\\Documents\\GitHub\\gold-forecast\\data\\data_nominal_clean.csv', sep=';',  index_col='date',  parse_dates=['date'])"
   ]
  },
  {
   "cell_type": "code",
   "execution_count": 3,
   "metadata": {},
   "outputs": [
    {
     "data": {
      "text/plain": [
       "Index(['Gold', 'CrudeOil', 'S&P500', 'FTSE250'], dtype='object')"
      ]
     },
     "execution_count": 3,
     "metadata": {},
     "output_type": "execute_result"
    }
   ],
   "source": [
    "df.columns"
   ]
  },
  {
   "cell_type": "code",
   "execution_count": 6,
   "metadata": {},
   "outputs": [
    {
     "data": {
      "text/html": [
       "<div>\n",
       "<style scoped>\n",
       "    .dataframe tbody tr th:only-of-type {\n",
       "        vertical-align: middle;\n",
       "    }\n",
       "\n",
       "    .dataframe tbody tr th {\n",
       "        vertical-align: top;\n",
       "    }\n",
       "\n",
       "    .dataframe thead th {\n",
       "        text-align: right;\n",
       "    }\n",
       "</style>\n",
       "<table border=\"1\" class=\"dataframe\">\n",
       "  <thead>\n",
       "    <tr style=\"text-align: right;\">\n",
       "      <th></th>\n",
       "      <th>CrudeOil</th>\n",
       "      <th>S&amp;P500</th>\n",
       "      <th>FTSE250</th>\n",
       "      <th>Gold</th>\n",
       "    </tr>\n",
       "    <tr>\n",
       "      <th>date</th>\n",
       "      <th></th>\n",
       "      <th></th>\n",
       "      <th></th>\n",
       "      <th></th>\n",
       "    </tr>\n",
       "  </thead>\n",
       "  <tbody>\n",
       "    <tr>\n",
       "      <th>1986-01-30</th>\n",
       "      <td>25.56</td>\n",
       "      <td>209.59</td>\n",
       "      <td>1417.26</td>\n",
       "      <td>358.00</td>\n",
       "    </tr>\n",
       "    <tr>\n",
       "      <th>1986-01-31</th>\n",
       "      <td>26.00</td>\n",
       "      <td>210.88</td>\n",
       "      <td>1424.61</td>\n",
       "      <td>350.50</td>\n",
       "    </tr>\n",
       "    <tr>\n",
       "      <th>1986-02-03</th>\n",
       "      <td>26.53</td>\n",
       "      <td>210.65</td>\n",
       "      <td>1430.96</td>\n",
       "      <td>347.30</td>\n",
       "    </tr>\n",
       "    <tr>\n",
       "      <th>1986-02-04</th>\n",
       "      <td>25.85</td>\n",
       "      <td>213.80</td>\n",
       "      <td>1421.22</td>\n",
       "      <td>338.60</td>\n",
       "    </tr>\n",
       "    <tr>\n",
       "      <th>1986-02-05</th>\n",
       "      <td>25.87</td>\n",
       "      <td>207.97</td>\n",
       "      <td>1408.79</td>\n",
       "      <td>337.30</td>\n",
       "    </tr>\n",
       "    <tr>\n",
       "      <th>...</th>\n",
       "      <td>...</td>\n",
       "      <td>...</td>\n",
       "      <td>...</td>\n",
       "      <td>...</td>\n",
       "    </tr>\n",
       "    <tr>\n",
       "      <th>2022-12-30</th>\n",
       "      <td>80.48</td>\n",
       "      <td>4080.11</td>\n",
       "      <td>19163.33</td>\n",
       "      <td>1813.75</td>\n",
       "    </tr>\n",
       "    <tr>\n",
       "      <th>2023-01-03</th>\n",
       "      <td>81.06</td>\n",
       "      <td>4076.57</td>\n",
       "      <td>19409.42</td>\n",
       "      <td>1843.25</td>\n",
       "    </tr>\n",
       "    <tr>\n",
       "      <th>2023-01-04</th>\n",
       "      <td>79.86</td>\n",
       "      <td>4071.70</td>\n",
       "      <td>19363.28</td>\n",
       "      <td>1857.30</td>\n",
       "    </tr>\n",
       "    <tr>\n",
       "      <th>2023-01-05</th>\n",
       "      <td>76.83</td>\n",
       "      <td>3998.84</td>\n",
       "      <td>19329.58</td>\n",
       "      <td>1834.00</td>\n",
       "    </tr>\n",
       "    <tr>\n",
       "      <th>2023-01-06</th>\n",
       "      <td>74.21</td>\n",
       "      <td>3941.26</td>\n",
       "      <td>19100.08</td>\n",
       "      <td>1852.20</td>\n",
       "    </tr>\n",
       "  </tbody>\n",
       "</table>\n",
       "<p>9129 rows × 4 columns</p>\n",
       "</div>"
      ],
      "text/plain": [
       "            CrudeOil   S&P500   FTSE250     Gold\n",
       "date                                            \n",
       "1986-01-30     25.56   209.59   1417.26   358.00\n",
       "1986-01-31     26.00   210.88   1424.61   350.50\n",
       "1986-02-03     26.53   210.65   1430.96   347.30\n",
       "1986-02-04     25.85   213.80   1421.22   338.60\n",
       "1986-02-05     25.87   207.97   1408.79   337.30\n",
       "...              ...      ...       ...      ...\n",
       "2022-12-30     80.48  4080.11  19163.33  1813.75\n",
       "2023-01-03     81.06  4076.57  19409.42  1843.25\n",
       "2023-01-04     79.86  4071.70  19363.28  1857.30\n",
       "2023-01-05     76.83  3998.84  19329.58  1834.00\n",
       "2023-01-06     74.21  3941.26  19100.08  1852.20\n",
       "\n",
       "[9129 rows x 4 columns]"
      ]
     },
     "execution_count": 6,
     "metadata": {},
     "output_type": "execute_result"
    }
   ],
   "source": [
    "dataset = df[['CrudeOil', 'S&P500', 'FTSE250']].shift(20)\n",
    "dataset['Gold'] = df['Gold']\n",
    "dataset.dropna(inplace=True)\n",
    "dataset"
   ]
  },
  {
   "cell_type": "code",
   "execution_count": 7,
   "metadata": {},
   "outputs": [],
   "source": [
    "train = dataset.iloc[:-20]\n",
    "test = dataset.iloc[-20:]"
   ]
  },
  {
   "cell_type": "code",
   "execution_count": null,
   "metadata": {},
   "outputs": [],
   "source": []
  },
  {
   "cell_type": "code",
   "execution_count": null,
   "metadata": {},
   "outputs": [],
   "source": []
  },
  {
   "cell_type": "code",
   "execution_count": null,
   "metadata": {},
   "outputs": [],
   "source": [
    "tft = TemporalFusionTransformer.from_dataset(training,\n",
    "                                             learning_rate = )"
   ]
  }
 ],
 "metadata": {
  "kernelspec": {
   "display_name": "venv",
   "language": "python",
   "name": "python3"
  },
  "language_info": {
   "codemirror_mode": {
    "name": "ipython",
    "version": 3
   },
   "file_extension": ".py",
   "mimetype": "text/x-python",
   "name": "python",
   "nbconvert_exporter": "python",
   "pygments_lexer": "ipython3",
   "version": "3.10.5"
  },
  "orig_nbformat": 4
 },
 "nbformat": 4,
 "nbformat_minor": 2
}
