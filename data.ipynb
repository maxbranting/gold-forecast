{
 "cells": [
  {
   "cell_type": "markdown",
   "metadata": {},
   "source": [
    "# Data download"
   ]
  },
  {
   "cell_type": "code",
   "execution_count": 1,
   "metadata": {},
   "outputs": [],
   "source": [
    "import yfinance as yf\n",
    "import pandas as pd\n",
    "import os"
   ]
  },
  {
   "cell_type": "code",
   "execution_count": null,
   "metadata": {},
   "outputs": [],
   "source": [
    "def pull_stock_data(tickers:str, start:str, end:str, interval:str, stripdateindex:str, column:str) -> pd.DataFrame:\n",
    "    \"\"\"\n",
    "    Returns a dataframe with chosen stock information for last day of the month.\n",
    "\n",
    "    Parameters:\n",
    "    -------------\n",
    "    tickers (str): Yahoo finance tickers for companies divided ONLY by single space\n",
    "    start (str): start date of the period (format yyyy-mm-dd)\n",
    "    end (str): end date of the period (format yyyy-mm-dd)\n",
    "    interval (str): wanted interval (1d, 1m, 1y)\n",
    "    stripdateindex (str): argument for stripping datetime index down (d - day, m - month, y- year)\n",
    "    columns (list): list of wanted values, args same as in yahoo finance\n",
    "    \"\"\"\n",
    "    # data download\n",
    "    df = yf.download(tickers = tickers, start = start, end = end, interval = interval, groupby = 'ticker')\n",
    "    # changing index from datetime to just year and month\n",
    "    df['Date'] = df.index\n",
    "    dfg = df.groupby([df.index.year, df.index.month], as_index=False).last()\n",
    "    dfg.reset_index(inplace=True, drop=True)\n",
    "    dfg.set_index('Date', inplace=True)\n",
    "    dfg.index = pd.to_datetime(dfg.index).to_period(stripdateindex)\n",
    "    # dropping na rows\n",
    "    dfg.dropna(inplace = True)\n",
    "    return dfg[column]\n",
    "\n",
    "    \n",
    "def save_to_desktop(dataframe:pd.DataFrame, file_name:str):\n",
    "    \"\"\"\n",
    "    Saves dataframe to desktop in csv format under filename provided\n",
    "\n",
    "    Parameters:\n",
    "    ------------\n",
    "    dataframe (pd.DataFrame): dataframe that is to be saved\n",
    "    file_name (str): name of the file\n",
    "    \"\"\"\n",
    "    # defining path to desktop on running unit\n",
    "    desktop = os.path.join(os.path.join(os.environ['USERPROFILE']), 'Desktop')\n",
    "    # saving file under chosen name on desktop\n",
    "    dataframe.to_csv(desktop+'/'+file_name+'.csv', sep=';')"
   ]
  },
  {
   "cell_type": "code",
   "execution_count": null,
   "metadata": {},
   "outputs": [],
   "source": [
    "tick = \"GC=F CL=F SPY ^FTSE\"\n",
    "st = '2000-12-01'\n",
    "en = '2020-12-31'\n",
    "intv = '1d'\n",
    "strpdt = 'd'\n",
    "col = 'Close'\n",
    "\n",
    "df = yf.download(tickers = tickers, start = start, end = end, interval = interval, groupby = 'ticker')"
   ]
  }
 ],
 "metadata": {
  "kernelspec": {
   "display_name": "Python 3.10.5 ('venv': venv)",
   "language": "python",
   "name": "python3"
  },
  "language_info": {
   "codemirror_mode": {
    "name": "ipython",
    "version": 3
   },
   "file_extension": ".py",
   "mimetype": "text/x-python",
   "name": "python",
   "nbconvert_exporter": "python",
   "pygments_lexer": "ipython3",
   "version": "3.10.5"
  },
  "orig_nbformat": 4,
  "vscode": {
   "interpreter": {
    "hash": "621441a629e9c482948944143c8c3ac7168518441497fcae3885c5869be7225c"
   }
  }
 },
 "nbformat": 4,
 "nbformat_minor": 2
}
